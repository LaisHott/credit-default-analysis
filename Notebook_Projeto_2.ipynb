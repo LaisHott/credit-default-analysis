{
  "cells": [
    {
      "cell_type": "markdown",
      "metadata": {
        "id": "view-in-github",
        "colab_type": "text"
      },
      "source": [
        "<a href=\"https://colab.research.google.com/github/LaisHott/credit-default-analysis/blob/main/Notebook_Projeto_2.ipynb\" target=\"_parent\"><img src=\"https://colab.research.google.com/assets/colab-badge.svg\" alt=\"Open In Colab\"/></a>"
      ]
    },
    {
      "cell_type": "markdown",
      "metadata": {
        "id": "FNgWA_YYePFr"
      },
      "source": [
        "# Análise do risco de inadimplência dos mutuários\n",
        "\n",
        "Seu projeto é preparar um relatório para a divisão de empréstimos de um banco. Você precisará descobrir se o estado civil de um cliente e o número de filhos têm impacto sobre se ele deixará de pagar um empréstimo. O banco já tem alguns dados sobre a capacidade de crédito dos clientes.\n",
        "\n",
        "Seu relatório será considerado ao construir a **pontuação de crédito** de um cliente em potencial. A **pontuação de crédito** é usada para avaliar a capacidade de um devedor em potencial de pagar seu empréstimo.\n",
        "\n",
        "- O propósito do projeto é desenvolver uma pontuação de crédito para avaliar a capacidade de um devedor em potencial de pagar um empréstimo. Com base nisso, as seguintes hipóteses serão testadas:\n",
        "    - Hipótese 1 - Estado Civil e Inadimplência: Acredita-se que o estado civil de um cliente possa influenciar sua probabilidade de inadimplência em um empréstimo. Será investigado se existem diferenças significativas na taxa de inadimplência entre clientes solteiros, casados, divorciados e viúvos.\n",
        "    - Hipótese 2 - Número de Filhos e Inadimplência: Suspeita-se que o número de filhos de um cliente possa afetar sua capacidade de pagar em dia um empréstimo. Será analisado se há uma relação entre o número de filhos e a taxa de inadimplência, explorando se clientes com mais filhos têm uma probabilidade maior de inadimplência.\n",
        "- Essas hipóteses serão testadas usando análise de dados, como agrupamentos, cálculos de taxa de inadimplência e comparações entre grupos. Com base nos resultados, será possível desenvolver um modelo preditivo que leve em consideração o estado civil e o número de filhos de um cliente para prever a probabilidade de inadimplência. O relatório final será fornecido à divisão de empréstimos do banco."
      ]
    },
    {
      "cell_type": "markdown",
      "metadata": {
        "id": "xOXgfv7YePFs"
      },
      "source": [
        "## Abra o arquivo de dados e veja a informação geral."
      ]
    },
    {
      "cell_type": "code",
      "execution_count": null,
      "metadata": {
        "id": "FxK2xJ9FePFs"
      },
      "outputs": [],
      "source": [
        "# Carregando todas as bibliotecas\n",
        "import pandas as pd\n",
        "import numpy as np"
      ]
    },
    {
      "cell_type": "code",
      "execution_count": null,
      "metadata": {
        "id": "LCofKhBTePFt",
        "outputId": "31db4858-af38-48fc-ff56-09d78561dab0"
      },
      "outputs": [
        {
          "data": {
            "text/html": [
              "<div>\n",
              "<style scoped>\n",
              "    .dataframe tbody tr th:only-of-type {\n",
              "        vertical-align: middle;\n",
              "    }\n",
              "\n",
              "    .dataframe tbody tr th {\n",
              "        vertical-align: top;\n",
              "    }\n",
              "\n",
              "    .dataframe thead th {\n",
              "        text-align: right;\n",
              "    }\n",
              "</style>\n",
              "<table border=\"1\" class=\"dataframe\">\n",
              "  <thead>\n",
              "    <tr style=\"text-align: right;\">\n",
              "      <th></th>\n",
              "      <th>children</th>\n",
              "      <th>days_employed</th>\n",
              "      <th>dob_years</th>\n",
              "      <th>education</th>\n",
              "      <th>education_id</th>\n",
              "      <th>family_status</th>\n",
              "      <th>family_status_id</th>\n",
              "      <th>gender</th>\n",
              "      <th>income_type</th>\n",
              "      <th>debt</th>\n",
              "      <th>total_income</th>\n",
              "      <th>purpose</th>\n",
              "    </tr>\n",
              "  </thead>\n",
              "  <tbody>\n",
              "    <tr>\n",
              "      <th>0</th>\n",
              "      <td>1</td>\n",
              "      <td>-8437.673028</td>\n",
              "      <td>42</td>\n",
              "      <td>bachelor's degree</td>\n",
              "      <td>0</td>\n",
              "      <td>married</td>\n",
              "      <td>0</td>\n",
              "      <td>F</td>\n",
              "      <td>employee</td>\n",
              "      <td>0</td>\n",
              "      <td>40620.102</td>\n",
              "      <td>purchase of the house</td>\n",
              "    </tr>\n",
              "    <tr>\n",
              "      <th>1</th>\n",
              "      <td>1</td>\n",
              "      <td>-4024.803754</td>\n",
              "      <td>36</td>\n",
              "      <td>secondary education</td>\n",
              "      <td>1</td>\n",
              "      <td>married</td>\n",
              "      <td>0</td>\n",
              "      <td>F</td>\n",
              "      <td>employee</td>\n",
              "      <td>0</td>\n",
              "      <td>17932.802</td>\n",
              "      <td>car purchase</td>\n",
              "    </tr>\n",
              "    <tr>\n",
              "      <th>2</th>\n",
              "      <td>0</td>\n",
              "      <td>-5623.422610</td>\n",
              "      <td>33</td>\n",
              "      <td>Secondary Education</td>\n",
              "      <td>1</td>\n",
              "      <td>married</td>\n",
              "      <td>0</td>\n",
              "      <td>M</td>\n",
              "      <td>employee</td>\n",
              "      <td>0</td>\n",
              "      <td>23341.752</td>\n",
              "      <td>purchase of the house</td>\n",
              "    </tr>\n",
              "    <tr>\n",
              "      <th>3</th>\n",
              "      <td>3</td>\n",
              "      <td>-4124.747207</td>\n",
              "      <td>32</td>\n",
              "      <td>secondary education</td>\n",
              "      <td>1</td>\n",
              "      <td>married</td>\n",
              "      <td>0</td>\n",
              "      <td>M</td>\n",
              "      <td>employee</td>\n",
              "      <td>0</td>\n",
              "      <td>42820.568</td>\n",
              "      <td>supplementary education</td>\n",
              "    </tr>\n",
              "    <tr>\n",
              "      <th>4</th>\n",
              "      <td>0</td>\n",
              "      <td>340266.072047</td>\n",
              "      <td>53</td>\n",
              "      <td>secondary education</td>\n",
              "      <td>1</td>\n",
              "      <td>civil partnership</td>\n",
              "      <td>1</td>\n",
              "      <td>F</td>\n",
              "      <td>retiree</td>\n",
              "      <td>0</td>\n",
              "      <td>25378.572</td>\n",
              "      <td>to have a wedding</td>\n",
              "    </tr>\n",
              "    <tr>\n",
              "      <th>...</th>\n",
              "      <td>...</td>\n",
              "      <td>...</td>\n",
              "      <td>...</td>\n",
              "      <td>...</td>\n",
              "      <td>...</td>\n",
              "      <td>...</td>\n",
              "      <td>...</td>\n",
              "      <td>...</td>\n",
              "      <td>...</td>\n",
              "      <td>...</td>\n",
              "      <td>...</td>\n",
              "      <td>...</td>\n",
              "    </tr>\n",
              "    <tr>\n",
              "      <th>21520</th>\n",
              "      <td>1</td>\n",
              "      <td>-4529.316663</td>\n",
              "      <td>43</td>\n",
              "      <td>secondary education</td>\n",
              "      <td>1</td>\n",
              "      <td>civil partnership</td>\n",
              "      <td>1</td>\n",
              "      <td>F</td>\n",
              "      <td>business</td>\n",
              "      <td>0</td>\n",
              "      <td>35966.698</td>\n",
              "      <td>housing transactions</td>\n",
              "    </tr>\n",
              "    <tr>\n",
              "      <th>21521</th>\n",
              "      <td>0</td>\n",
              "      <td>343937.404131</td>\n",
              "      <td>67</td>\n",
              "      <td>secondary education</td>\n",
              "      <td>1</td>\n",
              "      <td>married</td>\n",
              "      <td>0</td>\n",
              "      <td>F</td>\n",
              "      <td>retiree</td>\n",
              "      <td>0</td>\n",
              "      <td>24959.969</td>\n",
              "      <td>purchase of a car</td>\n",
              "    </tr>\n",
              "    <tr>\n",
              "      <th>21522</th>\n",
              "      <td>1</td>\n",
              "      <td>-2113.346888</td>\n",
              "      <td>38</td>\n",
              "      <td>secondary education</td>\n",
              "      <td>1</td>\n",
              "      <td>civil partnership</td>\n",
              "      <td>1</td>\n",
              "      <td>M</td>\n",
              "      <td>employee</td>\n",
              "      <td>1</td>\n",
              "      <td>14347.610</td>\n",
              "      <td>property</td>\n",
              "    </tr>\n",
              "    <tr>\n",
              "      <th>21523</th>\n",
              "      <td>3</td>\n",
              "      <td>-3112.481705</td>\n",
              "      <td>38</td>\n",
              "      <td>secondary education</td>\n",
              "      <td>1</td>\n",
              "      <td>married</td>\n",
              "      <td>0</td>\n",
              "      <td>M</td>\n",
              "      <td>employee</td>\n",
              "      <td>1</td>\n",
              "      <td>39054.888</td>\n",
              "      <td>buying my own car</td>\n",
              "    </tr>\n",
              "    <tr>\n",
              "      <th>21524</th>\n",
              "      <td>2</td>\n",
              "      <td>-1984.507589</td>\n",
              "      <td>40</td>\n",
              "      <td>secondary education</td>\n",
              "      <td>1</td>\n",
              "      <td>married</td>\n",
              "      <td>0</td>\n",
              "      <td>F</td>\n",
              "      <td>employee</td>\n",
              "      <td>0</td>\n",
              "      <td>13127.587</td>\n",
              "      <td>to buy a car</td>\n",
              "    </tr>\n",
              "  </tbody>\n",
              "</table>\n",
              "<p>21525 rows × 12 columns</p>\n",
              "</div>"
            ],
            "text/plain": [
              "       children  days_employed  dob_years            education  education_id  \\\n",
              "0             1   -8437.673028         42    bachelor's degree             0   \n",
              "1             1   -4024.803754         36  secondary education             1   \n",
              "2             0   -5623.422610         33  Secondary Education             1   \n",
              "3             3   -4124.747207         32  secondary education             1   \n",
              "4             0  340266.072047         53  secondary education             1   \n",
              "...         ...            ...        ...                  ...           ...   \n",
              "21520         1   -4529.316663         43  secondary education             1   \n",
              "21521         0  343937.404131         67  secondary education             1   \n",
              "21522         1   -2113.346888         38  secondary education             1   \n",
              "21523         3   -3112.481705         38  secondary education             1   \n",
              "21524         2   -1984.507589         40  secondary education             1   \n",
              "\n",
              "           family_status  family_status_id gender income_type  debt  \\\n",
              "0                married                 0      F    employee     0   \n",
              "1                married                 0      F    employee     0   \n",
              "2                married                 0      M    employee     0   \n",
              "3                married                 0      M    employee     0   \n",
              "4      civil partnership                 1      F     retiree     0   \n",
              "...                  ...               ...    ...         ...   ...   \n",
              "21520  civil partnership                 1      F    business     0   \n",
              "21521            married                 0      F     retiree     0   \n",
              "21522  civil partnership                 1      M    employee     1   \n",
              "21523            married                 0      M    employee     1   \n",
              "21524            married                 0      F    employee     0   \n",
              "\n",
              "       total_income                  purpose  \n",
              "0         40620.102    purchase of the house  \n",
              "1         17932.802             car purchase  \n",
              "2         23341.752    purchase of the house  \n",
              "3         42820.568  supplementary education  \n",
              "4         25378.572        to have a wedding  \n",
              "...             ...                      ...  \n",
              "21520     35966.698     housing transactions  \n",
              "21521     24959.969        purchase of a car  \n",
              "21522     14347.610                 property  \n",
              "21523     39054.888        buying my own car  \n",
              "21524     13127.587             to buy a car  \n",
              "\n",
              "[21525 rows x 12 columns]"
            ]
          },
          "execution_count": 44,
          "metadata": {},
          "output_type": "execute_result"
        }
      ],
      "source": [
        "# Carregue os dados\n",
        "dados = pd.read_csv('credit_scoring_eng.csv')\n",
        "dados"
      ]
    },
    {
      "cell_type": "markdown",
      "metadata": {
        "id": "nB6u94kxePFv"
      },
      "source": [
        "## Tarefa 1. Exploração de dados\n",
        "\n",
        "**Descrição dos dados**\n",
        "- `children` - o número de crianças na família\n",
        "- `days_employed` - experiência de trabalho em dias\n",
        "- `dob_years` - idade do cliente em anos\n",
        "- `education` - educação do cliente\n",
        "- `education_id` - identificador de educação\n",
        "- `family_status` - estado civil do cliente\n",
        "- `family_status_id` - identificador de estado civil\n",
        "- `gender` - gênero do cliente\n",
        "- `income_type` - tipo de emprego\n",
        "- `debt` - havia alguma dívida no pagamento do empréstimo\n",
        "- `total_income` - renda mensal\n",
        "- `purpose` - o objetivo de obter um empréstimo"
      ]
    },
    {
      "cell_type": "code",
      "execution_count": null,
      "metadata": {
        "id": "u7aPZoveePFw",
        "outputId": "ecd8fb17-bcdf-403a-8f77-0141e8c16865"
      },
      "outputs": [
        {
          "data": {
            "text/plain": [
              "(21525, 12)"
            ]
          },
          "execution_count": 45,
          "metadata": {},
          "output_type": "execute_result"
        }
      ],
      "source": [
        "# Vamos ver quantas linhas e colunas nosso conjunto de dados tem\n",
        "dados.shape"
      ]
    },
    {
      "cell_type": "code",
      "execution_count": null,
      "metadata": {
        "scrolled": true,
        "id": "5hI2jwm7ePFw",
        "outputId": "66a3fc54-256f-409d-d056-024f86a7b2a4"
      },
      "outputs": [
        {
          "data": {
            "text/html": [
              "<div>\n",
              "<style scoped>\n",
              "    .dataframe tbody tr th:only-of-type {\n",
              "        vertical-align: middle;\n",
              "    }\n",
              "\n",
              "    .dataframe tbody tr th {\n",
              "        vertical-align: top;\n",
              "    }\n",
              "\n",
              "    .dataframe thead th {\n",
              "        text-align: right;\n",
              "    }\n",
              "</style>\n",
              "<table border=\"1\" class=\"dataframe\">\n",
              "  <thead>\n",
              "    <tr style=\"text-align: right;\">\n",
              "      <th></th>\n",
              "      <th>children</th>\n",
              "      <th>days_employed</th>\n",
              "      <th>dob_years</th>\n",
              "      <th>education</th>\n",
              "      <th>education_id</th>\n",
              "      <th>family_status</th>\n",
              "      <th>family_status_id</th>\n",
              "      <th>gender</th>\n",
              "      <th>income_type</th>\n",
              "      <th>debt</th>\n",
              "      <th>total_income</th>\n",
              "      <th>purpose</th>\n",
              "    </tr>\n",
              "  </thead>\n",
              "  <tbody>\n",
              "    <tr>\n",
              "      <th>0</th>\n",
              "      <td>1</td>\n",
              "      <td>-8437.673028</td>\n",
              "      <td>42</td>\n",
              "      <td>bachelor's degree</td>\n",
              "      <td>0</td>\n",
              "      <td>married</td>\n",
              "      <td>0</td>\n",
              "      <td>F</td>\n",
              "      <td>employee</td>\n",
              "      <td>0</td>\n",
              "      <td>40620.102</td>\n",
              "      <td>purchase of the house</td>\n",
              "    </tr>\n",
              "    <tr>\n",
              "      <th>1</th>\n",
              "      <td>1</td>\n",
              "      <td>-4024.803754</td>\n",
              "      <td>36</td>\n",
              "      <td>secondary education</td>\n",
              "      <td>1</td>\n",
              "      <td>married</td>\n",
              "      <td>0</td>\n",
              "      <td>F</td>\n",
              "      <td>employee</td>\n",
              "      <td>0</td>\n",
              "      <td>17932.802</td>\n",
              "      <td>car purchase</td>\n",
              "    </tr>\n",
              "    <tr>\n",
              "      <th>2</th>\n",
              "      <td>0</td>\n",
              "      <td>-5623.422610</td>\n",
              "      <td>33</td>\n",
              "      <td>Secondary Education</td>\n",
              "      <td>1</td>\n",
              "      <td>married</td>\n",
              "      <td>0</td>\n",
              "      <td>M</td>\n",
              "      <td>employee</td>\n",
              "      <td>0</td>\n",
              "      <td>23341.752</td>\n",
              "      <td>purchase of the house</td>\n",
              "    </tr>\n",
              "    <tr>\n",
              "      <th>3</th>\n",
              "      <td>3</td>\n",
              "      <td>-4124.747207</td>\n",
              "      <td>32</td>\n",
              "      <td>secondary education</td>\n",
              "      <td>1</td>\n",
              "      <td>married</td>\n",
              "      <td>0</td>\n",
              "      <td>M</td>\n",
              "      <td>employee</td>\n",
              "      <td>0</td>\n",
              "      <td>42820.568</td>\n",
              "      <td>supplementary education</td>\n",
              "    </tr>\n",
              "    <tr>\n",
              "      <th>4</th>\n",
              "      <td>0</td>\n",
              "      <td>340266.072047</td>\n",
              "      <td>53</td>\n",
              "      <td>secondary education</td>\n",
              "      <td>1</td>\n",
              "      <td>civil partnership</td>\n",
              "      <td>1</td>\n",
              "      <td>F</td>\n",
              "      <td>retiree</td>\n",
              "      <td>0</td>\n",
              "      <td>25378.572</td>\n",
              "      <td>to have a wedding</td>\n",
              "    </tr>\n",
              "  </tbody>\n",
              "</table>\n",
              "</div>"
            ],
            "text/plain": [
              "   children  days_employed  dob_years            education  education_id  \\\n",
              "0         1   -8437.673028         42    bachelor's degree             0   \n",
              "1         1   -4024.803754         36  secondary education             1   \n",
              "2         0   -5623.422610         33  Secondary Education             1   \n",
              "3         3   -4124.747207         32  secondary education             1   \n",
              "4         0  340266.072047         53  secondary education             1   \n",
              "\n",
              "       family_status  family_status_id gender income_type  debt  total_income  \\\n",
              "0            married                 0      F    employee     0     40620.102   \n",
              "1            married                 0      F    employee     0     17932.802   \n",
              "2            married                 0      M    employee     0     23341.752   \n",
              "3            married                 0      M    employee     0     42820.568   \n",
              "4  civil partnership                 1      F     retiree     0     25378.572   \n",
              "\n",
              "                   purpose  \n",
              "0    purchase of the house  \n",
              "1             car purchase  \n",
              "2    purchase of the house  \n",
              "3  supplementary education  \n",
              "4        to have a wedding  "
            ]
          },
          "execution_count": 46,
          "metadata": {},
          "output_type": "execute_result"
        }
      ],
      "source": [
        "# vamos imprimir as primeiras N linhas\n",
        "dados.head()"
      ]
    },
    {
      "cell_type": "markdown",
      "metadata": {
        "id": "HXSsrlUTePFx"
      },
      "source": [
        "- Ao analisar a amostra de dados exibida, foram observados alguns pontos que podem exigir investigação e alterações adicionais:\n",
        "    - Valores negativos na coluna \"days_employed\": Foi identificado que existem valores negativos nessa coluna, que representam a quantidade de dias de trabalho. Essa situação é incomum, pois não deveria haver dias de trabalho negativos. Será necessário investigar a origem desses valores e corrigir possíveis erros de registro.\n",
        "    - Dados ausentes: Foi identificada a presença de dados ausentes em algumas colunas. Essa falta de informações pode afetar a precisão das análises e modelagem futura. Será importante investigar a razão pela qual esses dados estão faltando e decidir qual abordagem tomar para lidar com eles, como imputação de valores ou exclusão das linhas correspondentes.\n",
        "    - Nomes com grafias diferentes: Foi identificado que existem nomes semelhantes, mas com grafias diferentes. Isso pode dificultar a análise correta dos dados, especialmente quando se trata de agrupamento ou comparação de registros. Será necessário fazer uma verificação cuidadosa e padronizar os nomes para garantir a consistência dos dados."
      ]
    },
    {
      "cell_type": "markdown",
      "metadata": {
        "id": "XFJIFAuZePFx"
      },
      "source": [
        "- Temos 3 situações que requereram tratamento mais adiante:\n",
        "    - Valores de \"dob_years\" iguais a zero: Observei registros em que a idade do cliente (\"dob_years\") está registrada como zero. Isso pode indicar dados ausentes ou erros na coleta. Vamos identificar a origem desses valores e realizar imputação necessária com base em métodos como a mediana ou média das idades válidas.\n",
        "    - Valores muito altos em \"days_employed\": Foi observado que a coluna \"days_employed\" contém valores extremamente altos, que parecem ser inconsistentes com a realidade. Esses valores podem ser resultado de erros de digitação ou problemas na forma como os dados foram registrados. Vamos avaliar a origem desses valores e realizar correções ou remoção desses registros.\n",
        "    - Registros com número de filhos igual a -1 e 20: Foi identificado que alguns registros possuem um número de filhos igual a -1 ou 20. Esses valores podem ser considerados atípicos ou erros de digitação. Vamos investigar adiante a causa dessas inconsistências e decidir se os registros devem ser corrigidos, removidos ou tratados de alguma forma específica."
      ]
    },
    {
      "cell_type": "code",
      "execution_count": null,
      "metadata": {
        "scrolled": false,
        "id": "n8VFnq5fePFy",
        "outputId": "ddfe9721-0327-421d-af4c-260bc15526ae"
      },
      "outputs": [
        {
          "name": "stdout",
          "output_type": "stream",
          "text": [
            "<class 'pandas.core.frame.DataFrame'>\n",
            "RangeIndex: 21525 entries, 0 to 21524\n",
            "Data columns (total 12 columns):\n",
            " #   Column            Non-Null Count  Dtype  \n",
            "---  ------            --------------  -----  \n",
            " 0   children          21525 non-null  int64  \n",
            " 1   days_employed     19351 non-null  float64\n",
            " 2   dob_years         21525 non-null  int64  \n",
            " 3   education         21525 non-null  object \n",
            " 4   education_id      21525 non-null  int64  \n",
            " 5   family_status     21525 non-null  object \n",
            " 6   family_status_id  21525 non-null  int64  \n",
            " 7   gender            21525 non-null  object \n",
            " 8   income_type       21525 non-null  object \n",
            " 9   debt              21525 non-null  int64  \n",
            " 10  total_income      19351 non-null  float64\n",
            " 11  purpose           21525 non-null  object \n",
            "dtypes: float64(2), int64(5), object(5)\n",
            "memory usage: 2.0+ MB\n"
          ]
        }
      ],
      "source": [
        "# Obter informações sobre dados\n",
        "dados.info()"
      ]
    },
    {
      "cell_type": "markdown",
      "metadata": {
        "id": "CXqcjIA-ePFy"
      },
      "source": [
        "- Os valores ausentes estão presentes nas colunas \"days_employed\" e \"total_income\". Além disso, a coluna \"days_employed\" está com um tipo de dado float, o que é inconsistente, pois deveria representar o número de dias trabalhados."
      ]
    },
    {
      "cell_type": "code",
      "execution_count": null,
      "metadata": {
        "scrolled": true,
        "id": "TumiVPIcePFy",
        "outputId": "dd1f1a89-ecf0-4348-bb27-b7748d33a9a7"
      },
      "outputs": [
        {
          "data": {
            "text/plain": [
              "children               0\n",
              "days_employed       2174\n",
              "dob_years              0\n",
              "education              0\n",
              "education_id           0\n",
              "family_status          0\n",
              "family_status_id       0\n",
              "gender                 0\n",
              "income_type            0\n",
              "debt                   0\n",
              "total_income        2174\n",
              "purpose                0\n",
              "dtype: int64"
            ]
          },
          "execution_count": 48,
          "metadata": {},
          "output_type": "execute_result"
        }
      ],
      "source": [
        "# Vejamos a tabela filtrada com valores ausentes\n",
        "dados.isna().sum()"
      ]
    },
    {
      "cell_type": "code",
      "execution_count": null,
      "metadata": {
        "id": "9SZYt7SOePFz",
        "outputId": "3ce59309-cf95-4c09-b322-59517ae7bfd1"
      },
      "outputs": [
        {
          "data": {
            "text/html": [
              "<div>\n",
              "<style scoped>\n",
              "    .dataframe tbody tr th:only-of-type {\n",
              "        vertical-align: middle;\n",
              "    }\n",
              "\n",
              "    .dataframe tbody tr th {\n",
              "        vertical-align: top;\n",
              "    }\n",
              "\n",
              "    .dataframe thead th {\n",
              "        text-align: right;\n",
              "    }\n",
              "</style>\n",
              "<table border=\"1\" class=\"dataframe\">\n",
              "  <thead>\n",
              "    <tr style=\"text-align: right;\">\n",
              "      <th></th>\n",
              "      <th>children</th>\n",
              "      <th>days_employed</th>\n",
              "      <th>dob_years</th>\n",
              "      <th>education</th>\n",
              "      <th>education_id</th>\n",
              "      <th>family_status</th>\n",
              "      <th>family_status_id</th>\n",
              "      <th>gender</th>\n",
              "      <th>income_type</th>\n",
              "      <th>debt</th>\n",
              "      <th>total_income</th>\n",
              "      <th>purpose</th>\n",
              "    </tr>\n",
              "  </thead>\n",
              "  <tbody>\n",
              "    <tr>\n",
              "      <th>12</th>\n",
              "      <td>0</td>\n",
              "      <td>NaN</td>\n",
              "      <td>65</td>\n",
              "      <td>secondary education</td>\n",
              "      <td>1</td>\n",
              "      <td>civil partnership</td>\n",
              "      <td>1</td>\n",
              "      <td>M</td>\n",
              "      <td>retiree</td>\n",
              "      <td>0</td>\n",
              "      <td>NaN</td>\n",
              "      <td>to have a wedding</td>\n",
              "    </tr>\n",
              "    <tr>\n",
              "      <th>26</th>\n",
              "      <td>0</td>\n",
              "      <td>NaN</td>\n",
              "      <td>41</td>\n",
              "      <td>secondary education</td>\n",
              "      <td>1</td>\n",
              "      <td>married</td>\n",
              "      <td>0</td>\n",
              "      <td>M</td>\n",
              "      <td>civil servant</td>\n",
              "      <td>0</td>\n",
              "      <td>NaN</td>\n",
              "      <td>education</td>\n",
              "    </tr>\n",
              "    <tr>\n",
              "      <th>29</th>\n",
              "      <td>0</td>\n",
              "      <td>NaN</td>\n",
              "      <td>63</td>\n",
              "      <td>secondary education</td>\n",
              "      <td>1</td>\n",
              "      <td>unmarried</td>\n",
              "      <td>4</td>\n",
              "      <td>F</td>\n",
              "      <td>retiree</td>\n",
              "      <td>0</td>\n",
              "      <td>NaN</td>\n",
              "      <td>building a real estate</td>\n",
              "    </tr>\n",
              "    <tr>\n",
              "      <th>41</th>\n",
              "      <td>0</td>\n",
              "      <td>NaN</td>\n",
              "      <td>50</td>\n",
              "      <td>secondary education</td>\n",
              "      <td>1</td>\n",
              "      <td>married</td>\n",
              "      <td>0</td>\n",
              "      <td>F</td>\n",
              "      <td>civil servant</td>\n",
              "      <td>0</td>\n",
              "      <td>NaN</td>\n",
              "      <td>second-hand car purchase</td>\n",
              "    </tr>\n",
              "    <tr>\n",
              "      <th>55</th>\n",
              "      <td>0</td>\n",
              "      <td>NaN</td>\n",
              "      <td>54</td>\n",
              "      <td>secondary education</td>\n",
              "      <td>1</td>\n",
              "      <td>civil partnership</td>\n",
              "      <td>1</td>\n",
              "      <td>F</td>\n",
              "      <td>retiree</td>\n",
              "      <td>1</td>\n",
              "      <td>NaN</td>\n",
              "      <td>to have a wedding</td>\n",
              "    </tr>\n",
              "    <tr>\n",
              "      <th>...</th>\n",
              "      <td>...</td>\n",
              "      <td>...</td>\n",
              "      <td>...</td>\n",
              "      <td>...</td>\n",
              "      <td>...</td>\n",
              "      <td>...</td>\n",
              "      <td>...</td>\n",
              "      <td>...</td>\n",
              "      <td>...</td>\n",
              "      <td>...</td>\n",
              "      <td>...</td>\n",
              "      <td>...</td>\n",
              "    </tr>\n",
              "    <tr>\n",
              "      <th>21489</th>\n",
              "      <td>2</td>\n",
              "      <td>NaN</td>\n",
              "      <td>47</td>\n",
              "      <td>Secondary Education</td>\n",
              "      <td>1</td>\n",
              "      <td>married</td>\n",
              "      <td>0</td>\n",
              "      <td>M</td>\n",
              "      <td>business</td>\n",
              "      <td>0</td>\n",
              "      <td>NaN</td>\n",
              "      <td>purchase of a car</td>\n",
              "    </tr>\n",
              "    <tr>\n",
              "      <th>21495</th>\n",
              "      <td>1</td>\n",
              "      <td>NaN</td>\n",
              "      <td>50</td>\n",
              "      <td>secondary education</td>\n",
              "      <td>1</td>\n",
              "      <td>civil partnership</td>\n",
              "      <td>1</td>\n",
              "      <td>F</td>\n",
              "      <td>employee</td>\n",
              "      <td>0</td>\n",
              "      <td>NaN</td>\n",
              "      <td>wedding ceremony</td>\n",
              "    </tr>\n",
              "    <tr>\n",
              "      <th>21497</th>\n",
              "      <td>0</td>\n",
              "      <td>NaN</td>\n",
              "      <td>48</td>\n",
              "      <td>BACHELOR'S DEGREE</td>\n",
              "      <td>0</td>\n",
              "      <td>married</td>\n",
              "      <td>0</td>\n",
              "      <td>F</td>\n",
              "      <td>business</td>\n",
              "      <td>0</td>\n",
              "      <td>NaN</td>\n",
              "      <td>building a property</td>\n",
              "    </tr>\n",
              "    <tr>\n",
              "      <th>21502</th>\n",
              "      <td>1</td>\n",
              "      <td>NaN</td>\n",
              "      <td>42</td>\n",
              "      <td>secondary education</td>\n",
              "      <td>1</td>\n",
              "      <td>married</td>\n",
              "      <td>0</td>\n",
              "      <td>F</td>\n",
              "      <td>employee</td>\n",
              "      <td>0</td>\n",
              "      <td>NaN</td>\n",
              "      <td>building a real estate</td>\n",
              "    </tr>\n",
              "    <tr>\n",
              "      <th>21510</th>\n",
              "      <td>2</td>\n",
              "      <td>NaN</td>\n",
              "      <td>28</td>\n",
              "      <td>secondary education</td>\n",
              "      <td>1</td>\n",
              "      <td>married</td>\n",
              "      <td>0</td>\n",
              "      <td>F</td>\n",
              "      <td>employee</td>\n",
              "      <td>0</td>\n",
              "      <td>NaN</td>\n",
              "      <td>car purchase</td>\n",
              "    </tr>\n",
              "  </tbody>\n",
              "</table>\n",
              "<p>2174 rows × 12 columns</p>\n",
              "</div>"
            ],
            "text/plain": [
              "       children  days_employed  dob_years            education  education_id  \\\n",
              "12            0            NaN         65  secondary education             1   \n",
              "26            0            NaN         41  secondary education             1   \n",
              "29            0            NaN         63  secondary education             1   \n",
              "41            0            NaN         50  secondary education             1   \n",
              "55            0            NaN         54  secondary education             1   \n",
              "...         ...            ...        ...                  ...           ...   \n",
              "21489         2            NaN         47  Secondary Education             1   \n",
              "21495         1            NaN         50  secondary education             1   \n",
              "21497         0            NaN         48    BACHELOR'S DEGREE             0   \n",
              "21502         1            NaN         42  secondary education             1   \n",
              "21510         2            NaN         28  secondary education             1   \n",
              "\n",
              "           family_status  family_status_id gender    income_type  debt  \\\n",
              "12     civil partnership                 1      M        retiree     0   \n",
              "26               married                 0      M  civil servant     0   \n",
              "29             unmarried                 4      F        retiree     0   \n",
              "41               married                 0      F  civil servant     0   \n",
              "55     civil partnership                 1      F        retiree     1   \n",
              "...                  ...               ...    ...            ...   ...   \n",
              "21489            married                 0      M       business     0   \n",
              "21495  civil partnership                 1      F       employee     0   \n",
              "21497            married                 0      F       business     0   \n",
              "21502            married                 0      F       employee     0   \n",
              "21510            married                 0      F       employee     0   \n",
              "\n",
              "       total_income                   purpose  \n",
              "12              NaN         to have a wedding  \n",
              "26              NaN                 education  \n",
              "29              NaN    building a real estate  \n",
              "41              NaN  second-hand car purchase  \n",
              "55              NaN         to have a wedding  \n",
              "...             ...                       ...  \n",
              "21489           NaN         purchase of a car  \n",
              "21495           NaN          wedding ceremony  \n",
              "21497           NaN       building a property  \n",
              "21502           NaN    building a real estate  \n",
              "21510           NaN              car purchase  \n",
              "\n",
              "[2174 rows x 12 columns]"
            ]
          },
          "execution_count": 49,
          "metadata": {},
          "output_type": "execute_result"
        }
      ],
      "source": [
        "# Vejamos a tabela filtrada com valores ausentes na primeira coluna com dados ausentes\n",
        "dados.loc[dados['days_employed'].isnull()]"
      ]
    },
    {
      "cell_type": "markdown",
      "metadata": {
        "id": "ZE3AyRxBePFz"
      },
      "source": [
        "- Embora os valores ausentes possam parecer simétricos à primeira vista, não podemos afirmar com certeza que são simétricos sem realizar investigações adicionais. É importante contar os valores ausentes em todas as linhas com valores ausentes para confirmar se as amostras ausentes são do mesmo tamanho e analisar as características dessas amostras ausentes para obter uma compreensão mais completa."
      ]
    },
    {
      "cell_type": "code",
      "execution_count": null,
      "metadata": {
        "id": "CLTsp1eHePFz",
        "outputId": "ff3439d8-7b40-4283-a2f0-4aa90e78bf1d"
      },
      "outputs": [
        {
          "data": {
            "text/html": [
              "<div>\n",
              "<style scoped>\n",
              "    .dataframe tbody tr th:only-of-type {\n",
              "        vertical-align: middle;\n",
              "    }\n",
              "\n",
              "    .dataframe tbody tr th {\n",
              "        vertical-align: top;\n",
              "    }\n",
              "\n",
              "    .dataframe thead th {\n",
              "        text-align: right;\n",
              "    }\n",
              "</style>\n",
              "<table border=\"1\" class=\"dataframe\">\n",
              "  <thead>\n",
              "    <tr style=\"text-align: right;\">\n",
              "      <th></th>\n",
              "      <th>children</th>\n",
              "      <th>days_employed</th>\n",
              "      <th>dob_years</th>\n",
              "      <th>education</th>\n",
              "      <th>education_id</th>\n",
              "      <th>family_status</th>\n",
              "      <th>family_status_id</th>\n",
              "      <th>gender</th>\n",
              "      <th>income_type</th>\n",
              "      <th>debt</th>\n",
              "      <th>total_income</th>\n",
              "      <th>purpose</th>\n",
              "    </tr>\n",
              "  </thead>\n",
              "  <tbody>\n",
              "    <tr>\n",
              "      <th>12</th>\n",
              "      <td>0</td>\n",
              "      <td>NaN</td>\n",
              "      <td>65</td>\n",
              "      <td>secondary education</td>\n",
              "      <td>1</td>\n",
              "      <td>civil partnership</td>\n",
              "      <td>1</td>\n",
              "      <td>M</td>\n",
              "      <td>retiree</td>\n",
              "      <td>0</td>\n",
              "      <td>NaN</td>\n",
              "      <td>to have a wedding</td>\n",
              "    </tr>\n",
              "    <tr>\n",
              "      <th>26</th>\n",
              "      <td>0</td>\n",
              "      <td>NaN</td>\n",
              "      <td>41</td>\n",
              "      <td>secondary education</td>\n",
              "      <td>1</td>\n",
              "      <td>married</td>\n",
              "      <td>0</td>\n",
              "      <td>M</td>\n",
              "      <td>civil servant</td>\n",
              "      <td>0</td>\n",
              "      <td>NaN</td>\n",
              "      <td>education</td>\n",
              "    </tr>\n",
              "    <tr>\n",
              "      <th>29</th>\n",
              "      <td>0</td>\n",
              "      <td>NaN</td>\n",
              "      <td>63</td>\n",
              "      <td>secondary education</td>\n",
              "      <td>1</td>\n",
              "      <td>unmarried</td>\n",
              "      <td>4</td>\n",
              "      <td>F</td>\n",
              "      <td>retiree</td>\n",
              "      <td>0</td>\n",
              "      <td>NaN</td>\n",
              "      <td>building a real estate</td>\n",
              "    </tr>\n",
              "    <tr>\n",
              "      <th>41</th>\n",
              "      <td>0</td>\n",
              "      <td>NaN</td>\n",
              "      <td>50</td>\n",
              "      <td>secondary education</td>\n",
              "      <td>1</td>\n",
              "      <td>married</td>\n",
              "      <td>0</td>\n",
              "      <td>F</td>\n",
              "      <td>civil servant</td>\n",
              "      <td>0</td>\n",
              "      <td>NaN</td>\n",
              "      <td>second-hand car purchase</td>\n",
              "    </tr>\n",
              "    <tr>\n",
              "      <th>55</th>\n",
              "      <td>0</td>\n",
              "      <td>NaN</td>\n",
              "      <td>54</td>\n",
              "      <td>secondary education</td>\n",
              "      <td>1</td>\n",
              "      <td>civil partnership</td>\n",
              "      <td>1</td>\n",
              "      <td>F</td>\n",
              "      <td>retiree</td>\n",
              "      <td>1</td>\n",
              "      <td>NaN</td>\n",
              "      <td>to have a wedding</td>\n",
              "    </tr>\n",
              "    <tr>\n",
              "      <th>...</th>\n",
              "      <td>...</td>\n",
              "      <td>...</td>\n",
              "      <td>...</td>\n",
              "      <td>...</td>\n",
              "      <td>...</td>\n",
              "      <td>...</td>\n",
              "      <td>...</td>\n",
              "      <td>...</td>\n",
              "      <td>...</td>\n",
              "      <td>...</td>\n",
              "      <td>...</td>\n",
              "      <td>...</td>\n",
              "    </tr>\n",
              "    <tr>\n",
              "      <th>21489</th>\n",
              "      <td>2</td>\n",
              "      <td>NaN</td>\n",
              "      <td>47</td>\n",
              "      <td>Secondary Education</td>\n",
              "      <td>1</td>\n",
              "      <td>married</td>\n",
              "      <td>0</td>\n",
              "      <td>M</td>\n",
              "      <td>business</td>\n",
              "      <td>0</td>\n",
              "      <td>NaN</td>\n",
              "      <td>purchase of a car</td>\n",
              "    </tr>\n",
              "    <tr>\n",
              "      <th>21495</th>\n",
              "      <td>1</td>\n",
              "      <td>NaN</td>\n",
              "      <td>50</td>\n",
              "      <td>secondary education</td>\n",
              "      <td>1</td>\n",
              "      <td>civil partnership</td>\n",
              "      <td>1</td>\n",
              "      <td>F</td>\n",
              "      <td>employee</td>\n",
              "      <td>0</td>\n",
              "      <td>NaN</td>\n",
              "      <td>wedding ceremony</td>\n",
              "    </tr>\n",
              "    <tr>\n",
              "      <th>21497</th>\n",
              "      <td>0</td>\n",
              "      <td>NaN</td>\n",
              "      <td>48</td>\n",
              "      <td>BACHELOR'S DEGREE</td>\n",
              "      <td>0</td>\n",
              "      <td>married</td>\n",
              "      <td>0</td>\n",
              "      <td>F</td>\n",
              "      <td>business</td>\n",
              "      <td>0</td>\n",
              "      <td>NaN</td>\n",
              "      <td>building a property</td>\n",
              "    </tr>\n",
              "    <tr>\n",
              "      <th>21502</th>\n",
              "      <td>1</td>\n",
              "      <td>NaN</td>\n",
              "      <td>42</td>\n",
              "      <td>secondary education</td>\n",
              "      <td>1</td>\n",
              "      <td>married</td>\n",
              "      <td>0</td>\n",
              "      <td>F</td>\n",
              "      <td>employee</td>\n",
              "      <td>0</td>\n",
              "      <td>NaN</td>\n",
              "      <td>building a real estate</td>\n",
              "    </tr>\n",
              "    <tr>\n",
              "      <th>21510</th>\n",
              "      <td>2</td>\n",
              "      <td>NaN</td>\n",
              "      <td>28</td>\n",
              "      <td>secondary education</td>\n",
              "      <td>1</td>\n",
              "      <td>married</td>\n",
              "      <td>0</td>\n",
              "      <td>F</td>\n",
              "      <td>employee</td>\n",
              "      <td>0</td>\n",
              "      <td>NaN</td>\n",
              "      <td>car purchase</td>\n",
              "    </tr>\n",
              "  </tbody>\n",
              "</table>\n",
              "<p>2174 rows × 12 columns</p>\n",
              "</div>"
            ],
            "text/plain": [
              "       children  days_employed  dob_years            education  education_id  \\\n",
              "12            0            NaN         65  secondary education             1   \n",
              "26            0            NaN         41  secondary education             1   \n",
              "29            0            NaN         63  secondary education             1   \n",
              "41            0            NaN         50  secondary education             1   \n",
              "55            0            NaN         54  secondary education             1   \n",
              "...         ...            ...        ...                  ...           ...   \n",
              "21489         2            NaN         47  Secondary Education             1   \n",
              "21495         1            NaN         50  secondary education             1   \n",
              "21497         0            NaN         48    BACHELOR'S DEGREE             0   \n",
              "21502         1            NaN         42  secondary education             1   \n",
              "21510         2            NaN         28  secondary education             1   \n",
              "\n",
              "           family_status  family_status_id gender    income_type  debt  \\\n",
              "12     civil partnership                 1      M        retiree     0   \n",
              "26               married                 0      M  civil servant     0   \n",
              "29             unmarried                 4      F        retiree     0   \n",
              "41               married                 0      F  civil servant     0   \n",
              "55     civil partnership                 1      F        retiree     1   \n",
              "...                  ...               ...    ...            ...   ...   \n",
              "21489            married                 0      M       business     0   \n",
              "21495  civil partnership                 1      F       employee     0   \n",
              "21497            married                 0      F       business     0   \n",
              "21502            married                 0      F       employee     0   \n",
              "21510            married                 0      F       employee     0   \n",
              "\n",
              "       total_income                   purpose  \n",
              "12              NaN         to have a wedding  \n",
              "26              NaN                 education  \n",
              "29              NaN    building a real estate  \n",
              "41              NaN  second-hand car purchase  \n",
              "55              NaN         to have a wedding  \n",
              "...             ...                       ...  \n",
              "21489           NaN         purchase of a car  \n",
              "21495           NaN          wedding ceremony  \n",
              "21497           NaN       building a property  \n",
              "21502           NaN    building a real estate  \n",
              "21510           NaN              car purchase  \n",
              "\n",
              "[2174 rows x 12 columns]"
            ]
          },
          "execution_count": 50,
          "metadata": {},
          "output_type": "execute_result"
        }
      ],
      "source": [
        "# Vamos aplicar várias condições para filtrar dados e observar o número de linhas na tabela filtrada.\n",
        "# Linhas onde days_employed e total_income é nulo\n",
        "dados.loc[dados['days_employed'].isna() & dados['total_income'].isna()]"
      ]
    },
    {
      "cell_type": "code",
      "execution_count": null,
      "metadata": {
        "id": "DQ0MyfrpePF0",
        "outputId": "bfc8471a-fb10-4ae9-e71d-53a0a695ca2d"
      },
      "outputs": [
        {
          "data": {
            "text/plain": [
              "0"
            ]
          },
          "execution_count": 51,
          "metadata": {},
          "output_type": "execute_result"
        }
      ],
      "source": [
        "#Verificando simetria\n",
        "filtro1 = dados['total_income'].isna()\n",
        "dados[~filtro1]['days_employed'].isna().sum()"
      ]
    },
    {
      "cell_type": "code",
      "execution_count": null,
      "metadata": {
        "id": "ofWgNfOMePF0",
        "outputId": "299dd528-5f11-41c2-e7ea-f04c1e13b70a"
      },
      "outputs": [
        {
          "data": {
            "text/plain": [
              "0"
            ]
          },
          "execution_count": 52,
          "metadata": {},
          "output_type": "execute_result"
        }
      ],
      "source": [
        "filtro2 = dados['days_employed'].isna()\n",
        "dados[~filtro2]['total_income'].isna().sum()"
      ]
    },
    {
      "cell_type": "code",
      "execution_count": null,
      "metadata": {
        "id": "4VNBNsusePF0",
        "outputId": "3f5ee547-34a9-4181-887d-9ae37635239c"
      },
      "outputs": [
        {
          "data": {
            "text/plain": [
              "10.099883855981417"
            ]
          },
          "execution_count": 53,
          "metadata": {},
          "output_type": "execute_result"
        }
      ],
      "source": [
        "# Verificando em %, quantos dados NaN existem na coluna em relação ao total de linhas\n",
        "dados['days_employed'].isna().sum()/dados.shape[0]*100"
      ]
    },
    {
      "cell_type": "markdown",
      "metadata": {
        "id": "TYWlMFvKePF1"
      },
      "source": [
        "**Conclusão intermediária**\n",
        "\n",
        "- A quantidade de linhas na tabela filtrada corresponde ao número de valores ausentes na coluna \"days_employed\".\n",
        "- Os dois filtros retornaram valor zero, isso significa que não há valores ausentes na coluna 'total_income' para os quais a coluna 'days_employed' esteja preenchida, e também não há valores ausentes na coluna 'days_employed' para os quais a coluna 'total_income' esteja preenchida. Isso pode indicar que os valores ausentes em cada coluna são independentes um do outro, e sua presença ou ausência não está relacionada.\n",
        "\n",
        "- A porcentagem de valores ausentes em relação ao conjunto de dados total é de aproximadamente 10%, o que não é considerado um valor significativamente grande. No entanto, ainda é importante investigar e tratar esses valores ausentes.\n",
        "- Os valores ausentes podem estar relacionados a características específicas dos clientes, como tipo de emprego ou outras informações relacionadas à renda. É necessário identificar qual característica pode ser o motivo dos dados ausentes.\n",
        "- Além disso, é importante verificar se existe alguma dependência entre os valores ausentes e outras variáveis nos dados. Neste caso, observamos que os valores ausentes em \"days_employed\" correspondem aos valores ausentes em \"total_income\", o que indica uma possível relação entre essas variáveis.\n",
        "- Essas observações nos ajudarão a tomar decisões sobre como preencher os valores ausentes e tratar as características específicas dos clientes de maneira adequada durante a análise dos dados.\n",
        "\n",
        "- Os próximos passos envolvem a análise das características específicas dos clientes relacionadas aos valores ausentes, como tipo de emprego e estado civil, e verificar se há dependência entre os valores ausentes e outras variáveis. Isso nos ajudará a entender melhor a natureza dos valores ausentes e a decidir como preenchê-los adequadamente. Essas ações são fundamentais para realizar uma análise mais precisa dos dados e tomar decisões informadas."
      ]
    },
    {
      "cell_type": "code",
      "execution_count": null,
      "metadata": {
        "scrolled": true,
        "id": "-0VX337AePF1",
        "outputId": "469a2052-ed3a-4a39-87f7-7d948ad0d13f"
      },
      "outputs": [
        {
          "data": {
            "text/html": [
              "<div>\n",
              "<style scoped>\n",
              "    .dataframe tbody tr th:only-of-type {\n",
              "        vertical-align: middle;\n",
              "    }\n",
              "\n",
              "    .dataframe tbody tr th {\n",
              "        vertical-align: top;\n",
              "    }\n",
              "\n",
              "    .dataframe thead th {\n",
              "        text-align: right;\n",
              "    }\n",
              "</style>\n",
              "<table border=\"1\" class=\"dataframe\">\n",
              "  <thead>\n",
              "    <tr style=\"text-align: right;\">\n",
              "      <th></th>\n",
              "      <th>children</th>\n",
              "      <th>days_employed</th>\n",
              "      <th>dob_years</th>\n",
              "      <th>education</th>\n",
              "      <th>education_id</th>\n",
              "      <th>family_status</th>\n",
              "      <th>family_status_id</th>\n",
              "      <th>gender</th>\n",
              "      <th>income_type</th>\n",
              "      <th>debt</th>\n",
              "      <th>total_income</th>\n",
              "      <th>purpose</th>\n",
              "    </tr>\n",
              "  </thead>\n",
              "  <tbody>\n",
              "    <tr>\n",
              "      <th>12</th>\n",
              "      <td>0</td>\n",
              "      <td>NaN</td>\n",
              "      <td>65</td>\n",
              "      <td>secondary education</td>\n",
              "      <td>1</td>\n",
              "      <td>civil partnership</td>\n",
              "      <td>1</td>\n",
              "      <td>M</td>\n",
              "      <td>retiree</td>\n",
              "      <td>0</td>\n",
              "      <td>NaN</td>\n",
              "      <td>to have a wedding</td>\n",
              "    </tr>\n",
              "    <tr>\n",
              "      <th>26</th>\n",
              "      <td>0</td>\n",
              "      <td>NaN</td>\n",
              "      <td>41</td>\n",
              "      <td>secondary education</td>\n",
              "      <td>1</td>\n",
              "      <td>married</td>\n",
              "      <td>0</td>\n",
              "      <td>M</td>\n",
              "      <td>civil servant</td>\n",
              "      <td>0</td>\n",
              "      <td>NaN</td>\n",
              "      <td>education</td>\n",
              "    </tr>\n",
              "    <tr>\n",
              "      <th>29</th>\n",
              "      <td>0</td>\n",
              "      <td>NaN</td>\n",
              "      <td>63</td>\n",
              "      <td>secondary education</td>\n",
              "      <td>1</td>\n",
              "      <td>unmarried</td>\n",
              "      <td>4</td>\n",
              "      <td>F</td>\n",
              "      <td>retiree</td>\n",
              "      <td>0</td>\n",
              "      <td>NaN</td>\n",
              "      <td>building a real estate</td>\n",
              "    </tr>\n",
              "    <tr>\n",
              "      <th>41</th>\n",
              "      <td>0</td>\n",
              "      <td>NaN</td>\n",
              "      <td>50</td>\n",
              "      <td>secondary education</td>\n",
              "      <td>1</td>\n",
              "      <td>married</td>\n",
              "      <td>0</td>\n",
              "      <td>F</td>\n",
              "      <td>civil servant</td>\n",
              "      <td>0</td>\n",
              "      <td>NaN</td>\n",
              "      <td>second-hand car purchase</td>\n",
              "    </tr>\n",
              "    <tr>\n",
              "      <th>55</th>\n",
              "      <td>0</td>\n",
              "      <td>NaN</td>\n",
              "      <td>54</td>\n",
              "      <td>secondary education</td>\n",
              "      <td>1</td>\n",
              "      <td>civil partnership</td>\n",
              "      <td>1</td>\n",
              "      <td>F</td>\n",
              "      <td>retiree</td>\n",
              "      <td>1</td>\n",
              "      <td>NaN</td>\n",
              "      <td>to have a wedding</td>\n",
              "    </tr>\n",
              "    <tr>\n",
              "      <th>...</th>\n",
              "      <td>...</td>\n",
              "      <td>...</td>\n",
              "      <td>...</td>\n",
              "      <td>...</td>\n",
              "      <td>...</td>\n",
              "      <td>...</td>\n",
              "      <td>...</td>\n",
              "      <td>...</td>\n",
              "      <td>...</td>\n",
              "      <td>...</td>\n",
              "      <td>...</td>\n",
              "      <td>...</td>\n",
              "    </tr>\n",
              "    <tr>\n",
              "      <th>21489</th>\n",
              "      <td>2</td>\n",
              "      <td>NaN</td>\n",
              "      <td>47</td>\n",
              "      <td>Secondary Education</td>\n",
              "      <td>1</td>\n",
              "      <td>married</td>\n",
              "      <td>0</td>\n",
              "      <td>M</td>\n",
              "      <td>business</td>\n",
              "      <td>0</td>\n",
              "      <td>NaN</td>\n",
              "      <td>purchase of a car</td>\n",
              "    </tr>\n",
              "    <tr>\n",
              "      <th>21495</th>\n",
              "      <td>1</td>\n",
              "      <td>NaN</td>\n",
              "      <td>50</td>\n",
              "      <td>secondary education</td>\n",
              "      <td>1</td>\n",
              "      <td>civil partnership</td>\n",
              "      <td>1</td>\n",
              "      <td>F</td>\n",
              "      <td>employee</td>\n",
              "      <td>0</td>\n",
              "      <td>NaN</td>\n",
              "      <td>wedding ceremony</td>\n",
              "    </tr>\n",
              "    <tr>\n",
              "      <th>21497</th>\n",
              "      <td>0</td>\n",
              "      <td>NaN</td>\n",
              "      <td>48</td>\n",
              "      <td>BACHELOR'S DEGREE</td>\n",
              "      <td>0</td>\n",
              "      <td>married</td>\n",
              "      <td>0</td>\n",
              "      <td>F</td>\n",
              "      <td>business</td>\n",
              "      <td>0</td>\n",
              "      <td>NaN</td>\n",
              "      <td>building a property</td>\n",
              "    </tr>\n",
              "    <tr>\n",
              "      <th>21502</th>\n",
              "      <td>1</td>\n",
              "      <td>NaN</td>\n",
              "      <td>42</td>\n",
              "      <td>secondary education</td>\n",
              "      <td>1</td>\n",
              "      <td>married</td>\n",
              "      <td>0</td>\n",
              "      <td>F</td>\n",
              "      <td>employee</td>\n",
              "      <td>0</td>\n",
              "      <td>NaN</td>\n",
              "      <td>building a real estate</td>\n",
              "    </tr>\n",
              "    <tr>\n",
              "      <th>21510</th>\n",
              "      <td>2</td>\n",
              "      <td>NaN</td>\n",
              "      <td>28</td>\n",
              "      <td>secondary education</td>\n",
              "      <td>1</td>\n",
              "      <td>married</td>\n",
              "      <td>0</td>\n",
              "      <td>F</td>\n",
              "      <td>employee</td>\n",
              "      <td>0</td>\n",
              "      <td>NaN</td>\n",
              "      <td>car purchase</td>\n",
              "    </tr>\n",
              "  </tbody>\n",
              "</table>\n",
              "<p>2174 rows × 12 columns</p>\n",
              "</div>"
            ],
            "text/plain": [
              "       children  days_employed  dob_years            education  education_id  \\\n",
              "12            0            NaN         65  secondary education             1   \n",
              "26            0            NaN         41  secondary education             1   \n",
              "29            0            NaN         63  secondary education             1   \n",
              "41            0            NaN         50  secondary education             1   \n",
              "55            0            NaN         54  secondary education             1   \n",
              "...         ...            ...        ...                  ...           ...   \n",
              "21489         2            NaN         47  Secondary Education             1   \n",
              "21495         1            NaN         50  secondary education             1   \n",
              "21497         0            NaN         48    BACHELOR'S DEGREE             0   \n",
              "21502         1            NaN         42  secondary education             1   \n",
              "21510         2            NaN         28  secondary education             1   \n",
              "\n",
              "           family_status  family_status_id gender    income_type  debt  \\\n",
              "12     civil partnership                 1      M        retiree     0   \n",
              "26               married                 0      M  civil servant     0   \n",
              "29             unmarried                 4      F        retiree     0   \n",
              "41               married                 0      F  civil servant     0   \n",
              "55     civil partnership                 1      F        retiree     1   \n",
              "...                  ...               ...    ...            ...   ...   \n",
              "21489            married                 0      M       business     0   \n",
              "21495  civil partnership                 1      F       employee     0   \n",
              "21497            married                 0      F       business     0   \n",
              "21502            married                 0      F       employee     0   \n",
              "21510            married                 0      F       employee     0   \n",
              "\n",
              "       total_income                   purpose  \n",
              "12              NaN         to have a wedding  \n",
              "26              NaN                 education  \n",
              "29              NaN    building a real estate  \n",
              "41              NaN  second-hand car purchase  \n",
              "55              NaN         to have a wedding  \n",
              "...             ...                       ...  \n",
              "21489           NaN         purchase of a car  \n",
              "21495           NaN          wedding ceremony  \n",
              "21497           NaN       building a property  \n",
              "21502           NaN    building a real estate  \n",
              "21510           NaN              car purchase  \n",
              "\n",
              "[2174 rows x 12 columns]"
            ]
          },
          "execution_count": 54,
          "metadata": {},
          "output_type": "execute_result"
        }
      ],
      "source": [
        "# Vamos investigar clientes que não possuem dados sobre as características identificadas e a coluna com os valores ausentes\n",
        "missing_values = dados.loc[dados['days_employed'].isna() & dados['total_income'].isna()]\n",
        "missing_values"
      ]
    },
    {
      "cell_type": "code",
      "execution_count": null,
      "metadata": {
        "id": "H8SjXH5cePF2",
        "outputId": "101627ae-5248-4dde-cda3-94507df7c8b7"
      },
      "outputs": [
        {
          "data": {
            "text/plain": [
              "employee         50.827967\n",
              "business         23.367065\n",
              "retiree          18.997240\n",
              "civil servant     6.761730\n",
              "entrepreneur      0.045998\n",
              "Name: income_type, dtype: float64"
            ]
          },
          "execution_count": 55,
          "metadata": {},
          "output_type": "execute_result"
        }
      ],
      "source": [
        "#Verificar a distribuição\n",
        "missing_values['income_type'].value_counts(dropna=False,normalize=True)*100"
      ]
    },
    {
      "cell_type": "code",
      "execution_count": null,
      "metadata": {
        "id": "elBjewMtePF2",
        "outputId": "c01e42d1-3db6-464d-f8d7-a048a4a256c5"
      },
      "outputs": [
        {
          "data": {
            "text/plain": [
              "NaN    100.0\n",
              "Name: days_employed, dtype: float64"
            ]
          },
          "execution_count": 56,
          "metadata": {},
          "output_type": "execute_result"
        }
      ],
      "source": [
        "missing_values['days_employed'].value_counts(dropna=False,normalize=True)*100"
      ]
    },
    {
      "cell_type": "code",
      "execution_count": null,
      "metadata": {
        "id": "t-cqiBwUePF2",
        "outputId": "a3342068-a470-4d46-9184-7813171d2323"
      },
      "outputs": [
        {
          "data": {
            "text/plain": [
              "children             0.000000\n",
              "days_employed       10.099884\n",
              "dob_years            0.000000\n",
              "education            0.000000\n",
              "education_id         0.000000\n",
              "family_status        0.000000\n",
              "family_status_id     0.000000\n",
              "gender               0.000000\n",
              "income_type          0.000000\n",
              "debt                 0.000000\n",
              "total_income        10.099884\n",
              "purpose              0.000000\n",
              "dtype: float64"
            ]
          },
          "execution_count": 57,
          "metadata": {},
          "output_type": "execute_result"
        }
      ],
      "source": [
        "#Proporcao de valores ausentes em relacao ao total de dados\n",
        "missing_values.isna().sum()/dados.shape[0]*100"
      ]
    },
    {
      "cell_type": "markdown",
      "metadata": {
        "id": "9YBACIqJePF3"
      },
      "source": [
        "- Em relação à coluna 'days_employed', observamos a presença de valores negativos, o que é inconsistente, já que estamos lidando com dias trabalhados.\n",
        "- Identificamos a presença de nomes com grafias diferentes, o que pode dificultar a análise e a categorização dos dados.\n",
        "\n",
        "**Possíveis motivos para valores ausentes nos dados**\n",
        "- Com base na análise realizada até o momento, não há evidências de um padrão claro nos valores ausentes da coluna total_income em relação às características específicas dos clientes. A ausência de diferenças significativas na proporção de valores ausentes entre diferentes categorias de income_type sugere que os valores ausentes podem ocorrer de forma aleatória e não estão fortemente relacionados a nenhuma característica específica. No entanto, é necessário realizar investigações adicionais e considerar outras hipóteses para obter uma compreensão mais completa dos motivos pelos quais esses valores podem estar em falta."
      ]
    },
    {
      "cell_type": "code",
      "execution_count": null,
      "metadata": {
        "id": "HEMmVxZHePF3",
        "outputId": "a9b23eba-eede-40dd-a2b8-8ae0f3506e7e"
      },
      "outputs": [
        {
          "data": {
            "text/html": [
              "<div>\n",
              "<style scoped>\n",
              "    .dataframe tbody tr th:only-of-type {\n",
              "        vertical-align: middle;\n",
              "    }\n",
              "\n",
              "    .dataframe tbody tr th {\n",
              "        vertical-align: top;\n",
              "    }\n",
              "\n",
              "    .dataframe thead th {\n",
              "        text-align: right;\n",
              "    }\n",
              "</style>\n",
              "<table border=\"1\" class=\"dataframe\">\n",
              "  <thead>\n",
              "    <tr style=\"text-align: right;\">\n",
              "      <th></th>\n",
              "      <th>children</th>\n",
              "      <th>days_employed</th>\n",
              "      <th>dob_years</th>\n",
              "      <th>education_id</th>\n",
              "      <th>family_status_id</th>\n",
              "      <th>debt</th>\n",
              "      <th>total_income</th>\n",
              "    </tr>\n",
              "  </thead>\n",
              "  <tbody>\n",
              "    <tr>\n",
              "      <th>count</th>\n",
              "      <td>21525.000000</td>\n",
              "      <td>19351.000000</td>\n",
              "      <td>21525.000000</td>\n",
              "      <td>21525.000000</td>\n",
              "      <td>21525.000000</td>\n",
              "      <td>21525.000000</td>\n",
              "      <td>19351.000000</td>\n",
              "    </tr>\n",
              "    <tr>\n",
              "      <th>mean</th>\n",
              "      <td>0.538908</td>\n",
              "      <td>63046.497661</td>\n",
              "      <td>43.293380</td>\n",
              "      <td>0.817236</td>\n",
              "      <td>0.972544</td>\n",
              "      <td>0.080883</td>\n",
              "      <td>26787.568355</td>\n",
              "    </tr>\n",
              "    <tr>\n",
              "      <th>std</th>\n",
              "      <td>1.381587</td>\n",
              "      <td>140827.311974</td>\n",
              "      <td>12.574584</td>\n",
              "      <td>0.548138</td>\n",
              "      <td>1.420324</td>\n",
              "      <td>0.272661</td>\n",
              "      <td>16475.450632</td>\n",
              "    </tr>\n",
              "    <tr>\n",
              "      <th>min</th>\n",
              "      <td>-1.000000</td>\n",
              "      <td>-18388.949901</td>\n",
              "      <td>0.000000</td>\n",
              "      <td>0.000000</td>\n",
              "      <td>0.000000</td>\n",
              "      <td>0.000000</td>\n",
              "      <td>3306.762000</td>\n",
              "    </tr>\n",
              "    <tr>\n",
              "      <th>25%</th>\n",
              "      <td>0.000000</td>\n",
              "      <td>-2747.423625</td>\n",
              "      <td>33.000000</td>\n",
              "      <td>1.000000</td>\n",
              "      <td>0.000000</td>\n",
              "      <td>0.000000</td>\n",
              "      <td>16488.504500</td>\n",
              "    </tr>\n",
              "    <tr>\n",
              "      <th>50%</th>\n",
              "      <td>0.000000</td>\n",
              "      <td>-1203.369529</td>\n",
              "      <td>42.000000</td>\n",
              "      <td>1.000000</td>\n",
              "      <td>0.000000</td>\n",
              "      <td>0.000000</td>\n",
              "      <td>23202.870000</td>\n",
              "    </tr>\n",
              "    <tr>\n",
              "      <th>75%</th>\n",
              "      <td>1.000000</td>\n",
              "      <td>-291.095954</td>\n",
              "      <td>53.000000</td>\n",
              "      <td>1.000000</td>\n",
              "      <td>1.000000</td>\n",
              "      <td>0.000000</td>\n",
              "      <td>32549.611000</td>\n",
              "    </tr>\n",
              "    <tr>\n",
              "      <th>max</th>\n",
              "      <td>20.000000</td>\n",
              "      <td>401755.400475</td>\n",
              "      <td>75.000000</td>\n",
              "      <td>4.000000</td>\n",
              "      <td>4.000000</td>\n",
              "      <td>1.000000</td>\n",
              "      <td>362496.645000</td>\n",
              "    </tr>\n",
              "  </tbody>\n",
              "</table>\n",
              "</div>"
            ],
            "text/plain": [
              "           children  days_employed     dob_years  education_id  \\\n",
              "count  21525.000000   19351.000000  21525.000000  21525.000000   \n",
              "mean       0.538908   63046.497661     43.293380      0.817236   \n",
              "std        1.381587  140827.311974     12.574584      0.548138   \n",
              "min       -1.000000  -18388.949901      0.000000      0.000000   \n",
              "25%        0.000000   -2747.423625     33.000000      1.000000   \n",
              "50%        0.000000   -1203.369529     42.000000      1.000000   \n",
              "75%        1.000000    -291.095954     53.000000      1.000000   \n",
              "max       20.000000  401755.400475     75.000000      4.000000   \n",
              "\n",
              "       family_status_id          debt   total_income  \n",
              "count      21525.000000  21525.000000   19351.000000  \n",
              "mean           0.972544      0.080883   26787.568355  \n",
              "std            1.420324      0.272661   16475.450632  \n",
              "min            0.000000      0.000000    3306.762000  \n",
              "25%            0.000000      0.000000   16488.504500  \n",
              "50%            0.000000      0.000000   23202.870000  \n",
              "75%            1.000000      0.000000   32549.611000  \n",
              "max            4.000000      1.000000  362496.645000  "
            ]
          },
          "execution_count": 58,
          "metadata": {},
          "output_type": "execute_result"
        }
      ],
      "source": [
        "# Verificar a distribuição em todo o conjunto de dados\n",
        "dados.describe()"
      ]
    },
    {
      "cell_type": "code",
      "execution_count": null,
      "metadata": {
        "id": "utjPvHUJePF3",
        "outputId": "e5b28f8e-26fb-425a-a180-ebcd003f45c0"
      },
      "outputs": [
        {
          "data": {
            "text/html": [
              "<div>\n",
              "<style scoped>\n",
              "    .dataframe tbody tr th:only-of-type {\n",
              "        vertical-align: middle;\n",
              "    }\n",
              "\n",
              "    .dataframe tbody tr th {\n",
              "        vertical-align: top;\n",
              "    }\n",
              "\n",
              "    .dataframe thead th {\n",
              "        text-align: right;\n",
              "    }\n",
              "</style>\n",
              "<table border=\"1\" class=\"dataframe\">\n",
              "  <thead>\n",
              "    <tr style=\"text-align: right;\">\n",
              "      <th></th>\n",
              "      <th>children</th>\n",
              "      <th>days_employed</th>\n",
              "      <th>dob_years</th>\n",
              "      <th>education_id</th>\n",
              "      <th>family_status_id</th>\n",
              "      <th>debt</th>\n",
              "      <th>total_income</th>\n",
              "    </tr>\n",
              "  </thead>\n",
              "  <tbody>\n",
              "    <tr>\n",
              "      <th>count</th>\n",
              "      <td>2174.000000</td>\n",
              "      <td>0.0</td>\n",
              "      <td>2174.000000</td>\n",
              "      <td>2174.000000</td>\n",
              "      <td>2174.000000</td>\n",
              "      <td>2174.000000</td>\n",
              "      <td>0.0</td>\n",
              "    </tr>\n",
              "    <tr>\n",
              "      <th>mean</th>\n",
              "      <td>0.552438</td>\n",
              "      <td>NaN</td>\n",
              "      <td>43.632015</td>\n",
              "      <td>0.800828</td>\n",
              "      <td>0.975161</td>\n",
              "      <td>0.078197</td>\n",
              "      <td>NaN</td>\n",
              "    </tr>\n",
              "    <tr>\n",
              "      <th>std</th>\n",
              "      <td>1.469356</td>\n",
              "      <td>NaN</td>\n",
              "      <td>12.531481</td>\n",
              "      <td>0.530157</td>\n",
              "      <td>1.418220</td>\n",
              "      <td>0.268543</td>\n",
              "      <td>NaN</td>\n",
              "    </tr>\n",
              "    <tr>\n",
              "      <th>min</th>\n",
              "      <td>-1.000000</td>\n",
              "      <td>NaN</td>\n",
              "      <td>0.000000</td>\n",
              "      <td>0.000000</td>\n",
              "      <td>0.000000</td>\n",
              "      <td>0.000000</td>\n",
              "      <td>NaN</td>\n",
              "    </tr>\n",
              "    <tr>\n",
              "      <th>25%</th>\n",
              "      <td>0.000000</td>\n",
              "      <td>NaN</td>\n",
              "      <td>34.000000</td>\n",
              "      <td>0.250000</td>\n",
              "      <td>0.000000</td>\n",
              "      <td>0.000000</td>\n",
              "      <td>NaN</td>\n",
              "    </tr>\n",
              "    <tr>\n",
              "      <th>50%</th>\n",
              "      <td>0.000000</td>\n",
              "      <td>NaN</td>\n",
              "      <td>43.000000</td>\n",
              "      <td>1.000000</td>\n",
              "      <td>0.000000</td>\n",
              "      <td>0.000000</td>\n",
              "      <td>NaN</td>\n",
              "    </tr>\n",
              "    <tr>\n",
              "      <th>75%</th>\n",
              "      <td>1.000000</td>\n",
              "      <td>NaN</td>\n",
              "      <td>54.000000</td>\n",
              "      <td>1.000000</td>\n",
              "      <td>1.000000</td>\n",
              "      <td>0.000000</td>\n",
              "      <td>NaN</td>\n",
              "    </tr>\n",
              "    <tr>\n",
              "      <th>max</th>\n",
              "      <td>20.000000</td>\n",
              "      <td>NaN</td>\n",
              "      <td>73.000000</td>\n",
              "      <td>3.000000</td>\n",
              "      <td>4.000000</td>\n",
              "      <td>1.000000</td>\n",
              "      <td>NaN</td>\n",
              "    </tr>\n",
              "  </tbody>\n",
              "</table>\n",
              "</div>"
            ],
            "text/plain": [
              "          children  days_employed    dob_years  education_id  \\\n",
              "count  2174.000000            0.0  2174.000000   2174.000000   \n",
              "mean      0.552438            NaN    43.632015      0.800828   \n",
              "std       1.469356            NaN    12.531481      0.530157   \n",
              "min      -1.000000            NaN     0.000000      0.000000   \n",
              "25%       0.000000            NaN    34.000000      0.250000   \n",
              "50%       0.000000            NaN    43.000000      1.000000   \n",
              "75%       1.000000            NaN    54.000000      1.000000   \n",
              "max      20.000000            NaN    73.000000      3.000000   \n",
              "\n",
              "       family_status_id         debt  total_income  \n",
              "count       2174.000000  2174.000000           0.0  \n",
              "mean           0.975161     0.078197           NaN  \n",
              "std            1.418220     0.268543           NaN  \n",
              "min            0.000000     0.000000           NaN  \n",
              "25%            0.000000     0.000000           NaN  \n",
              "50%            0.000000     0.000000           NaN  \n",
              "75%            1.000000     0.000000           NaN  \n",
              "max            4.000000     1.000000           NaN  "
            ]
          },
          "execution_count": 59,
          "metadata": {},
          "output_type": "execute_result"
        }
      ],
      "source": [
        "#Verificando distribuição na tabela filtrada\n",
        "missing_values.describe()"
      ]
    },
    {
      "cell_type": "markdown",
      "metadata": {
        "id": "yIdM-zHxePF4"
      },
      "source": [
        "**Conclusão intermediária**\n",
        "- Os valores médios e medianos da tabela filtrada são semelhantes aos do conjunto de dados original, o que sugere que a distribuição dos dados ausentes é semelhante à distribuição geral dos dados. Isso significa que os valores ausentes não parecem introduzir um viés significativo na distribuição dos dados.\n",
        "\n",
        "- É possível que os valores ausentes sejam devidos a erros de registro, onde algumas informações não foram corretamente registradas ou foram perdidas durante o processo de coleta de dados. Também pode haver casos em que os dados não estão disponíveis devido à falta de resposta dos clientes ou à falta de registro dessas informações específicas. Além disso, problemas técnicos durante a coleta de dados podem ter impedido a obtenção de algumas informações, resultando em valores ausentes.\n",
        "- Para investigar se os valores ausentes seguem algum padrão, podemos analisar se existem correlações entre os valores ausentes e outras variáveis, como idade, educação ou tipo de renda. Isso pode nos ajudar a identificar se há algum motivo específico para a ausência de dados e se os valores ausentes estão relacionados a características particulares dos clientes."
      ]
    },
    {
      "cell_type": "code",
      "execution_count": null,
      "metadata": {
        "scrolled": true,
        "id": "1nOgFPCQePF4",
        "outputId": "e72fa557-b804-4abe-9ea0-85fcbae7e920"
      },
      "outputs": [
        {
          "data": {
            "text/plain": [
              "children\n",
              "-1     0\n",
              " 0     0\n",
              " 1     0\n",
              " 2     0\n",
              " 3     0\n",
              " 4     0\n",
              " 5     0\n",
              " 20    0\n",
              "Name: total_income, dtype: int64"
            ]
          },
          "execution_count": 60,
          "metadata": {},
          "output_type": "execute_result"
        }
      ],
      "source": [
        "# Verifique outros motivos e padrões que possam levar a valores ausentes\n",
        "#Avaliando a caracteristica número de filho\n",
        "faltantes_por_children = missing_values.groupby('children')['total_income'].count()\n",
        "faltantes_por_children"
      ]
    },
    {
      "cell_type": "code",
      "execution_count": null,
      "metadata": {
        "id": "YmEF0EnaePF4",
        "outputId": "e5644d96-b1f8-49c4-9493-34f17a0a15db"
      },
      "outputs": [
        {
          "data": {
            "text/plain": [
              "family_status\n",
              "civil partnership    0\n",
              "divorced             0\n",
              "married              0\n",
              "unmarried            0\n",
              "widow / widower      0\n",
              "Name: total_income, dtype: int64"
            ]
          },
          "execution_count": 61,
          "metadata": {},
          "output_type": "execute_result"
        }
      ],
      "source": [
        "#Avaliando o status familiar\n",
        "faltantes_por_status = missing_values.groupby('family_status')['total_income'].count()\n",
        "faltantes_por_status"
      ]
    },
    {
      "cell_type": "code",
      "execution_count": null,
      "metadata": {
        "id": "U7XJkGAXePF_",
        "outputId": "13151da9-6c29-42da-b1cb-315ee8ecacdb"
      },
      "outputs": [
        {
          "data": {
            "text/plain": [
              "purpose\n",
              "building a property                         0\n",
              "building a real estate                      0\n",
              "buy commercial real estate                  0\n",
              "buy real estate                             0\n",
              "buy residential real estate                 0\n",
              "buying a second-hand car                    0\n",
              "buying my own car                           0\n",
              "buying property for renting out             0\n",
              "car                                         0\n",
              "car purchase                                0\n",
              "cars                                        0\n",
              "construction of own property                0\n",
              "education                                   0\n",
              "getting an education                        0\n",
              "getting higher education                    0\n",
              "going to university                         0\n",
              "having a wedding                            0\n",
              "housing                                     0\n",
              "housing renovation                          0\n",
              "housing transactions                        0\n",
              "profile education                           0\n",
              "property                                    0\n",
              "purchase of a car                           0\n",
              "purchase of my own house                    0\n",
              "purchase of the house                       0\n",
              "purchase of the house for my family         0\n",
              "real estate transactions                    0\n",
              "second-hand car purchase                    0\n",
              "supplementary education                     0\n",
              "to become educated                          0\n",
              "to buy a car                                0\n",
              "to get a supplementary education            0\n",
              "to have a wedding                           0\n",
              "to own a car                                0\n",
              "transactions with commercial real estate    0\n",
              "transactions with my real estate            0\n",
              "university education                        0\n",
              "wedding ceremony                            0\n",
              "Name: total_income, dtype: int64"
            ]
          },
          "execution_count": 62,
          "metadata": {},
          "output_type": "execute_result"
        }
      ],
      "source": [
        "#Avaliando propósito do empréstimo\n",
        "faltantes_por_purpose = missing_values.groupby('purpose')['total_income'].count()\n",
        "faltantes_por_purpose"
      ]
    },
    {
      "cell_type": "markdown",
      "metadata": {
        "id": "DayFwc1oePF_"
      },
      "source": [
        "**Conclusão intermediária**\n",
        "- Com base em nossa análise até o momento, não encontramos evidências que sustentem a presença de um padrão significativo nos valores ausentes. Parece que os valores ausentes são acidentais e não estão fortemente relacionados a nenhuma característica específica dos clientes.\n",
        "- A proporção de valores ausentes é relativamente baixa em relação ao tamanho do conjunto de dados, o que indica que a perda de informações não é substancial.\n",
        "- Além disso, examinamos a distribuição dos valores para as variáveis com valores ausentes em relação aos valores das mesmas variáveis, mas não encontramos diferenças significativas que possam indicar um motivo específico para os valores ausentes.\n"
      ]
    },
    {
      "cell_type": "code",
      "execution_count": null,
      "metadata": {
        "scrolled": true,
        "id": "SWTp1MrsePGA",
        "outputId": "fdb6db9e-f82d-4064-d0d0-2376cc590f20"
      },
      "outputs": [
        {
          "data": {
            "text/plain": [
              "education\n",
              "BACHELOR'S DEGREE      0\n",
              "Bachelor's Degree      0\n",
              "PRIMARY EDUCATION      0\n",
              "Primary Education      0\n",
              "SECONDARY EDUCATION    0\n",
              "SOME COLLEGE           0\n",
              "Secondary Education    0\n",
              "Some College           0\n",
              "bachelor's degree      0\n",
              "primary education      0\n",
              "secondary education    0\n",
              "some college           0\n",
              "Name: total_income, dtype: int64"
            ]
          },
          "execution_count": 63,
          "metadata": {},
          "output_type": "execute_result"
        }
      ],
      "source": [
        "# Verificando outros padrões - explique quais\n",
        "# Distribuição dos valores ausentes de 'total_income' de acordo com nivel de escolaridade\n",
        "faltantes_por_education = missing_values.groupby('education')['total_income'].count()\n",
        "faltantes_por_education\n"
      ]
    },
    {
      "cell_type": "code",
      "execution_count": null,
      "metadata": {
        "id": "KHfX8S31ePGA",
        "outputId": "e96f26af-6d4e-4f4b-b3c9-f00e89a51ec3"
      },
      "outputs": [
        {
          "data": {
            "text/plain": [
              "gender\n",
              "F    0\n",
              "M    0\n",
              "Name: total_income, dtype: int64"
            ]
          },
          "execution_count": 64,
          "metadata": {},
          "output_type": "execute_result"
        }
      ],
      "source": [
        "#Distribuição dos valores ausentes de 'total_income' de acordo com gênero\n",
        "faltantes_por_gender = missing_values.groupby('gender')['total_income'].count()\n",
        "faltantes_por_gender\n"
      ]
    },
    {
      "cell_type": "code",
      "execution_count": null,
      "metadata": {
        "id": "AOARQLSwePGA",
        "outputId": "d1536d58-38f0-4b7f-b773-5376736ae3ba"
      },
      "outputs": [
        {
          "data": {
            "text/plain": [
              "income_type\n",
              "business         0\n",
              "civil servant    0\n",
              "employee         0\n",
              "entrepreneur     0\n",
              "retiree          0\n",
              "Name: total_income, dtype: int64"
            ]
          },
          "execution_count": 65,
          "metadata": {},
          "output_type": "execute_result"
        }
      ],
      "source": [
        "#Distribuição dos valores ausentes de 'total_income' de acordo com income type\n",
        "faltantes_por_income = missing_values.groupby('income_type')['total_income'].count()\n",
        "faltantes_por_income\n"
      ]
    },
    {
      "cell_type": "code",
      "execution_count": null,
      "metadata": {
        "id": "P5LbF-zmePGB",
        "outputId": "63cb2c8f-e813-4a9f-ac53-de020170fa4e"
      },
      "outputs": [
        {
          "data": {
            "text/plain": [
              "dob_years\n",
              "0     0\n",
              "19    0\n",
              "20    0\n",
              "21    0\n",
              "22    0\n",
              "23    0\n",
              "24    0\n",
              "25    0\n",
              "26    0\n",
              "27    0\n",
              "28    0\n",
              "29    0\n",
              "30    0\n",
              "31    0\n",
              "32    0\n",
              "33    0\n",
              "34    0\n",
              "35    0\n",
              "36    0\n",
              "37    0\n",
              "38    0\n",
              "39    0\n",
              "40    0\n",
              "41    0\n",
              "42    0\n",
              "43    0\n",
              "44    0\n",
              "45    0\n",
              "46    0\n",
              "47    0\n",
              "48    0\n",
              "49    0\n",
              "50    0\n",
              "51    0\n",
              "52    0\n",
              "53    0\n",
              "54    0\n",
              "55    0\n",
              "56    0\n",
              "57    0\n",
              "58    0\n",
              "59    0\n",
              "60    0\n",
              "61    0\n",
              "62    0\n",
              "63    0\n",
              "64    0\n",
              "65    0\n",
              "66    0\n",
              "67    0\n",
              "68    0\n",
              "69    0\n",
              "70    0\n",
              "71    0\n",
              "72    0\n",
              "73    0\n",
              "Name: total_income, dtype: int64"
            ]
          },
          "execution_count": 66,
          "metadata": {},
          "output_type": "execute_result"
        }
      ],
      "source": [
        "# Distribuição dos valores ausentes de 'total_income' de acordo com idade\n",
        "faltantes_por_age = missing_values.groupby('dob_years')['total_income'].count()\n",
        "faltantes_por_age"
      ]
    },
    {
      "cell_type": "markdown",
      "metadata": {
        "id": "6ZedkhGEePGB"
      },
      "source": [
        "**Conclusões**\n",
        "- Após uma análise minuciosa, não encontramos nenhum padrão significativo nos valores ausentes. A proporção de valores ausentes em relação ao tamanho do conjunto de dados é relativamente baixa, e a distribuição dos valores nas outras variáveis não apresenta nenhum comportamento consistente. Com base nessas observações, podemos concluir que os valores ausentes são acidentais e não estão relacionados a nenhuma característica específica dos clientes.\n",
        "\n",
        "\n",
        "- Abordaremos os valores ausentes preenchendo-os com a mediana da respectiva coluna. A escolha da mediana se deve ao fato de ser uma medida robusta que não é afetada por valores extremos. Isso nos permitirá preservar a distribuição geral dos dados e minimizar o impacto dos valores ausentes em nossas análises.\n",
        "\n",
        "\n",
        "- As próximas etapas para transformar os dados consistem em:\n",
        "    - Identificar e remover registros duplicados.\n",
        "    - Verificar e corrigir quaisquer valores incorretos ou inconsistentes.\n",
        "    - Preencher os valores ausentes utilizando a mediana da respectiva coluna.\n",
        "    - Converter variáveis categóricas em variáveis ordinais, se necessário, para facilitar a análise e modelagem dos dados.\n"
      ]
    },
    {
      "cell_type": "markdown",
      "metadata": {
        "id": "y13cf61IePGB"
      },
      "source": [
        "## Transformação de dados\n",
        "\n",
        "\n",
        "- Verificando os dados na coluna 'education'"
      ]
    },
    {
      "cell_type": "code",
      "execution_count": null,
      "metadata": {
        "id": "QNKlV5QfePGC",
        "outputId": "36feaa9d-e4c2-45da-94d8-530a50af609b"
      },
      "outputs": [
        {
          "data": {
            "text/plain": [
              "array([\"bachelor's degree\", 'secondary education', 'Secondary Education',\n",
              "       'SECONDARY EDUCATION', \"BACHELOR'S DEGREE\", 'some college',\n",
              "       'primary education', \"Bachelor's Degree\", 'SOME COLLEGE',\n",
              "       'Some College', 'PRIMARY EDUCATION', 'Primary Education',\n",
              "       'Graduate Degree', 'GRADUATE DEGREE', 'graduate degree'],\n",
              "      dtype=object)"
            ]
          },
          "execution_count": 67,
          "metadata": {},
          "output_type": "execute_result"
        }
      ],
      "source": [
        "# Vamos ver todos os valores na coluna de educação para verificar se e quais grafias precisarão ser corrigidas\n",
        "dados['education'].unique()"
      ]
    },
    {
      "cell_type": "code",
      "execution_count": null,
      "metadata": {
        "scrolled": true,
        "id": "W4GWM56IePGC"
      },
      "outputs": [],
      "source": [
        "# Corrija os registros, se necessário\n",
        "wrong_values = {\n",
        "    \"bachelor's degree\": \"Bachelor's Degree\",\n",
        "    \"BACHELOR'S DEGREE\": \"Bachelor's Degree\",\n",
        "    \"secondary education\": \"Secondary Education\",\n",
        "    \"SECONDARY EDUCATION\": \"Secondary Education\",\n",
        "    \"GRADUATE DEGREE\": \"Graduate Degree\",\n",
        "    \"graduate degree\": \"Graduate Degree\",\n",
        "    \"SOME COLLEGE\": \"Some College\",\n",
        "    \"some college\": \"Some College\",\n",
        "    \"primary education\": \"Primary Education\",\n",
        "    \"PRIMARY EDUCATION\": \"Primary Education\",\n",
        "}\n",
        "\n",
        "\n",
        "for key, value in wrong_values.items():\n",
        "    dados['education'] = dados['education'].replace(key,value)\n"
      ]
    },
    {
      "cell_type": "code",
      "execution_count": null,
      "metadata": {
        "id": "TDplb5XZePGC",
        "outputId": "220679d9-7c42-4835-8f45-2137080c3d6d"
      },
      "outputs": [
        {
          "data": {
            "text/plain": [
              "array([\"Bachelor's Degree\", 'Secondary Education', 'Some College',\n",
              "       'Primary Education', 'Graduate Degree'], dtype=object)"
            ]
          },
          "execution_count": 69,
          "metadata": {},
          "output_type": "execute_result"
        }
      ],
      "source": [
        "# Verificando todos os valores na coluna para ter certeza de que os corrigimos\n",
        "dados['education'].unique()"
      ]
    },
    {
      "cell_type": "markdown",
      "metadata": {
        "id": "_B33EXpRePGD"
      },
      "source": [
        "- Verificando os dados na coluna 'children'"
      ]
    },
    {
      "cell_type": "code",
      "execution_count": null,
      "metadata": {
        "id": "-Mj0PdeyePGD",
        "outputId": "fe751452-2848-48d2-fbf0-61b44d53ee46"
      },
      "outputs": [
        {
          "data": {
            "text/plain": [
              "array([ 1,  0,  3,  2, -1,  4, 20,  5])"
            ]
          },
          "execution_count": 70,
          "metadata": {},
          "output_type": "execute_result"
        }
      ],
      "source": [
        "# Vamos ver a distribuição de valores na coluna `children`\n",
        "dados['children'].unique()"
      ]
    },
    {
      "cell_type": "code",
      "execution_count": null,
      "metadata": {
        "id": "37qsg4VXePGD",
        "outputId": "bfab2b54-6742-4ffd-86e5-04465ba78721"
      },
      "outputs": [
        {
          "data": {
            "text/plain": [
              "21525"
            ]
          },
          "execution_count": 71,
          "metadata": {},
          "output_type": "execute_result"
        }
      ],
      "source": [
        "dados['children'].count()"
      ]
    },
    {
      "cell_type": "code",
      "execution_count": null,
      "metadata": {
        "id": "olFSkmUSePGD",
        "outputId": "8ba53026-3b73-4da9-d43f-cbbfa6b51403"
      },
      "outputs": [
        {
          "data": {
            "text/plain": [
              "47"
            ]
          },
          "execution_count": 72,
          "metadata": {},
          "output_type": "execute_result"
        }
      ],
      "source": [
        "#verificando a quantidade de valores menor que zero na coluna children\n",
        "dados[dados['children'] < 0 ]['children'].count()"
      ]
    },
    {
      "cell_type": "code",
      "execution_count": null,
      "metadata": {
        "id": "zq6RaZrgePGE",
        "outputId": "35f3a55b-6ba6-468f-e855-b7ef22fa8cd0"
      },
      "outputs": [
        {
          "data": {
            "text/plain": [
              "0.2183507549361208"
            ]
          },
          "execution_count": 73,
          "metadata": {},
          "output_type": "execute_result"
        }
      ],
      "source": [
        "#Porcentagem de dados problemáticos\n",
        "dados[dados['children'] < 0 ]['children'].count()/dados['children'].count()*100"
      ]
    },
    {
      "cell_type": "markdown",
      "metadata": {
        "id": "yNveQblbePGE"
      },
      "source": [
        "- Há algo estranho na coluna 'children', existem valores negativos. A porcentagem de dados problemáticos é de 0.21% do total de dados.\n",
        "- Esses problemas podem ter ocorrido devido a erros de registro, digitação incorreta ou problemas com a entrada de dados no sistema.\n",
        "- Para lidar com esses dados, uma opção é substituir os valores negativos pelo seu correspondente positivo, assumindo que foi um erro na entrada dos dados. No entanto, essa abordagem pode introduzir outras inconsistências nos dados. Outra opção é excluir esses registros considerando que eles representam uma pequena porcentagem do conjunto de dados. Neste caso, optei por excluir os valores negativos, considerando que eles compõem uma porcentagem muito pequena do dataframe."
      ]
    },
    {
      "cell_type": "code",
      "execution_count": null,
      "metadata": {
        "id": "mjTfu8ElePGE"
      },
      "outputs": [],
      "source": [
        "dados_new = dados"
      ]
    },
    {
      "cell_type": "code",
      "execution_count": null,
      "metadata": {
        "id": "3yWhxCxtePGE"
      },
      "outputs": [],
      "source": [
        "# Corrija os dados com base na sua decisão\n",
        "dados_new['children'] = dados_new['children'].abs()"
      ]
    },
    {
      "cell_type": "code",
      "execution_count": null,
      "metadata": {
        "id": "cH2Zkg7yePGF"
      },
      "outputs": [],
      "source": [
        "dados_new['children'] = dados_new['children'].replace(20, 2)"
      ]
    },
    {
      "cell_type": "code",
      "execution_count": null,
      "metadata": {
        "id": "0ZRgN_G6ePGF",
        "outputId": "7abe0f54-dc6e-4d4a-b6f8-da6981cf0da1"
      },
      "outputs": [
        {
          "data": {
            "text/plain": [
              "[0, 1, 2, 3, 4, 5]"
            ]
          },
          "execution_count": 77,
          "metadata": {},
          "output_type": "execute_result"
        }
      ],
      "source": [
        "# Verificar a coluna `children` novamente para ter certeza de que está tudo corrigido\n",
        "sorted(dados_new['children'].unique())"
      ]
    },
    {
      "cell_type": "markdown",
      "metadata": {
        "id": "bYdrTt0zePGF"
      },
      "source": [
        "- Verificando os dados na coluna 'days_employed'"
      ]
    },
    {
      "cell_type": "code",
      "execution_count": null,
      "metadata": {
        "id": "JfC5unr7ePGG",
        "outputId": "c566aa15-8521-415e-9e7c-6f3db1f64186"
      },
      "outputs": [
        {
          "data": {
            "text/plain": [
              "array([-8437.67302776, -4024.80375385, -5623.42261023, ...,\n",
              "       -2113.3468877 , -3112.4817052 , -1984.50758853])"
            ]
          },
          "execution_count": 78,
          "metadata": {},
          "output_type": "execute_result"
        }
      ],
      "source": [
        "# Encontre dados problemáticos em `days_employed`, se existirem, e calcule a porcentagem\n",
        "dados['days_employed'].unique()"
      ]
    },
    {
      "cell_type": "code",
      "execution_count": null,
      "metadata": {
        "id": "DDPYenNpePGG",
        "outputId": "a9bb95ac-72b6-4d50-8979-2cbc41e72e8d"
      },
      "outputs": [
        {
          "data": {
            "text/plain": [
              "82.19730246498888"
            ]
          },
          "execution_count": 79,
          "metadata": {},
          "output_type": "execute_result"
        }
      ],
      "source": [
        "# Verificando a % de dados negativos da coluna days_employed\n",
        "data_days_negative = dados[dados['days_employed'] <= 0]['days_employed'].count()/dados['days_employed'].count()\n",
        "data_days_negative*100"
      ]
    },
    {
      "cell_type": "code",
      "execution_count": null,
      "metadata": {
        "id": "Eo38VlwJePGG",
        "outputId": "e54909c8-00e4-495c-b29a-5bb7d241799b"
      },
      "outputs": [
        {
          "data": {
            "text/plain": [
              "2353.0159319988766"
            ]
          },
          "execution_count": 80,
          "metadata": {},
          "output_type": "execute_result"
        }
      ],
      "source": [
        "#Mean de valores negativos na coluna days_employed\n",
        "xn = dados[dados['days_employed'] < 0]['days_employed']\n",
        "-xn.mean()"
      ]
    },
    {
      "cell_type": "code",
      "execution_count": null,
      "metadata": {
        "id": "1UXFpfEiePGG",
        "outputId": "b0691bfc-5ba8-4a36-ea0a-1c9737b881e3"
      },
      "outputs": [
        {
          "data": {
            "text/plain": [
              "365004.3099162686"
            ]
          },
          "execution_count": 81,
          "metadata": {},
          "output_type": "execute_result"
        }
      ],
      "source": [
        "#Mean de valores positivos na coluna days_employed\n",
        "xp = dados[dados['days_employed'] >= 0]['days_employed']\n",
        "xp.mean()"
      ]
    },
    {
      "cell_type": "code",
      "execution_count": null,
      "metadata": {
        "id": "apAsiumTePGG",
        "outputId": "14e80c04-c9bd-490f-e7d9-c897711a2cd4"
      },
      "outputs": [
        {
          "data": {
            "text/plain": [
              "21075.016396377556"
            ]
          },
          "execution_count": 82,
          "metadata": {},
          "output_type": "execute_result"
        }
      ],
      "source": [
        "#Desvio padrão dos valores positivos\n",
        "xp.std()"
      ]
    },
    {
      "cell_type": "code",
      "execution_count": null,
      "metadata": {
        "id": "EvGQoJBEePGH",
        "outputId": "1cd30150-920a-4f15-aca8-d0e45a4a87e5"
      },
      "outputs": [
        {
          "data": {
            "text/plain": [
              "2304.2438507068005"
            ]
          },
          "execution_count": 83,
          "metadata": {},
          "output_type": "execute_result"
        }
      ],
      "source": [
        "#Desvio padrão dos valores negativos\n",
        "xn.std()"
      ]
    },
    {
      "cell_type": "code",
      "execution_count": null,
      "metadata": {
        "id": "mkJYXMlgePGH",
        "outputId": "77feac4a-acc1-46d2-cf63-62613bfffdfd"
      },
      "outputs": [
        {
          "data": {
            "text/plain": [
              "(-24.14163324048118, -18388.949900568383)"
            ]
          },
          "execution_count": 84,
          "metadata": {},
          "output_type": "execute_result"
        }
      ],
      "source": [
        "xn.max(),xn.min()"
      ]
    },
    {
      "cell_type": "code",
      "execution_count": null,
      "metadata": {
        "id": "SiSFRe6mePGH",
        "outputId": "239769de-cdcf-4771-e92e-0c4607835f93"
      },
      "outputs": [
        {
          "data": {
            "text/plain": [
              "(401755.40047533, 328728.72060451825)"
            ]
          },
          "execution_count": 85,
          "metadata": {},
          "output_type": "execute_result"
        }
      ],
      "source": [
        "xp.max(),xp.min()"
      ]
    },
    {
      "cell_type": "code",
      "execution_count": null,
      "metadata": {
        "id": "Xfnzw-jxePGI"
      },
      "outputs": [],
      "source": [
        "#Substituindo os valores impossíveis de days_employed pela mediana\n",
        "#Calculando a mediana de valores reais (< 36500) da coluna 'days_employed'\n",
        "median_days_employed = dados_new.loc[dados_new['days_employed'] < 36500, 'days_employed'].median()"
      ]
    },
    {
      "cell_type": "code",
      "execution_count": null,
      "metadata": {
        "id": "9PgkgQ-cePGI",
        "outputId": "3732c414-dd59-43fc-dc6e-4b2ff4b0a06b"
      },
      "outputs": [
        {
          "data": {
            "text/plain": [
              "-1630.0193809778218"
            ]
          },
          "execution_count": 87,
          "metadata": {},
          "output_type": "execute_result"
        }
      ],
      "source": [
        " median_days_employed"
      ]
    },
    {
      "cell_type": "code",
      "execution_count": null,
      "metadata": {
        "id": "MDyqvVsRePGI"
      },
      "outputs": [],
      "source": [
        "#Substituindo os valores irreais pela mediada da coluna considerando os valores reais\n",
        "dados_new.loc[dados_new['days_employed'] > 36500, 'days_employed'] = median_days_employed"
      ]
    },
    {
      "cell_type": "markdown",
      "metadata": {
        "id": "-Ou9Rr3GePGI"
      },
      "source": [
        "- Considerando que a maior idade que temos no dataframe é de 75 anos, isso equilave aproximadamente a 27.394 dias trabalhados. Tratamos os dados com valores irreais substituindo-os pela mediana calculada para valores considerados reais da coluna 'days_employed'.\n",
        "- Essa abordagem tem como objetivo tratar valores que parecem ser extremos na coluna 'days_employed', substituindo-os por um valor mais representativo da maioria dos dados válidos, que é a mediana. Isso ajuda a evitar distorções e anomalias nos dados e a garantir uma análise mais precisa."
      ]
    },
    {
      "cell_type": "markdown",
      "metadata": {
        "id": "dVoVCXiIePGJ"
      },
      "source": [
        "- A coluna 'days_employed' apresenta uma grande discrepância entre os valores negativos e positivos. Mais de 80% dos dados são negativos, enquanto os valores positivos são significativamente maiores em média. Além disso, o desvio padrão dos valores negativos é menor em comparação aos positivos. Os valores negativos também têm um intervalo mínimo e máximo distintos em relação aos positivos.\n",
        "- Esses padrões levantam preocupações sobre a integridade e consistência dos dados na coluna 'days_employed'. É possível que os valores negativos representem algum tipo de erro ou problema na coleta ou entrada dos dados. Esses valores negativos extremos, como -18388.95, não fazem sentido na interpretação de dias trabalhados.\n",
        "- Talvez descartar a variavel days_employed ou transformar em valores absolutos para eliminar negativos.\n"
      ]
    },
    {
      "cell_type": "code",
      "execution_count": null,
      "metadata": {
        "id": "N29ehXj4ePGK"
      },
      "outputs": [],
      "source": [
        "# Aborde os valores problemáticos, se existirem\n",
        "dados_new['days_employed'] = dados_new['days_employed'].abs()"
      ]
    },
    {
      "cell_type": "code",
      "execution_count": null,
      "metadata": {
        "id": "8lbKP-2oePGK",
        "outputId": "5f11eb7c-92cb-4f7e-d1d2-bae8a31b1de3"
      },
      "outputs": [
        {
          "data": {
            "text/plain": [
              "0        8437.673028\n",
              "1        4024.803754\n",
              "2        5623.422610\n",
              "3        4124.747207\n",
              "4        1630.019381\n",
              "            ...     \n",
              "21520    4529.316663\n",
              "21521    1630.019381\n",
              "21522    2113.346888\n",
              "21523    3112.481705\n",
              "21524    1984.507589\n",
              "Name: days_employed, Length: 21525, dtype: float64"
            ]
          },
          "execution_count": 90,
          "metadata": {},
          "output_type": "execute_result"
        }
      ],
      "source": [
        "# Verifique o resultado - certifique-se de que está corrigido\n",
        "dados_new['days_employed']"
      ]
    },
    {
      "cell_type": "markdown",
      "metadata": {
        "id": "1oMTkTyDePGK"
      },
      "source": [
        "- Verificando a idade do cliente pela coluna 'dob_years'"
      ]
    },
    {
      "cell_type": "code",
      "execution_count": null,
      "metadata": {
        "scrolled": true,
        "id": "u9uJnQwDePGK",
        "outputId": "2263df1a-98d3-451b-b029-518f3183ea3c"
      },
      "outputs": [
        {
          "data": {
            "text/plain": [
              "array([42, 36, 33, 32, 53, 27, 43, 50, 35, 41, 40, 65, 54, 56, 26, 48, 24,\n",
              "       21, 57, 67, 28, 63, 62, 47, 34, 68, 25, 31, 30, 20, 49, 37, 45, 61,\n",
              "       64, 44, 52, 46, 23, 38, 39, 51,  0, 59, 29, 60, 55, 58, 71, 22, 73,\n",
              "       66, 69, 19, 72, 70, 74, 75])"
            ]
          },
          "execution_count": 91,
          "metadata": {},
          "output_type": "execute_result"
        }
      ],
      "source": [
        "# Verifique o `dob_years` para valores suspeitos e conte a porcentagem\n",
        "dados_new['dob_years'].unique()"
      ]
    },
    {
      "cell_type": "code",
      "execution_count": null,
      "metadata": {
        "id": "bLeO1vlxePGL",
        "outputId": "4178727f-6350-4d96-b0e8-09f3254c0233"
      },
      "outputs": [
        {
          "data": {
            "text/plain": [
              "101"
            ]
          },
          "execution_count": 92,
          "metadata": {},
          "output_type": "execute_result"
        }
      ],
      "source": [
        "dados_new[dados_new['dob_years'] == 0].shape[0]"
      ]
    },
    {
      "cell_type": "code",
      "execution_count": null,
      "metadata": {
        "id": "XwqRNBwIePGL",
        "outputId": "3cbf812d-b9ba-40a0-a50c-4a123f1e8c18"
      },
      "outputs": [
        {
          "data": {
            "text/plain": [
              "0.4692218350754936"
            ]
          },
          "execution_count": 93,
          "metadata": {},
          "output_type": "execute_result"
        }
      ],
      "source": [
        "#Porcentagem de valores iguais a zero\n",
        "(dados_new[dados_new['dob_years'] == 0]['dob_years'].count() / dados_new['dob_years'].count()) * 100"
      ]
    },
    {
      "cell_type": "markdown",
      "metadata": {
        "id": "M9uR-PC8ePGL"
      },
      "source": [
        "- Considerando que temos uma pequena porcentagem de valores problemáticos na coluna 'dob_years' (idade igual a zero) e já realizamos exclusões anteriores, é razoável optar por substituir esses valores pela mediana. A substituição pela mediana é menos sensível a valores extremos, e ajuda a preservar a distribuição dos dados.\n",
        "\n",
        "- Substituir os valores problemáticos pela mediana é uma escolha adequada, pois nos permite manter a integridade do conjunto de dados e evitar distorções nos resultados da análise. Além disso, ao substituir os valores problemáticos pela mediana, ainda podemos aproveitar as informações válidas presentes nos outros atributos desses registros."
      ]
    },
    {
      "cell_type": "code",
      "execution_count": null,
      "metadata": {
        "id": "0aHB4jRXePGM",
        "outputId": "6e3b0edd-98b4-4a69-da78-8637f4ac8346"
      },
      "outputs": [
        {
          "data": {
            "text/plain": [
              "43.0"
            ]
          },
          "execution_count": 94,
          "metadata": {},
          "output_type": "execute_result"
        }
      ],
      "source": [
        "# Resolva os problemas na coluna `dob_years`, se existirem\n",
        "dob_years_median = dados_new.loc[dados_new['dob_years'] != 0,'dob_years'].median()\n",
        "dob_years_median"
      ]
    },
    {
      "cell_type": "code",
      "execution_count": null,
      "metadata": {
        "id": "WMVxowT3ePGM"
      },
      "outputs": [],
      "source": [
        "dados_new['dob_years'] = dados_new['dob_years'].replace(0,dob_years_median)"
      ]
    },
    {
      "cell_type": "code",
      "execution_count": null,
      "metadata": {
        "id": "TTmKxWG8ePGM",
        "outputId": "527f2758-dcd8-4433-80e6-1de1c65569fa"
      },
      "outputs": [
        {
          "data": {
            "text/plain": [
              "array([42, 36, 33, 32, 53, 27, 43, 50, 35, 41, 40, 65, 54, 56, 26, 48, 24,\n",
              "       21, 57, 67, 28, 63, 62, 47, 34, 68, 25, 31, 30, 20, 49, 37, 45, 61,\n",
              "       64, 44, 52, 46, 23, 38, 39, 51, 59, 29, 60, 55, 58, 71, 22, 73, 66,\n",
              "       69, 19, 72, 70, 74, 75])"
            ]
          },
          "execution_count": 96,
          "metadata": {},
          "output_type": "execute_result"
        }
      ],
      "source": [
        "# Verifique o resultado - certifique-se de que está corrigido\n",
        "dados_new['dob_years'].unique()"
      ]
    },
    {
      "cell_type": "markdown",
      "metadata": {
        "id": "xBofOtyRePGN"
      },
      "source": [
        "- Verificando a coluna 'family_status'"
      ]
    },
    {
      "cell_type": "code",
      "execution_count": null,
      "metadata": {
        "id": "vweMNS6RePGN",
        "outputId": "7162a74c-4b61-460a-fc16-33996c796803"
      },
      "outputs": [
        {
          "data": {
            "text/plain": [
              "array(['married', 'civil partnership', 'widow / widower', 'divorced',\n",
              "       'unmarried'], dtype=object)"
            ]
          },
          "execution_count": 97,
          "metadata": {},
          "output_type": "execute_result"
        }
      ],
      "source": [
        "# Vamos ver os valores da coluna\n",
        "dados_new['family_status'].unique()"
      ]
    },
    {
      "cell_type": "code",
      "execution_count": null,
      "metadata": {
        "id": "6AyZJLNcePGN"
      },
      "outputs": [],
      "source": [
        "# Aborde os valores problemáticos em `family_status`, se eles existirem\n",
        "#Não foi encontrado valores problemáticos nesta coluna"
      ]
    },
    {
      "cell_type": "code",
      "execution_count": null,
      "metadata": {
        "id": "QIPv69CjePGN"
      },
      "outputs": [],
      "source": [
        "# Verifique o resultado - certifique-se de que está corrigido"
      ]
    },
    {
      "cell_type": "markdown",
      "metadata": {
        "id": "KDSYmX8nePGO"
      },
      "source": [
        "- Verificando a coluna 'gender'"
      ]
    },
    {
      "cell_type": "code",
      "execution_count": null,
      "metadata": {
        "id": "csEFOtgoePGO",
        "outputId": "fa694368-1699-4e4d-c89b-ef1b83637821"
      },
      "outputs": [
        {
          "data": {
            "text/plain": [
              "array(['F', 'M', 'XNA'], dtype=object)"
            ]
          },
          "execution_count": 100,
          "metadata": {},
          "output_type": "execute_result"
        }
      ],
      "source": [
        "# Vamos ver os valores na coluna\n",
        "dados_new['gender'].unique()"
      ]
    },
    {
      "cell_type": "code",
      "execution_count": null,
      "metadata": {
        "id": "J8ad7l_3ePGO",
        "outputId": "8a00bd5e-42bb-4fe0-8b2d-2dd494ed9360"
      },
      "outputs": [
        {
          "data": {
            "text/html": [
              "<div>\n",
              "<style scoped>\n",
              "    .dataframe tbody tr th:only-of-type {\n",
              "        vertical-align: middle;\n",
              "    }\n",
              "\n",
              "    .dataframe tbody tr th {\n",
              "        vertical-align: top;\n",
              "    }\n",
              "\n",
              "    .dataframe thead th {\n",
              "        text-align: right;\n",
              "    }\n",
              "</style>\n",
              "<table border=\"1\" class=\"dataframe\">\n",
              "  <thead>\n",
              "    <tr style=\"text-align: right;\">\n",
              "      <th></th>\n",
              "      <th>children</th>\n",
              "      <th>days_employed</th>\n",
              "      <th>dob_years</th>\n",
              "      <th>education</th>\n",
              "      <th>education_id</th>\n",
              "      <th>family_status</th>\n",
              "      <th>family_status_id</th>\n",
              "      <th>gender</th>\n",
              "      <th>income_type</th>\n",
              "      <th>debt</th>\n",
              "      <th>total_income</th>\n",
              "      <th>purpose</th>\n",
              "    </tr>\n",
              "  </thead>\n",
              "  <tbody>\n",
              "    <tr>\n",
              "      <th>10701</th>\n",
              "      <td>0</td>\n",
              "      <td>2358.600502</td>\n",
              "      <td>24</td>\n",
              "      <td>Some College</td>\n",
              "      <td>2</td>\n",
              "      <td>civil partnership</td>\n",
              "      <td>1</td>\n",
              "      <td>XNA</td>\n",
              "      <td>business</td>\n",
              "      <td>0</td>\n",
              "      <td>32624.825</td>\n",
              "      <td>buy real estate</td>\n",
              "    </tr>\n",
              "  </tbody>\n",
              "</table>\n",
              "</div>"
            ],
            "text/plain": [
              "       children  days_employed  dob_years     education  education_id  \\\n",
              "10701         0    2358.600502         24  Some College             2   \n",
              "\n",
              "           family_status  family_status_id gender income_type  debt  \\\n",
              "10701  civil partnership                 1    XNA    business     0   \n",
              "\n",
              "       total_income          purpose  \n",
              "10701     32624.825  buy real estate  "
            ]
          },
          "execution_count": 101,
          "metadata": {},
          "output_type": "execute_result"
        }
      ],
      "source": [
        "# Aborde os valores problemáticos, se existirem\n",
        "dados_new[dados_new['gender'] == 'XNA']"
      ]
    },
    {
      "cell_type": "code",
      "execution_count": null,
      "metadata": {
        "id": "E-Q2HlSWePGO"
      },
      "outputs": [],
      "source": [
        "dados_new = dados_new.drop(dados_new[dados_new['gender'] == 'XNA'].index)"
      ]
    },
    {
      "cell_type": "code",
      "execution_count": null,
      "metadata": {
        "id": "z3npyx4hePGP",
        "outputId": "b595cc21-5849-4c1e-8015-1eef3b6a2cc9"
      },
      "outputs": [
        {
          "data": {
            "text/plain": [
              "array(['F', 'M'], dtype=object)"
            ]
          },
          "execution_count": 103,
          "metadata": {},
          "output_type": "execute_result"
        }
      ],
      "source": [
        "# Verifique o resultado - certifique-se de que está corrigido\n",
        "dados_new['gender'].unique()"
      ]
    },
    {
      "cell_type": "markdown",
      "metadata": {
        "id": "joEEKnG5ePGP"
      },
      "source": [
        "- Verificando a coluna 'income_type'"
      ]
    },
    {
      "cell_type": "code",
      "execution_count": null,
      "metadata": {
        "id": "8bjJko_SePGP",
        "outputId": "3bbd5804-ba71-4a8d-b03e-e10a778cc78f"
      },
      "outputs": [
        {
          "data": {
            "text/plain": [
              "array(['employee', 'retiree', 'business', 'civil servant', 'unemployed',\n",
              "       'entrepreneur', 'student', 'paternity / maternity leave'],\n",
              "      dtype=object)"
            ]
          },
          "execution_count": 104,
          "metadata": {},
          "output_type": "execute_result"
        }
      ],
      "source": [
        "# Vamos ver os valores na coluna\n",
        "dados_new['income_type'].unique()"
      ]
    },
    {
      "cell_type": "code",
      "execution_count": null,
      "metadata": {
        "id": "iQ9SPz4AePGQ"
      },
      "outputs": [],
      "source": [
        "# Aborde os valores problemáticos, se existirem\n",
        "#Não foi encontrado valores problemáticos nesta coluna"
      ]
    },
    {
      "cell_type": "code",
      "execution_count": null,
      "metadata": {
        "id": "hzZSUcwGePGQ"
      },
      "outputs": [],
      "source": [
        "# Verifique o resultado - certifique-se de que está corrigido"
      ]
    },
    {
      "cell_type": "markdown",
      "metadata": {
        "id": "iglmXG0bePGQ"
      },
      "source": [
        "- Verificando se temos dados duplicados e corrigindo-os"
      ]
    },
    {
      "cell_type": "code",
      "execution_count": null,
      "metadata": {
        "id": "u5tbTAv4ePGQ",
        "outputId": "8f103f92-9837-48de-adaa-14d42ed19bd0"
      },
      "outputs": [
        {
          "data": {
            "text/plain": [
              "71"
            ]
          },
          "execution_count": 107,
          "metadata": {},
          "output_type": "execute_result"
        }
      ],
      "source": [
        "# Verificar duplicados\n",
        "dados_new.duplicated().sum()"
      ]
    },
    {
      "cell_type": "code",
      "execution_count": null,
      "metadata": {
        "id": "7IDV8t4MePGR"
      },
      "outputs": [],
      "source": [
        "# Corrija os duplicados, se existirem\n",
        "dados_new = dados_new.drop_duplicates().reset_index(drop=True)"
      ]
    },
    {
      "cell_type": "code",
      "execution_count": null,
      "metadata": {
        "id": "y3GrvEvuePGR",
        "outputId": "a20551b8-c7e1-46b2-b919-4ab34b7d2219"
      },
      "outputs": [
        {
          "data": {
            "text/plain": [
              "0"
            ]
          },
          "execution_count": 109,
          "metadata": {},
          "output_type": "execute_result"
        }
      ],
      "source": [
        "# Última verificação se temos duplicados\n",
        "dados_new.duplicated().sum()"
      ]
    },
    {
      "cell_type": "code",
      "execution_count": null,
      "metadata": {
        "id": "LGU27hNuePGR",
        "outputId": "07999b53-e024-4940-c80d-fca4346bee33"
      },
      "outputs": [
        {
          "data": {
            "text/plain": [
              "(21453, 12)"
            ]
          },
          "execution_count": 110,
          "metadata": {},
          "output_type": "execute_result"
        }
      ],
      "source": [
        "#Verifique o tamanho do conjunto de dados que você tem agora após suas primeiras manipulações com ele\n",
        "#Validar para saber se aumentou ou diminuiu o tamanho do dataframe\n",
        "dados_new.shape"
      ]
    },
    {
      "cell_type": "code",
      "execution_count": null,
      "metadata": {
        "id": "nRpUOyPzePGS",
        "outputId": "23fa7446-3c87-4a76-a529-98aa13e31708"
      },
      "outputs": [
        {
          "data": {
            "text/plain": [
              "(21525, 12)"
            ]
          },
          "execution_count": 111,
          "metadata": {},
          "output_type": "execute_result"
        }
      ],
      "source": [
        "dados.shape"
      ]
    },
    {
      "cell_type": "markdown",
      "metadata": {
        "id": "GWJcFy1MePGS"
      },
      "source": [
        "- O novo conjunto de dados (dados_new) apresenta algumas alterações em relação ao conjunto original:\n",
        "    - Foram removidos os valores em que o número de filhos era negativo.\n",
        "    - Os valores zero da coluna 'dob_years' foram substituídos pela mediana da coluna, considerando que não é possível ter clientes com zero anos de idade para análise de empréstimo.\n",
        "    - Foi removido um valor isolado e não identificado ('XNA') na coluna 'gender'.\n",
        "    - Foram removidos os dados duplicados.\n",
        "    - A variável 'days_employed' foi transformada em valores absolutos para prosseguir com a análise."
      ]
    },
    {
      "cell_type": "markdown",
      "metadata": {
        "id": "wvp0rqhcePGS"
      },
      "source": [
        "# Trabalhando com valores ausentes"
      ]
    },
    {
      "cell_type": "markdown",
      "metadata": {
        "id": "5jlWX2tvePGT"
      },
      "source": [
        "- Para otimizar o trabalho e melhorar a consistência dos dados, será utilizado um dicionário para a coluna \"education\". Isso ocorre porque existem diferentes grafias para valores semelhantes, o que pode dificultar a análise e a categorização correta.\n",
        "\n",
        "- Ao utilizar um dicionário, será possível mapear os diferentes valores para uma forma padronizada, facilitando a análise e o agrupamento dos dados. Por exemplo, existem valores como \"Bachelor's\", \"Bachelor\", \"bachelor's degree\", todos se referindo ao mesmo tipo de educação, o dicionário permitirá padronizar todos eles para uma única forma, evitando duplicações e inconsistências."
      ]
    },
    {
      "cell_type": "code",
      "execution_count": null,
      "metadata": {
        "id": "JPlVlUkrePGT",
        "outputId": "a9416027-41f6-49cf-e712-17cac313b384"
      },
      "outputs": [
        {
          "data": {
            "text/html": [
              "<div>\n",
              "<style scoped>\n",
              "    .dataframe tbody tr th:only-of-type {\n",
              "        vertical-align: middle;\n",
              "    }\n",
              "\n",
              "    .dataframe tbody tr th {\n",
              "        vertical-align: top;\n",
              "    }\n",
              "\n",
              "    .dataframe thead th {\n",
              "        text-align: right;\n",
              "    }\n",
              "</style>\n",
              "<table border=\"1\" class=\"dataframe\">\n",
              "  <thead>\n",
              "    <tr style=\"text-align: right;\">\n",
              "      <th></th>\n",
              "      <th>education_id</th>\n",
              "      <th>education</th>\n",
              "    </tr>\n",
              "  </thead>\n",
              "  <tbody>\n",
              "    <tr>\n",
              "      <th>0</th>\n",
              "      <td>0</td>\n",
              "      <td>Bachelor's Degree</td>\n",
              "    </tr>\n",
              "    <tr>\n",
              "      <th>1</th>\n",
              "      <td>1</td>\n",
              "      <td>Secondary Education</td>\n",
              "    </tr>\n",
              "    <tr>\n",
              "      <th>2</th>\n",
              "      <td>2</td>\n",
              "      <td>Some College</td>\n",
              "    </tr>\n",
              "    <tr>\n",
              "      <th>3</th>\n",
              "      <td>3</td>\n",
              "      <td>Primary Education</td>\n",
              "    </tr>\n",
              "    <tr>\n",
              "      <th>4</th>\n",
              "      <td>4</td>\n",
              "      <td>Graduate Degree</td>\n",
              "    </tr>\n",
              "  </tbody>\n",
              "</table>\n",
              "</div>"
            ],
            "text/plain": [
              "   education_id            education\n",
              "0             0    Bachelor's Degree\n",
              "1             1  Secondary Education\n",
              "2             2         Some College\n",
              "3             3    Primary Education\n",
              "4             4      Graduate Degree"
            ]
          },
          "execution_count": 112,
          "metadata": {},
          "output_type": "execute_result"
        }
      ],
      "source": [
        "# Encontre os dicionários\n",
        "education_dic = dados[['education_id', 'education']]\n",
        "education_dic = education_dic.drop_duplicates().reset_index(drop=True)\n",
        "education_dic"
      ]
    },
    {
      "cell_type": "code",
      "execution_count": null,
      "metadata": {
        "id": "MHV0YbaqePGT",
        "outputId": "47c59d49-a457-467b-a5a5-313199041b3c"
      },
      "outputs": [
        {
          "data": {
            "text/html": [
              "<div>\n",
              "<style scoped>\n",
              "    .dataframe tbody tr th:only-of-type {\n",
              "        vertical-align: middle;\n",
              "    }\n",
              "\n",
              "    .dataframe tbody tr th {\n",
              "        vertical-align: top;\n",
              "    }\n",
              "\n",
              "    .dataframe thead th {\n",
              "        text-align: right;\n",
              "    }\n",
              "</style>\n",
              "<table border=\"1\" class=\"dataframe\">\n",
              "  <thead>\n",
              "    <tr style=\"text-align: right;\">\n",
              "      <th></th>\n",
              "      <th>family_status_id</th>\n",
              "      <th>family_status</th>\n",
              "    </tr>\n",
              "  </thead>\n",
              "  <tbody>\n",
              "    <tr>\n",
              "      <th>0</th>\n",
              "      <td>0</td>\n",
              "      <td>married</td>\n",
              "    </tr>\n",
              "    <tr>\n",
              "      <th>1</th>\n",
              "      <td>1</td>\n",
              "      <td>civil partnership</td>\n",
              "    </tr>\n",
              "    <tr>\n",
              "      <th>2</th>\n",
              "      <td>2</td>\n",
              "      <td>widow / widower</td>\n",
              "    </tr>\n",
              "    <tr>\n",
              "      <th>3</th>\n",
              "      <td>3</td>\n",
              "      <td>divorced</td>\n",
              "    </tr>\n",
              "    <tr>\n",
              "      <th>4</th>\n",
              "      <td>4</td>\n",
              "      <td>unmarried</td>\n",
              "    </tr>\n",
              "  </tbody>\n",
              "</table>\n",
              "</div>"
            ],
            "text/plain": [
              "   family_status_id      family_status\n",
              "0                 0            married\n",
              "1                 1  civil partnership\n",
              "2                 2    widow / widower\n",
              "3                 3           divorced\n",
              "4                 4          unmarried"
            ]
          },
          "execution_count": 113,
          "metadata": {},
          "output_type": "execute_result"
        }
      ],
      "source": [
        "family_dic = dados[['family_status_id','family_status']]\n",
        "family_dic = family_dic.drop_duplicates().reset_index(drop=True)\n",
        "family_dic"
      ]
    },
    {
      "cell_type": "markdown",
      "metadata": {
        "id": "Kx84aqD7ePGT"
      },
      "source": [
        "### Restaurar valores ausentes em `total_income`"
      ]
    },
    {
      "cell_type": "markdown",
      "metadata": {
        "id": "elEb_4bfePGU"
      },
      "source": [
        "- Colunas com valores ausentes: 'days_employed' e 'total_income'.\n",
        "    - Para tratar os valores ausentes na coluna \"total_income\" primeiro, criamos uma função para calcular a categoria de idade com base na coluna \"dob_years\" e adicionar uma nova coluna. Em seguida, usando uma tabela dinâmica, calcular os valores médios de renda com base nos fatores relevantes. Criar uma função para preencher os valores ausentes com a mediana de renda correspondente ao grupo específico de características e sem seguida aplicar essa função nas linhas com valores ausentes e criar uma nova coluna para armazenar os valores preenchidos.\n",
        "    - Para tratar os valores ausentes na coluna \"days_employed\", vamos realizar uma análise da distribuição dessa variável com base nos parâmetros identificados. Criar uma função para calcular a mediana da coluna \"days_employed\" e aplicar essa função para cada categoria da coluna \"income_type\". Com os valores de mediana obtidos, substituiu os valores ausentes na coluna \"days_employed\" pelos respectivos valores de mediana, levando em consideração a categoria de \"income_type\" de cada registro."
      ]
    },
    {
      "cell_type": "code",
      "execution_count": null,
      "metadata": {
        "id": "GjVW0PK5ePGU"
      },
      "outputs": [],
      "source": [
        "# Vamos escrever uma função que calcule a categoria de idad\n",
        "def categorize_age(row):\n",
        "    age = row['dob_years']\n",
        "    if age < 18:\n",
        "        return '0-17'\n",
        "    elif age <= 30:\n",
        "        return '18-30'\n",
        "    elif age <= 45:\n",
        "        return '31-45'\n",
        "    elif age <= 60:\n",
        "        return '46-60'\n",
        "    else:\n",
        "        return '61+'"
      ]
    },
    {
      "cell_type": "code",
      "execution_count": null,
      "metadata": {
        "id": "2aRkjcFVePGU",
        "outputId": "765880cb-cf1e-4129-f421-57ae2967f937"
      },
      "outputs": [
        {
          "data": {
            "text/plain": [
              "'31-45'"
            ]
          },
          "execution_count": 115,
          "metadata": {},
          "output_type": "execute_result"
        }
      ],
      "source": [
        "# Teste se a função funciona\n",
        "categorize_age(dados_new.iloc[0])"
      ]
    },
    {
      "cell_type": "code",
      "execution_count": null,
      "metadata": {
        "id": "qm7W122fePGV"
      },
      "outputs": [],
      "source": [
        "# Criar coluna nova com base na função\n",
        "dados_new['age_category'] = dados_new.apply(categorize_age, axis=1)"
      ]
    },
    {
      "cell_type": "code",
      "execution_count": null,
      "metadata": {
        "id": "JQuAvxQQePGV",
        "outputId": "112224f9-ca4c-4e99-9f8e-2d6fb47a59d1"
      },
      "outputs": [
        {
          "data": {
            "text/plain": [
              "31-45    8587\n",
              "46-60    7024\n",
              "18-30    3716\n",
              "61+      2126\n",
              "Name: age_category, dtype: int64"
            ]
          },
          "execution_count": 117,
          "metadata": {},
          "output_type": "execute_result"
        }
      ],
      "source": [
        "# Verificar como os valores estão na nova coluna\n",
        "dados_new['age_category'].value_counts()"
      ]
    },
    {
      "cell_type": "markdown",
      "metadata": {
        "id": "Ezeyr2s6ePGV"
      },
      "source": [
        "- Ao analisar os fatores que normalmente impactam a renda de uma pessoa, como idade, nível de educação, ocupação e experiência profissional, é importante considerar a distribuição desses fatores e avaliar se existem valores extremos ou atípicos que possam distorcer a média dos dados. Nesse contexto, a mediana é uma medida mais adequada para substituir valores ausentes, pois não é influenciada por outliers e é mais robusta a variações nos dados. Portanto, ao lidar com os valores ausentes na coluna de renda, optamos por usar a mediana como referência, pois ela preserva a distribuição dos dados e reduz possíveis distorções nos resultados."
      ]
    },
    {
      "cell_type": "markdown",
      "metadata": {
        "id": "Vtmo8LBaePGW"
      },
      "source": [
        "- Criando uma tabela com apenas os dados não nulos para preencher os valores ausentes."
      ]
    },
    {
      "cell_type": "code",
      "execution_count": null,
      "metadata": {
        "id": "e7veicJBePGW",
        "outputId": "65a7de5b-b05c-4602-d043-0ec321de41a5"
      },
      "outputs": [
        {
          "data": {
            "text/plain": [
              "children            0\n",
              "days_employed       0\n",
              "dob_years           0\n",
              "education           0\n",
              "education_id        0\n",
              "family_status       0\n",
              "family_status_id    0\n",
              "gender              0\n",
              "income_type         0\n",
              "debt                0\n",
              "total_income        0\n",
              "purpose             0\n",
              "age_category        0\n",
              "dtype: int64"
            ]
          },
          "execution_count": 118,
          "metadata": {},
          "output_type": "execute_result"
        }
      ],
      "source": [
        "# Crie uma tabela sem valores ausentes e imprima algumas de suas linhas para garantir que ela fique boa\n",
        "#Nao quero as linhas onde days_employed é nulo\n",
        "no_missing_data = dados_new.loc[~dados_new['days_employed'].isnull()]\n",
        "no_missing_data.isna().sum()"
      ]
    },
    {
      "cell_type": "code",
      "execution_count": null,
      "metadata": {
        "id": "sQqjCFOXePGW",
        "outputId": "9c155114-f514-4b08-9d17-4d9b8c975789"
      },
      "outputs": [
        {
          "data": {
            "text/html": [
              "<div>\n",
              "<style scoped>\n",
              "    .dataframe tbody tr th:only-of-type {\n",
              "        vertical-align: middle;\n",
              "    }\n",
              "\n",
              "    .dataframe tbody tr th {\n",
              "        vertical-align: top;\n",
              "    }\n",
              "\n",
              "    .dataframe thead th {\n",
              "        text-align: right;\n",
              "    }\n",
              "</style>\n",
              "<table border=\"1\" class=\"dataframe\">\n",
              "  <thead>\n",
              "    <tr style=\"text-align: right;\">\n",
              "      <th>age_category</th>\n",
              "      <th>18-30</th>\n",
              "      <th>31-45</th>\n",
              "      <th>46-60</th>\n",
              "      <th>61+</th>\n",
              "    </tr>\n",
              "    <tr>\n",
              "      <th>income_type</th>\n",
              "      <th></th>\n",
              "      <th></th>\n",
              "      <th></th>\n",
              "      <th></th>\n",
              "    </tr>\n",
              "  </thead>\n",
              "  <tbody>\n",
              "    <tr>\n",
              "      <th>business</th>\n",
              "      <td>29344.038250</td>\n",
              "      <td>33381.403020</td>\n",
              "      <td>33079.265344</td>\n",
              "      <td>32500.258163</td>\n",
              "    </tr>\n",
              "    <tr>\n",
              "      <th>civil servant</th>\n",
              "      <td>25170.202708</td>\n",
              "      <td>28090.854937</td>\n",
              "      <td>27241.432148</td>\n",
              "      <td>30226.862630</td>\n",
              "    </tr>\n",
              "    <tr>\n",
              "      <th>employee</th>\n",
              "      <td>24214.536616</td>\n",
              "      <td>26383.681869</td>\n",
              "      <td>25889.998404</td>\n",
              "      <td>27746.044084</td>\n",
              "    </tr>\n",
              "    <tr>\n",
              "      <th>entrepreneur</th>\n",
              "      <td>79866.103000</td>\n",
              "      <td>NaN</td>\n",
              "      <td>NaN</td>\n",
              "      <td>NaN</td>\n",
              "    </tr>\n",
              "    <tr>\n",
              "      <th>paternity / maternity leave</th>\n",
              "      <td>NaN</td>\n",
              "      <td>8612.661000</td>\n",
              "      <td>NaN</td>\n",
              "      <td>NaN</td>\n",
              "    </tr>\n",
              "    <tr>\n",
              "      <th>retiree</th>\n",
              "      <td>14888.651857</td>\n",
              "      <td>24433.025134</td>\n",
              "      <td>22305.343421</td>\n",
              "      <td>21377.672540</td>\n",
              "    </tr>\n",
              "    <tr>\n",
              "      <th>student</th>\n",
              "      <td>15712.260000</td>\n",
              "      <td>NaN</td>\n",
              "      <td>NaN</td>\n",
              "      <td>NaN</td>\n",
              "    </tr>\n",
              "    <tr>\n",
              "      <th>unemployed</th>\n",
              "      <td>NaN</td>\n",
              "      <td>21014.360500</td>\n",
              "      <td>NaN</td>\n",
              "      <td>NaN</td>\n",
              "    </tr>\n",
              "  </tbody>\n",
              "</table>\n",
              "</div>"
            ],
            "text/plain": [
              "age_category                        18-30         31-45         46-60  \\\n",
              "income_type                                                             \n",
              "business                     29344.038250  33381.403020  33079.265344   \n",
              "civil servant                25170.202708  28090.854937  27241.432148   \n",
              "employee                     24214.536616  26383.681869  25889.998404   \n",
              "entrepreneur                 79866.103000           NaN           NaN   \n",
              "paternity / maternity leave           NaN   8612.661000           NaN   \n",
              "retiree                      14888.651857  24433.025134  22305.343421   \n",
              "student                      15712.260000           NaN           NaN   \n",
              "unemployed                            NaN  21014.360500           NaN   \n",
              "\n",
              "age_category                          61+  \n",
              "income_type                                \n",
              "business                     32500.258163  \n",
              "civil servant                30226.862630  \n",
              "employee                     27746.044084  \n",
              "entrepreneur                          NaN  \n",
              "paternity / maternity leave           NaN  \n",
              "retiree                      21377.672540  \n",
              "student                               NaN  \n",
              "unemployed                            NaN  "
            ]
          },
          "execution_count": 119,
          "metadata": {},
          "output_type": "execute_result"
        }
      ],
      "source": [
        "# Veja os valores médios de renda com base nos seus fatores identificados que tem impacto na renda (colunas)\n",
        "#Pode usar Pivot Table - values='valor que quero agregar'\n",
        "dados_new.pivot_table(index='income_type',columns='age_category',values='total_income',aggfunc='mean')"
      ]
    },
    {
      "cell_type": "code",
      "execution_count": null,
      "metadata": {
        "id": "baU2uySpePGX",
        "outputId": "f628578e-efa0-477f-c465-8b311166abda"
      },
      "outputs": [
        {
          "data": {
            "text/html": [
              "<div>\n",
              "<style scoped>\n",
              "    .dataframe tbody tr th:only-of-type {\n",
              "        vertical-align: middle;\n",
              "    }\n",
              "\n",
              "    .dataframe tbody tr th {\n",
              "        vertical-align: top;\n",
              "    }\n",
              "\n",
              "    .dataframe thead th {\n",
              "        text-align: right;\n",
              "    }\n",
              "</style>\n",
              "<table border=\"1\" class=\"dataframe\">\n",
              "  <thead>\n",
              "    <tr style=\"text-align: right;\">\n",
              "      <th></th>\n",
              "      <th>children</th>\n",
              "      <th>days_employed</th>\n",
              "      <th>dob_years</th>\n",
              "      <th>education</th>\n",
              "      <th>education_id</th>\n",
              "      <th>family_status</th>\n",
              "      <th>family_status_id</th>\n",
              "      <th>gender</th>\n",
              "      <th>income_type</th>\n",
              "      <th>debt</th>\n",
              "      <th>total_income</th>\n",
              "      <th>purpose</th>\n",
              "      <th>age_category</th>\n",
              "    </tr>\n",
              "  </thead>\n",
              "  <tbody>\n",
              "  </tbody>\n",
              "</table>\n",
              "</div>"
            ],
            "text/plain": [
              "Empty DataFrame\n",
              "Columns: [children, days_employed, dob_years, education, education_id, family_status, family_status_id, gender, income_type, debt, total_income, purpose, age_category]\n",
              "Index: []"
            ]
          },
          "execution_count": 120,
          "metadata": {},
          "output_type": "execute_result"
        }
      ],
      "source": [
        "#Verificando se Nan correspondia a valor ausente\n",
        "dados_new[(dados_new['income_type'] == 'entrepreneur') & (dados_new['age_category'] == '31-45')]"
      ]
    },
    {
      "cell_type": "code",
      "execution_count": null,
      "metadata": {
        "id": "4mQ-JMRhePGX",
        "outputId": "13f92fcc-ec4c-4587-8dce-b82d64f7c1ad"
      },
      "outputs": [
        {
          "data": {
            "text/html": [
              "<div>\n",
              "<style scoped>\n",
              "    .dataframe tbody tr th:only-of-type {\n",
              "        vertical-align: middle;\n",
              "    }\n",
              "\n",
              "    .dataframe tbody tr th {\n",
              "        vertical-align: top;\n",
              "    }\n",
              "\n",
              "    .dataframe thead th {\n",
              "        text-align: right;\n",
              "    }\n",
              "</style>\n",
              "<table border=\"1\" class=\"dataframe\">\n",
              "  <thead>\n",
              "    <tr style=\"text-align: right;\">\n",
              "      <th></th>\n",
              "      <th>family_status</th>\n",
              "      <th>civil partnership</th>\n",
              "      <th>divorced</th>\n",
              "      <th>married</th>\n",
              "      <th>unmarried</th>\n",
              "      <th>widow / widower</th>\n",
              "    </tr>\n",
              "    <tr>\n",
              "      <th>income_type</th>\n",
              "      <th>gender</th>\n",
              "      <th></th>\n",
              "      <th></th>\n",
              "      <th></th>\n",
              "      <th></th>\n",
              "      <th></th>\n",
              "    </tr>\n",
              "  </thead>\n",
              "  <tbody>\n",
              "    <tr>\n",
              "      <th rowspan=\"2\" valign=\"top\">business</th>\n",
              "      <th>F</th>\n",
              "      <td>29111.850129</td>\n",
              "      <td>32019.066557</td>\n",
              "      <td>29356.120319</td>\n",
              "      <td>29439.770244</td>\n",
              "      <td>28813.660088</td>\n",
              "    </tr>\n",
              "    <tr>\n",
              "      <th>M</th>\n",
              "      <td>37156.671338</td>\n",
              "      <td>40092.561121</td>\n",
              "      <td>37934.581596</td>\n",
              "      <td>34651.520993</td>\n",
              "      <td>27748.843167</td>\n",
              "    </tr>\n",
              "    <tr>\n",
              "      <th rowspan=\"2\" valign=\"top\">civil servant</th>\n",
              "      <th>F</th>\n",
              "      <td>24410.351416</td>\n",
              "      <td>27619.634643</td>\n",
              "      <td>24455.442277</td>\n",
              "      <td>26841.646341</td>\n",
              "      <td>24966.055225</td>\n",
              "    </tr>\n",
              "    <tr>\n",
              "      <th>M</th>\n",
              "      <td>33297.141135</td>\n",
              "      <td>37065.399667</td>\n",
              "      <td>34869.631157</td>\n",
              "      <td>30666.499055</td>\n",
              "      <td>42925.538000</td>\n",
              "    </tr>\n",
              "    <tr>\n",
              "      <th rowspan=\"2\" valign=\"top\">employee</th>\n",
              "      <th>F</th>\n",
              "      <td>24143.062155</td>\n",
              "      <td>25278.054901</td>\n",
              "      <td>23261.892596</td>\n",
              "      <td>24927.162596</td>\n",
              "      <td>24121.057815</td>\n",
              "    </tr>\n",
              "    <tr>\n",
              "      <th>M</th>\n",
              "      <td>28419.481650</td>\n",
              "      <td>27480.521574</td>\n",
              "      <td>30005.322433</td>\n",
              "      <td>25988.626269</td>\n",
              "      <td>24041.476182</td>\n",
              "    </tr>\n",
              "    <tr>\n",
              "      <th>entrepreneur</th>\n",
              "      <th>F</th>\n",
              "      <td>79866.103000</td>\n",
              "      <td>NaN</td>\n",
              "      <td>NaN</td>\n",
              "      <td>NaN</td>\n",
              "      <td>NaN</td>\n",
              "    </tr>\n",
              "    <tr>\n",
              "      <th>paternity / maternity leave</th>\n",
              "      <th>F</th>\n",
              "      <td>NaN</td>\n",
              "      <td>NaN</td>\n",
              "      <td>8612.661000</td>\n",
              "      <td>NaN</td>\n",
              "      <td>NaN</td>\n",
              "    </tr>\n",
              "    <tr>\n",
              "      <th rowspan=\"2\" valign=\"top\">retiree</th>\n",
              "      <th>F</th>\n",
              "      <td>21537.383254</td>\n",
              "      <td>21637.408467</td>\n",
              "      <td>21291.122230</td>\n",
              "      <td>22237.275924</td>\n",
              "      <td>21281.813855</td>\n",
              "    </tr>\n",
              "    <tr>\n",
              "      <th>M</th>\n",
              "      <td>25483.949703</td>\n",
              "      <td>28281.890286</td>\n",
              "      <td>23961.412577</td>\n",
              "      <td>23512.900973</td>\n",
              "      <td>18557.575429</td>\n",
              "    </tr>\n",
              "    <tr>\n",
              "      <th>student</th>\n",
              "      <th>M</th>\n",
              "      <td>NaN</td>\n",
              "      <td>NaN</td>\n",
              "      <td>NaN</td>\n",
              "      <td>15712.260000</td>\n",
              "      <td>NaN</td>\n",
              "    </tr>\n",
              "    <tr>\n",
              "      <th rowspan=\"2\" valign=\"top\">unemployed</th>\n",
              "      <th>F</th>\n",
              "      <td>32435.602000</td>\n",
              "      <td>NaN</td>\n",
              "      <td>NaN</td>\n",
              "      <td>NaN</td>\n",
              "      <td>NaN</td>\n",
              "    </tr>\n",
              "    <tr>\n",
              "      <th>M</th>\n",
              "      <td>NaN</td>\n",
              "      <td>NaN</td>\n",
              "      <td>9593.119000</td>\n",
              "      <td>NaN</td>\n",
              "      <td>NaN</td>\n",
              "    </tr>\n",
              "  </tbody>\n",
              "</table>\n",
              "</div>"
            ],
            "text/plain": [
              "family_status                       civil partnership      divorced  \\\n",
              "income_type                 gender                                    \n",
              "business                    F            29111.850129  32019.066557   \n",
              "                            M            37156.671338  40092.561121   \n",
              "civil servant               F            24410.351416  27619.634643   \n",
              "                            M            33297.141135  37065.399667   \n",
              "employee                    F            24143.062155  25278.054901   \n",
              "                            M            28419.481650  27480.521574   \n",
              "entrepreneur                F            79866.103000           NaN   \n",
              "paternity / maternity leave F                     NaN           NaN   \n",
              "retiree                     F            21537.383254  21637.408467   \n",
              "                            M            25483.949703  28281.890286   \n",
              "student                     M                     NaN           NaN   \n",
              "unemployed                  F            32435.602000           NaN   \n",
              "                            M                     NaN           NaN   \n",
              "\n",
              "family_status                            married     unmarried  \\\n",
              "income_type                 gender                               \n",
              "business                    F       29356.120319  29439.770244   \n",
              "                            M       37934.581596  34651.520993   \n",
              "civil servant               F       24455.442277  26841.646341   \n",
              "                            M       34869.631157  30666.499055   \n",
              "employee                    F       23261.892596  24927.162596   \n",
              "                            M       30005.322433  25988.626269   \n",
              "entrepreneur                F                NaN           NaN   \n",
              "paternity / maternity leave F        8612.661000           NaN   \n",
              "retiree                     F       21291.122230  22237.275924   \n",
              "                            M       23961.412577  23512.900973   \n",
              "student                     M                NaN  15712.260000   \n",
              "unemployed                  F                NaN           NaN   \n",
              "                            M        9593.119000           NaN   \n",
              "\n",
              "family_status                       widow / widower  \n",
              "income_type                 gender                   \n",
              "business                    F          28813.660088  \n",
              "                            M          27748.843167  \n",
              "civil servant               F          24966.055225  \n",
              "                            M          42925.538000  \n",
              "employee                    F          24121.057815  \n",
              "                            M          24041.476182  \n",
              "entrepreneur                F                   NaN  \n",
              "paternity / maternity leave F                   NaN  \n",
              "retiree                     F          21281.813855  \n",
              "                            M          18557.575429  \n",
              "student                     M                   NaN  \n",
              "unemployed                  F                   NaN  \n",
              "                            M                   NaN  "
            ]
          },
          "execution_count": 121,
          "metadata": {},
          "output_type": "execute_result"
        }
      ],
      "source": [
        "#Verificando os fatores de fonte de renda e gênero comparando com status familiar\n",
        "dados_new.pivot_table(index=['income_type','gender'],columns='family_status',values='total_income',aggfunc='mean')\n"
      ]
    },
    {
      "cell_type": "code",
      "execution_count": null,
      "metadata": {
        "id": "zBqQ3isLePGX",
        "outputId": "85064604-8d85-45fc-f1af-5ede274c8c2b"
      },
      "outputs": [
        {
          "data": {
            "text/html": [
              "<div>\n",
              "<style scoped>\n",
              "    .dataframe tbody tr th:only-of-type {\n",
              "        vertical-align: middle;\n",
              "    }\n",
              "\n",
              "    .dataframe tbody tr th {\n",
              "        vertical-align: top;\n",
              "    }\n",
              "\n",
              "    .dataframe thead th {\n",
              "        text-align: right;\n",
              "    }\n",
              "</style>\n",
              "<table border=\"1\" class=\"dataframe\">\n",
              "  <thead>\n",
              "    <tr style=\"text-align: right;\">\n",
              "      <th>education</th>\n",
              "      <th>Bachelor's Degree</th>\n",
              "      <th>Graduate Degree</th>\n",
              "      <th>Primary Education</th>\n",
              "      <th>Secondary Education</th>\n",
              "      <th>Some College</th>\n",
              "    </tr>\n",
              "    <tr>\n",
              "      <th>income_type</th>\n",
              "      <th></th>\n",
              "      <th></th>\n",
              "      <th></th>\n",
              "      <th></th>\n",
              "      <th></th>\n",
              "    </tr>\n",
              "  </thead>\n",
              "  <tbody>\n",
              "    <tr>\n",
              "      <th>business</th>\n",
              "      <td>38780.136881</td>\n",
              "      <td>NaN</td>\n",
              "      <td>26409.124931</td>\n",
              "      <td>28718.435242</td>\n",
              "      <td>31620.043969</td>\n",
              "    </tr>\n",
              "    <tr>\n",
              "      <th>civil servant</th>\n",
              "      <td>31571.287664</td>\n",
              "      <td>17822.757000</td>\n",
              "      <td>29449.016667</td>\n",
              "      <td>24648.816597</td>\n",
              "      <td>27596.312587</td>\n",
              "    </tr>\n",
              "    <tr>\n",
              "      <th>employee</th>\n",
              "      <td>30650.288996</td>\n",
              "      <td>31089.653667</td>\n",
              "      <td>21954.056075</td>\n",
              "      <td>24426.079549</td>\n",
              "      <td>27951.531586</td>\n",
              "    </tr>\n",
              "    <tr>\n",
              "      <th>entrepreneur</th>\n",
              "      <td>79866.103000</td>\n",
              "      <td>NaN</td>\n",
              "      <td>NaN</td>\n",
              "      <td>NaN</td>\n",
              "      <td>NaN</td>\n",
              "    </tr>\n",
              "    <tr>\n",
              "      <th>paternity / maternity leave</th>\n",
              "      <td>NaN</td>\n",
              "      <td>NaN</td>\n",
              "      <td>NaN</td>\n",
              "      <td>8612.661000</td>\n",
              "      <td>NaN</td>\n",
              "    </tr>\n",
              "    <tr>\n",
              "      <th>retiree</th>\n",
              "      <td>27306.878056</td>\n",
              "      <td>28334.215000</td>\n",
              "      <td>17810.387914</td>\n",
              "      <td>21071.829349</td>\n",
              "      <td>22129.937314</td>\n",
              "    </tr>\n",
              "    <tr>\n",
              "      <th>student</th>\n",
              "      <td>15712.260000</td>\n",
              "      <td>NaN</td>\n",
              "      <td>NaN</td>\n",
              "      <td>NaN</td>\n",
              "      <td>NaN</td>\n",
              "    </tr>\n",
              "    <tr>\n",
              "      <th>unemployed</th>\n",
              "      <td>32435.602000</td>\n",
              "      <td>NaN</td>\n",
              "      <td>NaN</td>\n",
              "      <td>9593.119000</td>\n",
              "      <td>NaN</td>\n",
              "    </tr>\n",
              "  </tbody>\n",
              "</table>\n",
              "</div>"
            ],
            "text/plain": [
              "education                    Bachelor's Degree  Graduate Degree  \\\n",
              "income_type                                                       \n",
              "business                          38780.136881              NaN   \n",
              "civil servant                     31571.287664     17822.757000   \n",
              "employee                          30650.288996     31089.653667   \n",
              "entrepreneur                      79866.103000              NaN   \n",
              "paternity / maternity leave                NaN              NaN   \n",
              "retiree                           27306.878056     28334.215000   \n",
              "student                           15712.260000              NaN   \n",
              "unemployed                        32435.602000              NaN   \n",
              "\n",
              "education                    Primary Education  Secondary Education  \\\n",
              "income_type                                                           \n",
              "business                          26409.124931         28718.435242   \n",
              "civil servant                     29449.016667         24648.816597   \n",
              "employee                          21954.056075         24426.079549   \n",
              "entrepreneur                               NaN                  NaN   \n",
              "paternity / maternity leave                NaN          8612.661000   \n",
              "retiree                           17810.387914         21071.829349   \n",
              "student                                    NaN                  NaN   \n",
              "unemployed                                 NaN          9593.119000   \n",
              "\n",
              "education                    Some College  \n",
              "income_type                                \n",
              "business                     31620.043969  \n",
              "civil servant                27596.312587  \n",
              "employee                     27951.531586  \n",
              "entrepreneur                          NaN  \n",
              "paternity / maternity leave           NaN  \n",
              "retiree                      22129.937314  \n",
              "student                               NaN  \n",
              "unemployed                            NaN  "
            ]
          },
          "execution_count": 122,
          "metadata": {},
          "output_type": "execute_result"
        }
      ],
      "source": [
        "#Verificando o fator de fonte de renda e educação\n",
        "dados_new.pivot_table(index='income_type',columns='education',values='total_income',aggfunc='mean')"
      ]
    },
    {
      "cell_type": "code",
      "execution_count": null,
      "metadata": {
        "id": "VxKQWnXVePGX",
        "outputId": "319b1591-ba34-4c6e-fbb2-7d6bdfd82bfe"
      },
      "outputs": [
        {
          "data": {
            "text/html": [
              "<div>\n",
              "<style scoped>\n",
              "    .dataframe tbody tr th:only-of-type {\n",
              "        vertical-align: middle;\n",
              "    }\n",
              "\n",
              "    .dataframe tbody tr th {\n",
              "        vertical-align: top;\n",
              "    }\n",
              "\n",
              "    .dataframe thead th {\n",
              "        text-align: right;\n",
              "    }\n",
              "</style>\n",
              "<table border=\"1\" class=\"dataframe\">\n",
              "  <thead>\n",
              "    <tr style=\"text-align: right;\">\n",
              "      <th>children</th>\n",
              "      <th>0</th>\n",
              "      <th>1</th>\n",
              "      <th>2</th>\n",
              "      <th>3</th>\n",
              "      <th>4</th>\n",
              "      <th>5</th>\n",
              "    </tr>\n",
              "    <tr>\n",
              "      <th>income_type</th>\n",
              "      <th></th>\n",
              "      <th></th>\n",
              "      <th></th>\n",
              "      <th></th>\n",
              "      <th></th>\n",
              "      <th></th>\n",
              "    </tr>\n",
              "  </thead>\n",
              "  <tbody>\n",
              "    <tr>\n",
              "      <th>business</th>\n",
              "      <td>32401.126462</td>\n",
              "      <td>32190.504003</td>\n",
              "      <td>32610.332073</td>\n",
              "      <td>33816.952569</td>\n",
              "      <td>23488.48150</td>\n",
              "      <td>29816.2255</td>\n",
              "    </tr>\n",
              "    <tr>\n",
              "      <th>civil servant</th>\n",
              "      <td>27919.090476</td>\n",
              "      <td>26225.463459</td>\n",
              "      <td>26365.038181</td>\n",
              "      <td>29140.416917</td>\n",
              "      <td>31861.00100</td>\n",
              "      <td>20176.3440</td>\n",
              "    </tr>\n",
              "    <tr>\n",
              "      <th>employee</th>\n",
              "      <td>25828.737657</td>\n",
              "      <td>25765.750817</td>\n",
              "      <td>25591.072475</td>\n",
              "      <td>27695.360922</td>\n",
              "      <td>26996.70463</td>\n",
              "      <td>27668.3966</td>\n",
              "    </tr>\n",
              "    <tr>\n",
              "      <th>entrepreneur</th>\n",
              "      <td>79866.103000</td>\n",
              "      <td>NaN</td>\n",
              "      <td>NaN</td>\n",
              "      <td>NaN</td>\n",
              "      <td>NaN</td>\n",
              "      <td>NaN</td>\n",
              "    </tr>\n",
              "    <tr>\n",
              "      <th>paternity / maternity leave</th>\n",
              "      <td>NaN</td>\n",
              "      <td>NaN</td>\n",
              "      <td>8612.661000</td>\n",
              "      <td>NaN</td>\n",
              "      <td>NaN</td>\n",
              "      <td>NaN</td>\n",
              "    </tr>\n",
              "    <tr>\n",
              "      <th>retiree</th>\n",
              "      <td>21799.966708</td>\n",
              "      <td>23149.672459</td>\n",
              "      <td>26391.040250</td>\n",
              "      <td>25301.815667</td>\n",
              "      <td>24522.21600</td>\n",
              "      <td>NaN</td>\n",
              "    </tr>\n",
              "    <tr>\n",
              "      <th>student</th>\n",
              "      <td>15712.260000</td>\n",
              "      <td>NaN</td>\n",
              "      <td>NaN</td>\n",
              "      <td>NaN</td>\n",
              "      <td>NaN</td>\n",
              "      <td>NaN</td>\n",
              "    </tr>\n",
              "    <tr>\n",
              "      <th>unemployed</th>\n",
              "      <td>32435.602000</td>\n",
              "      <td>9593.119000</td>\n",
              "      <td>NaN</td>\n",
              "      <td>NaN</td>\n",
              "      <td>NaN</td>\n",
              "      <td>NaN</td>\n",
              "    </tr>\n",
              "  </tbody>\n",
              "</table>\n",
              "</div>"
            ],
            "text/plain": [
              "children                                0             1             2  \\\n",
              "income_type                                                             \n",
              "business                     32401.126462  32190.504003  32610.332073   \n",
              "civil servant                27919.090476  26225.463459  26365.038181   \n",
              "employee                     25828.737657  25765.750817  25591.072475   \n",
              "entrepreneur                 79866.103000           NaN           NaN   \n",
              "paternity / maternity leave           NaN           NaN   8612.661000   \n",
              "retiree                      21799.966708  23149.672459  26391.040250   \n",
              "student                      15712.260000           NaN           NaN   \n",
              "unemployed                   32435.602000   9593.119000           NaN   \n",
              "\n",
              "children                                3            4           5  \n",
              "income_type                                                         \n",
              "business                     33816.952569  23488.48150  29816.2255  \n",
              "civil servant                29140.416917  31861.00100  20176.3440  \n",
              "employee                     27695.360922  26996.70463  27668.3966  \n",
              "entrepreneur                          NaN          NaN         NaN  \n",
              "paternity / maternity leave           NaN          NaN         NaN  \n",
              "retiree                      25301.815667  24522.21600         NaN  \n",
              "student                               NaN          NaN         NaN  \n",
              "unemployed                            NaN          NaN         NaN  "
            ]
          },
          "execution_count": 123,
          "metadata": {},
          "output_type": "execute_result"
        }
      ],
      "source": [
        "#verificando os fatores fonte de renda e total de renda\n",
        "dados_new.pivot_table(index='income_type', values='total_income', columns='children', aggfunc='mean')"
      ]
    },
    {
      "cell_type": "code",
      "execution_count": null,
      "metadata": {
        "scrolled": false,
        "id": "jNv7WsJnePGX",
        "outputId": "ee86ae25-1846-4dfd-e618-ad31f5da0ddf"
      },
      "outputs": [
        {
          "data": {
            "text/html": [
              "<div>\n",
              "<style scoped>\n",
              "    .dataframe tbody tr th:only-of-type {\n",
              "        vertical-align: middle;\n",
              "    }\n",
              "\n",
              "    .dataframe tbody tr th {\n",
              "        vertical-align: top;\n",
              "    }\n",
              "\n",
              "    .dataframe thead th {\n",
              "        text-align: right;\n",
              "    }\n",
              "</style>\n",
              "<table border=\"1\" class=\"dataframe\">\n",
              "  <thead>\n",
              "    <tr style=\"text-align: right;\">\n",
              "      <th>age_category</th>\n",
              "      <th>18-30</th>\n",
              "      <th>31-45</th>\n",
              "      <th>46-60</th>\n",
              "      <th>61+</th>\n",
              "    </tr>\n",
              "    <tr>\n",
              "      <th>income_type</th>\n",
              "      <th></th>\n",
              "      <th></th>\n",
              "      <th></th>\n",
              "      <th></th>\n",
              "    </tr>\n",
              "  </thead>\n",
              "  <tbody>\n",
              "    <tr>\n",
              "      <th>business</th>\n",
              "      <td>25694.1585</td>\n",
              "      <td>28506.0405</td>\n",
              "      <td>28352.4130</td>\n",
              "      <td>29171.9890</td>\n",
              "    </tr>\n",
              "    <tr>\n",
              "      <th>civil servant</th>\n",
              "      <td>23202.8700</td>\n",
              "      <td>24662.7440</td>\n",
              "      <td>23847.2850</td>\n",
              "      <td>24623.8775</td>\n",
              "    </tr>\n",
              "    <tr>\n",
              "      <th>employee</th>\n",
              "      <td>21718.0220</td>\n",
              "      <td>23215.3110</td>\n",
              "      <td>22745.1130</td>\n",
              "      <td>23550.5120</td>\n",
              "    </tr>\n",
              "    <tr>\n",
              "      <th>entrepreneur</th>\n",
              "      <td>79866.1030</td>\n",
              "      <td>NaN</td>\n",
              "      <td>NaN</td>\n",
              "      <td>NaN</td>\n",
              "    </tr>\n",
              "    <tr>\n",
              "      <th>paternity / maternity leave</th>\n",
              "      <td>NaN</td>\n",
              "      <td>8612.6610</td>\n",
              "      <td>NaN</td>\n",
              "      <td>NaN</td>\n",
              "    </tr>\n",
              "    <tr>\n",
              "      <th>retiree</th>\n",
              "      <td>12807.0710</td>\n",
              "      <td>20270.0210</td>\n",
              "      <td>19530.7585</td>\n",
              "      <td>18412.9250</td>\n",
              "    </tr>\n",
              "    <tr>\n",
              "      <th>student</th>\n",
              "      <td>15712.2600</td>\n",
              "      <td>NaN</td>\n",
              "      <td>NaN</td>\n",
              "      <td>NaN</td>\n",
              "    </tr>\n",
              "    <tr>\n",
              "      <th>unemployed</th>\n",
              "      <td>NaN</td>\n",
              "      <td>21014.3605</td>\n",
              "      <td>NaN</td>\n",
              "      <td>NaN</td>\n",
              "    </tr>\n",
              "  </tbody>\n",
              "</table>\n",
              "</div>"
            ],
            "text/plain": [
              "age_category                      18-30       31-45       46-60         61+\n",
              "income_type                                                                \n",
              "business                     25694.1585  28506.0405  28352.4130  29171.9890\n",
              "civil servant                23202.8700  24662.7440  23847.2850  24623.8775\n",
              "employee                     21718.0220  23215.3110  22745.1130  23550.5120\n",
              "entrepreneur                 79866.1030         NaN         NaN         NaN\n",
              "paternity / maternity leave         NaN   8612.6610         NaN         NaN\n",
              "retiree                      12807.0710  20270.0210  19530.7585  18412.9250\n",
              "student                      15712.2600         NaN         NaN         NaN\n",
              "unemployed                          NaN  21014.3605         NaN         NaN"
            ]
          },
          "execution_count": 124,
          "metadata": {},
          "output_type": "execute_result"
        }
      ],
      "source": [
        "# Veja os valores medianos de renda com base nos seus fatores identificados\n",
        "dados_new.pivot_table(index='income_type',columns='age_category',values='total_income',aggfunc='median')"
      ]
    },
    {
      "cell_type": "code",
      "execution_count": null,
      "metadata": {
        "scrolled": true,
        "id": "lPDKV4i-ePGY",
        "outputId": "bae51248-008b-4685-83d0-eda4a5e15e1c"
      },
      "outputs": [
        {
          "data": {
            "text/html": [
              "<div>\n",
              "<style scoped>\n",
              "    .dataframe tbody tr th:only-of-type {\n",
              "        vertical-align: middle;\n",
              "    }\n",
              "\n",
              "    .dataframe tbody tr th {\n",
              "        vertical-align: top;\n",
              "    }\n",
              "\n",
              "    .dataframe thead th {\n",
              "        text-align: right;\n",
              "    }\n",
              "</style>\n",
              "<table border=\"1\" class=\"dataframe\">\n",
              "  <thead>\n",
              "    <tr style=\"text-align: right;\">\n",
              "      <th>family_status</th>\n",
              "      <th>civil partnership</th>\n",
              "      <th>divorced</th>\n",
              "      <th>married</th>\n",
              "      <th>unmarried</th>\n",
              "      <th>widow / widower</th>\n",
              "    </tr>\n",
              "    <tr>\n",
              "      <th>income_type</th>\n",
              "      <th></th>\n",
              "      <th></th>\n",
              "      <th></th>\n",
              "      <th></th>\n",
              "      <th></th>\n",
              "    </tr>\n",
              "  </thead>\n",
              "  <tbody>\n",
              "    <tr>\n",
              "      <th>business</th>\n",
              "      <td>26819.0775</td>\n",
              "      <td>29206.0190</td>\n",
              "      <td>27956.157</td>\n",
              "      <td>27180.534</td>\n",
              "      <td>23654.9575</td>\n",
              "    </tr>\n",
              "    <tr>\n",
              "      <th>civil servant</th>\n",
              "      <td>23629.1115</td>\n",
              "      <td>24360.3255</td>\n",
              "      <td>23718.422</td>\n",
              "      <td>25062.094</td>\n",
              "      <td>21181.7190</td>\n",
              "    </tr>\n",
              "    <tr>\n",
              "      <th>employee</th>\n",
              "      <td>22772.5565</td>\n",
              "      <td>22899.7645</td>\n",
              "      <td>23000.976</td>\n",
              "      <td>22095.429</td>\n",
              "      <td>22216.0035</td>\n",
              "    </tr>\n",
              "    <tr>\n",
              "      <th>entrepreneur</th>\n",
              "      <td>79866.1030</td>\n",
              "      <td>NaN</td>\n",
              "      <td>NaN</td>\n",
              "      <td>NaN</td>\n",
              "      <td>NaN</td>\n",
              "    </tr>\n",
              "    <tr>\n",
              "      <th>paternity / maternity leave</th>\n",
              "      <td>NaN</td>\n",
              "      <td>NaN</td>\n",
              "      <td>8612.661</td>\n",
              "      <td>NaN</td>\n",
              "      <td>NaN</td>\n",
              "    </tr>\n",
              "    <tr>\n",
              "      <th>retiree</th>\n",
              "      <td>18818.0015</td>\n",
              "      <td>19262.2350</td>\n",
              "      <td>19077.967</td>\n",
              "      <td>19046.115</td>\n",
              "      <td>18781.2640</td>\n",
              "    </tr>\n",
              "    <tr>\n",
              "      <th>student</th>\n",
              "      <td>NaN</td>\n",
              "      <td>NaN</td>\n",
              "      <td>NaN</td>\n",
              "      <td>15712.260</td>\n",
              "      <td>NaN</td>\n",
              "    </tr>\n",
              "    <tr>\n",
              "      <th>unemployed</th>\n",
              "      <td>32435.6020</td>\n",
              "      <td>NaN</td>\n",
              "      <td>9593.119</td>\n",
              "      <td>NaN</td>\n",
              "      <td>NaN</td>\n",
              "    </tr>\n",
              "  </tbody>\n",
              "</table>\n",
              "</div>"
            ],
            "text/plain": [
              "family_status                civil partnership    divorced    married  \\\n",
              "income_type                                                             \n",
              "business                            26819.0775  29206.0190  27956.157   \n",
              "civil servant                       23629.1115  24360.3255  23718.422   \n",
              "employee                            22772.5565  22899.7645  23000.976   \n",
              "entrepreneur                        79866.1030         NaN        NaN   \n",
              "paternity / maternity leave                NaN         NaN   8612.661   \n",
              "retiree                             18818.0015  19262.2350  19077.967   \n",
              "student                                    NaN         NaN        NaN   \n",
              "unemployed                          32435.6020         NaN   9593.119   \n",
              "\n",
              "family_status                unmarried  widow / widower  \n",
              "income_type                                              \n",
              "business                     27180.534       23654.9575  \n",
              "civil servant                25062.094       21181.7190  \n",
              "employee                     22095.429       22216.0035  \n",
              "entrepreneur                       NaN              NaN  \n",
              "paternity / maternity leave        NaN              NaN  \n",
              "retiree                      19046.115       18781.2640  \n",
              "student                      15712.260              NaN  \n",
              "unemployed                         NaN              NaN  "
            ]
          },
          "execution_count": 125,
          "metadata": {},
          "output_type": "execute_result"
        }
      ],
      "source": [
        "#Verificando os fatores de tipo de renda e status familiar\n",
        "dados_new.pivot_table(index='income_type',columns='family_status',values='total_income',aggfunc='median')"
      ]
    },
    {
      "cell_type": "code",
      "execution_count": null,
      "metadata": {
        "scrolled": true,
        "id": "f3LiEjzeePGY",
        "outputId": "e37ff842-f9ee-43dd-97e8-73b9e573b0dc"
      },
      "outputs": [
        {
          "data": {
            "text/html": [
              "<div>\n",
              "<style scoped>\n",
              "    .dataframe tbody tr th:only-of-type {\n",
              "        vertical-align: middle;\n",
              "    }\n",
              "\n",
              "    .dataframe tbody tr th {\n",
              "        vertical-align: top;\n",
              "    }\n",
              "\n",
              "    .dataframe thead th {\n",
              "        text-align: right;\n",
              "    }\n",
              "</style>\n",
              "<table border=\"1\" class=\"dataframe\">\n",
              "  <thead>\n",
              "    <tr style=\"text-align: right;\">\n",
              "      <th>education</th>\n",
              "      <th>Bachelor's Degree</th>\n",
              "      <th>Graduate Degree</th>\n",
              "      <th>Primary Education</th>\n",
              "      <th>Secondary Education</th>\n",
              "      <th>Some College</th>\n",
              "    </tr>\n",
              "    <tr>\n",
              "      <th>income_type</th>\n",
              "      <th></th>\n",
              "      <th></th>\n",
              "      <th></th>\n",
              "      <th></th>\n",
              "      <th></th>\n",
              "    </tr>\n",
              "  </thead>\n",
              "  <tbody>\n",
              "    <tr>\n",
              "      <th>business</th>\n",
              "      <td>32285.6640</td>\n",
              "      <td>NaN</td>\n",
              "      <td>21887.825</td>\n",
              "      <td>25451.3100</td>\n",
              "      <td>28688.018</td>\n",
              "    </tr>\n",
              "    <tr>\n",
              "      <th>civil servant</th>\n",
              "      <td>27601.7775</td>\n",
              "      <td>17822.757</td>\n",
              "      <td>23734.287</td>\n",
              "      <td>21864.4750</td>\n",
              "      <td>25694.775</td>\n",
              "    </tr>\n",
              "    <tr>\n",
              "      <th>employee</th>\n",
              "      <td>26502.5190</td>\n",
              "      <td>31771.321</td>\n",
              "      <td>20159.186</td>\n",
              "      <td>21848.8175</td>\n",
              "      <td>24209.430</td>\n",
              "    </tr>\n",
              "    <tr>\n",
              "      <th>entrepreneur</th>\n",
              "      <td>79866.1030</td>\n",
              "      <td>NaN</td>\n",
              "      <td>NaN</td>\n",
              "      <td>NaN</td>\n",
              "      <td>NaN</td>\n",
              "    </tr>\n",
              "    <tr>\n",
              "      <th>paternity / maternity leave</th>\n",
              "      <td>NaN</td>\n",
              "      <td>NaN</td>\n",
              "      <td>NaN</td>\n",
              "      <td>8612.6610</td>\n",
              "      <td>NaN</td>\n",
              "    </tr>\n",
              "    <tr>\n",
              "      <th>retiree</th>\n",
              "      <td>23078.5230</td>\n",
              "      <td>28334.215</td>\n",
              "      <td>16415.785</td>\n",
              "      <td>18374.8570</td>\n",
              "      <td>19221.903</td>\n",
              "    </tr>\n",
              "    <tr>\n",
              "      <th>student</th>\n",
              "      <td>15712.2600</td>\n",
              "      <td>NaN</td>\n",
              "      <td>NaN</td>\n",
              "      <td>NaN</td>\n",
              "      <td>NaN</td>\n",
              "    </tr>\n",
              "    <tr>\n",
              "      <th>unemployed</th>\n",
              "      <td>32435.6020</td>\n",
              "      <td>NaN</td>\n",
              "      <td>NaN</td>\n",
              "      <td>9593.1190</td>\n",
              "      <td>NaN</td>\n",
              "    </tr>\n",
              "  </tbody>\n",
              "</table>\n",
              "</div>"
            ],
            "text/plain": [
              "education                    Bachelor's Degree  Graduate Degree  \\\n",
              "income_type                                                       \n",
              "business                            32285.6640              NaN   \n",
              "civil servant                       27601.7775        17822.757   \n",
              "employee                            26502.5190        31771.321   \n",
              "entrepreneur                        79866.1030              NaN   \n",
              "paternity / maternity leave                NaN              NaN   \n",
              "retiree                             23078.5230        28334.215   \n",
              "student                             15712.2600              NaN   \n",
              "unemployed                          32435.6020              NaN   \n",
              "\n",
              "education                    Primary Education  Secondary Education  \\\n",
              "income_type                                                           \n",
              "business                             21887.825           25451.3100   \n",
              "civil servant                        23734.287           21864.4750   \n",
              "employee                             20159.186           21848.8175   \n",
              "entrepreneur                               NaN                  NaN   \n",
              "paternity / maternity leave                NaN            8612.6610   \n",
              "retiree                              16415.785           18374.8570   \n",
              "student                                    NaN                  NaN   \n",
              "unemployed                                 NaN            9593.1190   \n",
              "\n",
              "education                    Some College  \n",
              "income_type                                \n",
              "business                        28688.018  \n",
              "civil servant                   25694.775  \n",
              "employee                        24209.430  \n",
              "entrepreneur                          NaN  \n",
              "paternity / maternity leave           NaN  \n",
              "retiree                         19221.903  \n",
              "student                               NaN  \n",
              "unemployed                            NaN  "
            ]
          },
          "execution_count": 126,
          "metadata": {},
          "output_type": "execute_result"
        }
      ],
      "source": [
        "#verificando os fatores de tipo de renda e educação\n",
        "dados_new.pivot_table(index='income_type',columns='education',values='total_income',aggfunc='median')"
      ]
    },
    {
      "cell_type": "code",
      "execution_count": null,
      "metadata": {
        "id": "QvDbGtTtePGY",
        "outputId": "fbbd4f56-3a9b-41d6-c310-3c6a08d2beb9"
      },
      "outputs": [
        {
          "data": {
            "text/html": [
              "<div>\n",
              "<style scoped>\n",
              "    .dataframe tbody tr th:only-of-type {\n",
              "        vertical-align: middle;\n",
              "    }\n",
              "\n",
              "    .dataframe tbody tr th {\n",
              "        vertical-align: top;\n",
              "    }\n",
              "\n",
              "    .dataframe thead th {\n",
              "        text-align: right;\n",
              "    }\n",
              "</style>\n",
              "<table border=\"1\" class=\"dataframe\">\n",
              "  <thead>\n",
              "    <tr style=\"text-align: right;\">\n",
              "      <th>gender</th>\n",
              "      <th>F</th>\n",
              "      <th>M</th>\n",
              "    </tr>\n",
              "    <tr>\n",
              "      <th>income_type</th>\n",
              "      <th></th>\n",
              "      <th></th>\n",
              "    </tr>\n",
              "  </thead>\n",
              "  <tbody>\n",
              "    <tr>\n",
              "      <th>business</th>\n",
              "      <td>25731.3245</td>\n",
              "      <td>31491.0080</td>\n",
              "    </tr>\n",
              "    <tr>\n",
              "      <th>civil servant</th>\n",
              "      <td>21917.1980</td>\n",
              "      <td>29754.3915</td>\n",
              "    </tr>\n",
              "    <tr>\n",
              "      <th>employee</th>\n",
              "      <td>20898.4980</td>\n",
              "      <td>25945.7880</td>\n",
              "    </tr>\n",
              "    <tr>\n",
              "      <th>entrepreneur</th>\n",
              "      <td>79866.1030</td>\n",
              "      <td>NaN</td>\n",
              "    </tr>\n",
              "    <tr>\n",
              "      <th>paternity / maternity leave</th>\n",
              "      <td>8612.6610</td>\n",
              "      <td>NaN</td>\n",
              "    </tr>\n",
              "    <tr>\n",
              "      <th>retiree</th>\n",
              "      <td>18529.2465</td>\n",
              "      <td>20918.3620</td>\n",
              "    </tr>\n",
              "    <tr>\n",
              "      <th>student</th>\n",
              "      <td>NaN</td>\n",
              "      <td>15712.2600</td>\n",
              "    </tr>\n",
              "    <tr>\n",
              "      <th>unemployed</th>\n",
              "      <td>32435.6020</td>\n",
              "      <td>9593.1190</td>\n",
              "    </tr>\n",
              "  </tbody>\n",
              "</table>\n",
              "</div>"
            ],
            "text/plain": [
              "gender                                F           M\n",
              "income_type                                        \n",
              "business                     25731.3245  31491.0080\n",
              "civil servant                21917.1980  29754.3915\n",
              "employee                     20898.4980  25945.7880\n",
              "entrepreneur                 79866.1030         NaN\n",
              "paternity / maternity leave   8612.6610         NaN\n",
              "retiree                      18529.2465  20918.3620\n",
              "student                             NaN  15712.2600\n",
              "unemployed                   32435.6020   9593.1190"
            ]
          },
          "execution_count": 127,
          "metadata": {},
          "output_type": "execute_result"
        }
      ],
      "source": [
        "#verificando os fatores de tipo de renda e gênero\n",
        "dados_pivot = dados_new.pivot_table(index='income_type',\n",
        "                                    columns='gender',\n",
        "                                    values='total_income',\n",
        "                                    aggfunc='median')\n",
        "dados_pivot"
      ]
    },
    {
      "cell_type": "code",
      "execution_count": null,
      "metadata": {
        "id": "S8JwLXECePGY",
        "outputId": "1fa92b15-0551-420c-84b8-dfea10488b01"
      },
      "outputs": [
        {
          "data": {
            "text/plain": [
              "education\n",
              "Bachelor's Degree      33142.802434\n",
              "Graduate Degree        27960.024667\n",
              "Primary Education      21144.882211\n",
              "Secondary Education    24594.503037\n",
              "Some College           29040.132990\n",
              "Name: total_income, dtype: float64"
            ]
          },
          "execution_count": 128,
          "metadata": {},
          "output_type": "execute_result"
        }
      ],
      "source": [
        "#Outra forma de fazer com formato de tabela diferente\n",
        "dados_new.groupby('education')['total_income'].mean()"
      ]
    },
    {
      "cell_type": "markdown",
      "metadata": {
        "id": "MYAs-Jt3ePGY"
      },
      "source": [
        "- Ao analisar os fatores que podem influenciar a renda, consideramos diferentes aspectos presentes nas colunas do conjunto de dados, como idade, nível de educação, tipo de emprego e estado civil. Essa análise é importante porque nos permite identificar subgrupos de clientes com características semelhantes e calcular médias ou medianas específicas para cada subgrupo. Essa abordagem nos ajuda a preencher os valores ausentes de forma mais precisa, levando em consideração as diferenças nos fatores que afetam a renda. Por exemplo, é razoável supor que a idade tenha um impacto significativo na renda, assim como o nível de educação e o tipo de emprego. Portanto, ao realizar as comparações, levamos em conta essas variáveis-chave e seu potencial efeito na determinação da renda dos clientes."
      ]
    },
    {
      "cell_type": "markdown",
      "metadata": {
        "id": "emZ04HGJePGZ"
      },
      "source": [
        "- Ao analisar as tabelas, é difícil determinar com precisão qual característica individualmente define mais a renda. No entanto, considerando as informações disponíveis, podemos inferir que uma combinação de diferentes fatores é mais relevante para determinar a renda de uma pessoa. Características como o número de filhos (children), estado civil (family_status) e tipo de emprego (income_type) podem desempenhar um papel significativo na determinação da renda.\n",
        "- Quanto à escolha entre usar a mediana ou a média para substituir os valores ausentes, devemos levar em consideração a distribuição dos dados e a presença de possíveis outliers. Se a distribuição for aproximadamente simétrica e não houver valores extremos que distorçam significativamente os dados, a média pode ser uma opção adequada. No entanto, se houver uma distribuição assimétrica ou a presença de valores extremos que possam distorcer os resultados, a mediana é uma escolha melhor, pois ela é menos afetada por valores extremos e preserva melhor a tendência central dos dados."
      ]
    },
    {
      "cell_type": "code",
      "execution_count": null,
      "metadata": {
        "id": "mlEBjzvvePGZ"
      },
      "outputs": [],
      "source": [
        "#Escreva uma função que usaremos para preencher os valores ausentes\n",
        "#Usando a tabela pivot para preencher os valores ausentes o resultado e a mediana para esse grupo de pessoas com essas caracteristicas\n",
        "def aux_fill_nan(gender, income_type):\n",
        "    try:\n",
        "        return dados_pivot[gender][income_type]\n",
        "    except:\n",
        "        return 'Erro'\n",
        ""
      ]
    },
    {
      "cell_type": "code",
      "execution_count": null,
      "metadata": {
        "id": "OF5NUHQBePGZ",
        "outputId": "5bac91b7-bd49-4214-b8a5-39937fe4df81"
      },
      "outputs": [
        {
          "data": {
            "text/plain": [
              "25731.324500000002"
            ]
          },
          "execution_count": 130,
          "metadata": {},
          "output_type": "execute_result"
        }
      ],
      "source": [
        "#Acessando um valor específico na tabela pivot criada\n",
        "dados_pivot['F']['business']"
      ]
    },
    {
      "cell_type": "code",
      "execution_count": null,
      "metadata": {
        "id": "QnOL-D_UePGZ",
        "outputId": "784fabeb-0ff2-4fda-ce79-36048259a2a7"
      },
      "outputs": [
        {
          "data": {
            "text/plain": [
              "income_type\n",
              "business                       31491.0080\n",
              "civil servant                  29754.3915\n",
              "employee                       25945.7880\n",
              "entrepreneur                          NaN\n",
              "paternity / maternity leave           NaN\n",
              "retiree                        20918.3620\n",
              "student                        15712.2600\n",
              "unemployed                      9593.1190\n",
              "Name: M, dtype: float64"
            ]
          },
          "execution_count": 131,
          "metadata": {},
          "output_type": "execute_result"
        }
      ],
      "source": [
        "dados_pivot['M']"
      ]
    },
    {
      "cell_type": "code",
      "execution_count": null,
      "metadata": {
        "id": "IR_Qn8hhePGa",
        "outputId": "2f26ccfd-b9d0-4a4c-e703-ee9a2fccd80a"
      },
      "outputs": [
        {
          "data": {
            "text/plain": [
              "25731.324500000002"
            ]
          },
          "execution_count": 132,
          "metadata": {},
          "output_type": "execute_result"
        }
      ],
      "source": [
        "# Verifique se funciona\n",
        "aux_fill_nan(gender='F',income_type='business')\n"
      ]
    },
    {
      "cell_type": "code",
      "execution_count": null,
      "metadata": {
        "id": "LQXWanCYePGa"
      },
      "outputs": [],
      "source": [
        "# Aplique em todas as linhas\n",
        "dados_new['mediana_total_income'] = dados_new.apply(lambda row: aux_fill_nan(income_type=row['income_type'],\n",
        "                                                                             gender=row['gender']),\n",
        "                                                    axis=1)\n"
      ]
    },
    {
      "cell_type": "code",
      "execution_count": null,
      "metadata": {
        "id": "eoZ4AUIpePGa"
      },
      "outputs": [],
      "source": [
        "#Substituindo os valores\n",
        "dados_new['total_income'] = dados_new['total_income'].fillna(dados_new['mediana_total_income'])"
      ]
    },
    {
      "cell_type": "code",
      "execution_count": null,
      "metadata": {
        "id": "1CIvE7hbePGb",
        "outputId": "6413c93a-a700-4f5f-cefc-cf74cfccc615"
      },
      "outputs": [
        {
          "data": {
            "text/html": [
              "<div>\n",
              "<style scoped>\n",
              "    .dataframe tbody tr th:only-of-type {\n",
              "        vertical-align: middle;\n",
              "    }\n",
              "\n",
              "    .dataframe tbody tr th {\n",
              "        vertical-align: top;\n",
              "    }\n",
              "\n",
              "    .dataframe thead th {\n",
              "        text-align: right;\n",
              "    }\n",
              "</style>\n",
              "<table border=\"1\" class=\"dataframe\">\n",
              "  <thead>\n",
              "    <tr style=\"text-align: right;\">\n",
              "      <th></th>\n",
              "      <th>children</th>\n",
              "      <th>days_employed</th>\n",
              "      <th>dob_years</th>\n",
              "      <th>education</th>\n",
              "      <th>education_id</th>\n",
              "      <th>family_status</th>\n",
              "      <th>family_status_id</th>\n",
              "      <th>gender</th>\n",
              "      <th>income_type</th>\n",
              "      <th>debt</th>\n",
              "      <th>total_income</th>\n",
              "      <th>purpose</th>\n",
              "      <th>age_category</th>\n",
              "      <th>mediana_total_income</th>\n",
              "    </tr>\n",
              "  </thead>\n",
              "  <tbody>\n",
              "  </tbody>\n",
              "</table>\n",
              "</div>"
            ],
            "text/plain": [
              "Empty DataFrame\n",
              "Columns: [children, days_employed, dob_years, education, education_id, family_status, family_status_id, gender, income_type, debt, total_income, purpose, age_category, mediana_total_income]\n",
              "Index: []"
            ]
          },
          "execution_count": 135,
          "metadata": {},
          "output_type": "execute_result"
        }
      ],
      "source": [
        "# Verifique se temos algum erro\n",
        "dados_new[dados_new['total_income'] == 'Erro']"
      ]
    },
    {
      "cell_type": "markdown",
      "metadata": {
        "id": "x_CLZIC5ePGb"
      },
      "source": [
        "- Não foi encontrado erro ao preparar os valores para dados ausentes."
      ]
    },
    {
      "cell_type": "code",
      "execution_count": null,
      "metadata": {
        "id": "8Xq4ZfHjePGb"
      },
      "outputs": [],
      "source": [
        "# Substituir valores ausentes se houver algum erro"
      ]
    },
    {
      "cell_type": "code",
      "execution_count": null,
      "metadata": {
        "id": "JLMCYCyMePGc",
        "outputId": "5106365d-8641-41ac-8084-86b6d12ecab2"
      },
      "outputs": [
        {
          "data": {
            "text/plain": [
              "dtype('float64')"
            ]
          },
          "execution_count": 137,
          "metadata": {},
          "output_type": "execute_result"
        }
      ],
      "source": [
        "#Verificando se o tipo da coluna esta correto\n",
        "dados_new['total_income'].dtype"
      ]
    },
    {
      "cell_type": "code",
      "execution_count": null,
      "metadata": {
        "id": "g-NplzdkePGc",
        "outputId": "c57d22ba-0c07-45f0-a4f9-297fbd24cfa5"
      },
      "outputs": [
        {
          "data": {
            "text/html": [
              "<div>\n",
              "<style scoped>\n",
              "    .dataframe tbody tr th:only-of-type {\n",
              "        vertical-align: middle;\n",
              "    }\n",
              "\n",
              "    .dataframe tbody tr th {\n",
              "        vertical-align: top;\n",
              "    }\n",
              "\n",
              "    .dataframe thead th {\n",
              "        text-align: right;\n",
              "    }\n",
              "</style>\n",
              "<table border=\"1\" class=\"dataframe\">\n",
              "  <thead>\n",
              "    <tr style=\"text-align: right;\">\n",
              "      <th></th>\n",
              "      <th>children</th>\n",
              "      <th>days_employed</th>\n",
              "      <th>dob_years</th>\n",
              "      <th>education</th>\n",
              "      <th>education_id</th>\n",
              "      <th>family_status</th>\n",
              "      <th>family_status_id</th>\n",
              "      <th>gender</th>\n",
              "      <th>income_type</th>\n",
              "      <th>debt</th>\n",
              "      <th>total_income</th>\n",
              "      <th>purpose</th>\n",
              "      <th>age_category</th>\n",
              "      <th>mediana_total_income</th>\n",
              "    </tr>\n",
              "  </thead>\n",
              "  <tbody>\n",
              "    <tr>\n",
              "      <th>5931</th>\n",
              "      <td>0</td>\n",
              "      <td>NaN</td>\n",
              "      <td>58</td>\n",
              "      <td>Bachelor's Degree</td>\n",
              "      <td>0</td>\n",
              "      <td>married</td>\n",
              "      <td>0</td>\n",
              "      <td>M</td>\n",
              "      <td>entrepreneur</td>\n",
              "      <td>0</td>\n",
              "      <td>NaN</td>\n",
              "      <td>buy residential real estate</td>\n",
              "      <td>46-60</td>\n",
              "      <td>NaN</td>\n",
              "    </tr>\n",
              "  </tbody>\n",
              "</table>\n",
              "</div>"
            ],
            "text/plain": [
              "      children  days_employed  dob_years          education  education_id  \\\n",
              "5931         0            NaN         58  Bachelor's Degree             0   \n",
              "\n",
              "     family_status  family_status_id gender   income_type  debt  total_income  \\\n",
              "5931       married                 0      M  entrepreneur     0           NaN   \n",
              "\n",
              "                          purpose age_category  mediana_total_income  \n",
              "5931  buy residential real estate        46-60                   NaN  "
            ]
          },
          "execution_count": 138,
          "metadata": {},
          "output_type": "execute_result"
        }
      ],
      "source": [
        "dados_new[dados_new['total_income'].isna()]"
      ]
    },
    {
      "cell_type": "code",
      "execution_count": null,
      "metadata": {
        "id": "tefWxgjLePGc"
      },
      "outputs": [],
      "source": [
        "#Preenchendo os dados Nan da couna total_income com a mediana dos valores de 'M'\n",
        "dados_new['total_income'] = dados_new['total_income'].fillna(dados_new[dados_new['gender'] == 'M']['total_income'].median())\n"
      ]
    },
    {
      "cell_type": "code",
      "execution_count": null,
      "metadata": {
        "id": "7GUn7eXKePGd",
        "outputId": "0f6254aa-50d4-41b6-ddd5-821f4bb3a437"
      },
      "outputs": [
        {
          "data": {
            "text/plain": [
              "0"
            ]
          },
          "execution_count": 140,
          "metadata": {},
          "output_type": "execute_result"
        }
      ],
      "source": [
        "dados_new['total_income'].isna().sum()"
      ]
    },
    {
      "cell_type": "markdown",
      "metadata": {
        "id": "vQqpOrQYePGd"
      },
      "source": [
        "- Verificando se o número total de valores na coluna 'total_income' corresponde ao número de valores em outras colunas"
      ]
    },
    {
      "cell_type": "code",
      "execution_count": null,
      "metadata": {
        "id": "vLxo5Gu8ePGd",
        "outputId": "53e352ab-2bcd-4387-8125-6b77f3b9a50d"
      },
      "outputs": [
        {
          "data": {
            "text/plain": [
              "children                21453\n",
              "days_employed           19350\n",
              "dob_years               21453\n",
              "education               21453\n",
              "education_id            21453\n",
              "family_status           21453\n",
              "family_status_id        21453\n",
              "gender                  21453\n",
              "income_type             21453\n",
              "debt                    21453\n",
              "total_income            21453\n",
              "purpose                 21453\n",
              "age_category            21453\n",
              "mediana_total_income    21452\n",
              "dtype: int64"
            ]
          },
          "execution_count": 141,
          "metadata": {},
          "output_type": "execute_result"
        }
      ],
      "source": [
        "# Verificar o número de entradas nas colunas\n",
        "dados_new.count()"
      ]
    },
    {
      "cell_type": "markdown",
      "metadata": {
        "id": "myUJfGByePGd"
      },
      "source": [
        "###  Restaurar valores em `days_employed`"
      ]
    },
    {
      "cell_type": "markdown",
      "metadata": {
        "id": "3iL4P12-ePGe"
      },
      "source": [
        "- Para restaurar os valores ausentes na coluna 'days_employed', podemos considerar parâmetros como a idade, o tipo de emprego e o estado civil, que podem influenciar a renda. Em seguida, faremos uma análise da distribuição dos dados para determinar se devemos usar a média ou a mediana na substituição dos valores ausentes."
      ]
    },
    {
      "cell_type": "code",
      "execution_count": null,
      "metadata": {
        "pycharm": {
          "name": "#%%\n"
        },
        "id": "D2KnLrscePGe",
        "outputId": "26cbbc62-fcde-409c-ba11-3af3ed1311de"
      },
      "outputs": [
        {
          "data": {
            "text/html": [
              "<div>\n",
              "<style scoped>\n",
              "    .dataframe tbody tr th:only-of-type {\n",
              "        vertical-align: middle;\n",
              "    }\n",
              "\n",
              "    .dataframe tbody tr th {\n",
              "        vertical-align: top;\n",
              "    }\n",
              "\n",
              "    .dataframe thead th {\n",
              "        text-align: right;\n",
              "    }\n",
              "</style>\n",
              "<table border=\"1\" class=\"dataframe\">\n",
              "  <thead>\n",
              "    <tr style=\"text-align: right;\">\n",
              "      <th></th>\n",
              "      <th>gender</th>\n",
              "      <th>F</th>\n",
              "      <th>M</th>\n",
              "    </tr>\n",
              "    <tr>\n",
              "      <th>income_type</th>\n",
              "      <th>family_status</th>\n",
              "      <th></th>\n",
              "      <th></th>\n",
              "    </tr>\n",
              "  </thead>\n",
              "  <tbody>\n",
              "    <tr>\n",
              "      <th rowspan=\"5\" valign=\"top\">business</th>\n",
              "      <th>civil partnership</th>\n",
              "      <td>1406.527738</td>\n",
              "      <td>1359.016964</td>\n",
              "    </tr>\n",
              "    <tr>\n",
              "      <th>divorced</th>\n",
              "      <td>1520.532918</td>\n",
              "      <td>1837.252685</td>\n",
              "    </tr>\n",
              "    <tr>\n",
              "      <th>married</th>\n",
              "      <td>1686.419677</td>\n",
              "      <td>1587.696641</td>\n",
              "    </tr>\n",
              "    <tr>\n",
              "      <th>unmarried</th>\n",
              "      <td>1305.150018</td>\n",
              "      <td>1069.370722</td>\n",
              "    </tr>\n",
              "    <tr>\n",
              "      <th>widow / widower</th>\n",
              "      <td>2757.584181</td>\n",
              "      <td>1549.012430</td>\n",
              "    </tr>\n",
              "    <tr>\n",
              "      <th rowspan=\"5\" valign=\"top\">civil servant</th>\n",
              "      <th>civil partnership</th>\n",
              "      <td>2645.791195</td>\n",
              "      <td>2412.218805</td>\n",
              "    </tr>\n",
              "    <tr>\n",
              "      <th>divorced</th>\n",
              "      <td>2979.425067</td>\n",
              "      <td>2751.423468</td>\n",
              "    </tr>\n",
              "    <tr>\n",
              "      <th>married</th>\n",
              "      <td>2758.292954</td>\n",
              "      <td>2914.292293</td>\n",
              "    </tr>\n",
              "    <tr>\n",
              "      <th>unmarried</th>\n",
              "      <td>2165.130798</td>\n",
              "      <td>2103.355440</td>\n",
              "    </tr>\n",
              "    <tr>\n",
              "      <th>widow / widower</th>\n",
              "      <td>2830.224607</td>\n",
              "      <td>3046.540954</td>\n",
              "    </tr>\n",
              "    <tr>\n",
              "      <th rowspan=\"5\" valign=\"top\">employee</th>\n",
              "      <th>civil partnership</th>\n",
              "      <td>1726.948357</td>\n",
              "      <td>1289.359088</td>\n",
              "    </tr>\n",
              "    <tr>\n",
              "      <th>divorced</th>\n",
              "      <td>1629.346256</td>\n",
              "      <td>1319.492928</td>\n",
              "    </tr>\n",
              "    <tr>\n",
              "      <th>married</th>\n",
              "      <td>1809.885076</td>\n",
              "      <td>1530.385958</td>\n",
              "    </tr>\n",
              "    <tr>\n",
              "      <th>unmarried</th>\n",
              "      <td>1294.277533</td>\n",
              "      <td>1020.749261</td>\n",
              "    </tr>\n",
              "    <tr>\n",
              "      <th>widow / widower</th>\n",
              "      <td>2083.456926</td>\n",
              "      <td>1293.823205</td>\n",
              "    </tr>\n",
              "    <tr>\n",
              "      <th>entrepreneur</th>\n",
              "      <th>civil partnership</th>\n",
              "      <td>520.848083</td>\n",
              "      <td>NaN</td>\n",
              "    </tr>\n",
              "    <tr>\n",
              "      <th>paternity / maternity leave</th>\n",
              "      <th>married</th>\n",
              "      <td>3296.759962</td>\n",
              "      <td>NaN</td>\n",
              "    </tr>\n",
              "    <tr>\n",
              "      <th rowspan=\"5\" valign=\"top\">retiree</th>\n",
              "      <th>civil partnership</th>\n",
              "      <td>1630.019381</td>\n",
              "      <td>1630.019381</td>\n",
              "    </tr>\n",
              "    <tr>\n",
              "      <th>divorced</th>\n",
              "      <td>1630.019381</td>\n",
              "      <td>1630.019381</td>\n",
              "    </tr>\n",
              "    <tr>\n",
              "      <th>married</th>\n",
              "      <td>1630.019381</td>\n",
              "      <td>1630.019381</td>\n",
              "    </tr>\n",
              "    <tr>\n",
              "      <th>unmarried</th>\n",
              "      <td>1630.019381</td>\n",
              "      <td>1630.019381</td>\n",
              "    </tr>\n",
              "    <tr>\n",
              "      <th>widow / widower</th>\n",
              "      <td>1630.019381</td>\n",
              "      <td>1630.019381</td>\n",
              "    </tr>\n",
              "    <tr>\n",
              "      <th>student</th>\n",
              "      <th>unmarried</th>\n",
              "      <td>NaN</td>\n",
              "      <td>578.751554</td>\n",
              "    </tr>\n",
              "    <tr>\n",
              "      <th rowspan=\"2\" valign=\"top\">unemployed</th>\n",
              "      <th>civil partnership</th>\n",
              "      <td>1630.019381</td>\n",
              "      <td>NaN</td>\n",
              "    </tr>\n",
              "    <tr>\n",
              "      <th>married</th>\n",
              "      <td>NaN</td>\n",
              "      <td>1630.019381</td>\n",
              "    </tr>\n",
              "  </tbody>\n",
              "</table>\n",
              "</div>"
            ],
            "text/plain": [
              "gender                                                   F            M\n",
              "income_type                 family_status                              \n",
              "business                    civil partnership  1406.527738  1359.016964\n",
              "                            divorced           1520.532918  1837.252685\n",
              "                            married            1686.419677  1587.696641\n",
              "                            unmarried          1305.150018  1069.370722\n",
              "                            widow / widower    2757.584181  1549.012430\n",
              "civil servant               civil partnership  2645.791195  2412.218805\n",
              "                            divorced           2979.425067  2751.423468\n",
              "                            married            2758.292954  2914.292293\n",
              "                            unmarried          2165.130798  2103.355440\n",
              "                            widow / widower    2830.224607  3046.540954\n",
              "employee                    civil partnership  1726.948357  1289.359088\n",
              "                            divorced           1629.346256  1319.492928\n",
              "                            married            1809.885076  1530.385958\n",
              "                            unmarried          1294.277533  1020.749261\n",
              "                            widow / widower    2083.456926  1293.823205\n",
              "entrepreneur                civil partnership   520.848083          NaN\n",
              "paternity / maternity leave married            3296.759962          NaN\n",
              "retiree                     civil partnership  1630.019381  1630.019381\n",
              "                            divorced           1630.019381  1630.019381\n",
              "                            married            1630.019381  1630.019381\n",
              "                            unmarried          1630.019381  1630.019381\n",
              "                            widow / widower    1630.019381  1630.019381\n",
              "student                     unmarried                  NaN   578.751554\n",
              "unemployed                  civil partnership  1630.019381          NaN\n",
              "                            married                    NaN  1630.019381"
            ]
          },
          "execution_count": 142,
          "metadata": {},
          "output_type": "execute_result"
        }
      ],
      "source": [
        "# Distribuição de `days_employed` medianos com base nos seus parâmetros identificados\n",
        "dados_days_pivot = dados_new.pivot_table(index=['income_type','family_status'],\n",
        "                                         columns='gender',\n",
        "                                         values='days_employed',\n",
        "                                         aggfunc='median')\n",
        "dados_days_pivot\n"
      ]
    },
    {
      "cell_type": "code",
      "execution_count": null,
      "metadata": {
        "id": "4F3U3VggePGe",
        "outputId": "451fa9a1-ba29-4df9-bb48-33261d98e3b0"
      },
      "outputs": [
        {
          "data": {
            "text/html": [
              "<div>\n",
              "<style scoped>\n",
              "    .dataframe tbody tr th:only-of-type {\n",
              "        vertical-align: middle;\n",
              "    }\n",
              "\n",
              "    .dataframe tbody tr th {\n",
              "        vertical-align: top;\n",
              "    }\n",
              "\n",
              "    .dataframe thead th {\n",
              "        text-align: right;\n",
              "    }\n",
              "</style>\n",
              "<table border=\"1\" class=\"dataframe\">\n",
              "  <thead>\n",
              "    <tr style=\"text-align: right;\">\n",
              "      <th></th>\n",
              "      <th>gender</th>\n",
              "      <th>F</th>\n",
              "      <th>M</th>\n",
              "    </tr>\n",
              "    <tr>\n",
              "      <th>income_type</th>\n",
              "      <th>family_status</th>\n",
              "      <th></th>\n",
              "      <th></th>\n",
              "    </tr>\n",
              "  </thead>\n",
              "  <tbody>\n",
              "    <tr>\n",
              "      <th rowspan=\"5\" valign=\"top\">business</th>\n",
              "      <th>civil partnership</th>\n",
              "      <td>2020.299637</td>\n",
              "      <td>1979.626325</td>\n",
              "    </tr>\n",
              "    <tr>\n",
              "      <th>divorced</th>\n",
              "      <td>2139.071509</td>\n",
              "      <td>2464.725924</td>\n",
              "    </tr>\n",
              "    <tr>\n",
              "      <th>married</th>\n",
              "      <td>2259.179766</td>\n",
              "      <td>2120.650800</td>\n",
              "    </tr>\n",
              "    <tr>\n",
              "      <th>unmarried</th>\n",
              "      <td>1904.328947</td>\n",
              "      <td>1499.532900</td>\n",
              "    </tr>\n",
              "    <tr>\n",
              "      <th>widow / widower</th>\n",
              "      <td>3296.970459</td>\n",
              "      <td>1623.387558</td>\n",
              "    </tr>\n",
              "    <tr>\n",
              "      <th rowspan=\"5\" valign=\"top\">civil servant</th>\n",
              "      <th>civil partnership</th>\n",
              "      <td>3334.153552</td>\n",
              "      <td>2872.768769</td>\n",
              "    </tr>\n",
              "    <tr>\n",
              "      <th>divorced</th>\n",
              "      <td>3578.869543</td>\n",
              "      <td>3027.030399</td>\n",
              "    </tr>\n",
              "    <tr>\n",
              "      <th>married</th>\n",
              "      <td>3612.612263</td>\n",
              "      <td>3273.707837</td>\n",
              "    </tr>\n",
              "    <tr>\n",
              "      <th>unmarried</th>\n",
              "      <td>2853.686787</td>\n",
              "      <td>2455.142357</td>\n",
              "    </tr>\n",
              "    <tr>\n",
              "      <th>widow / widower</th>\n",
              "      <td>4284.836524</td>\n",
              "      <td>3046.540954</td>\n",
              "    </tr>\n",
              "    <tr>\n",
              "      <th rowspan=\"5\" valign=\"top\">employee</th>\n",
              "      <th>civil partnership</th>\n",
              "      <td>2456.194355</td>\n",
              "      <td>1849.608254</td>\n",
              "    </tr>\n",
              "    <tr>\n",
              "      <th>divorced</th>\n",
              "      <td>2556.298561</td>\n",
              "      <td>2002.291519</td>\n",
              "    </tr>\n",
              "    <tr>\n",
              "      <th>married</th>\n",
              "      <td>2609.963282</td>\n",
              "      <td>2209.984493</td>\n",
              "    </tr>\n",
              "    <tr>\n",
              "      <th>unmarried</th>\n",
              "      <td>2108.206367</td>\n",
              "      <td>1462.079977</td>\n",
              "    </tr>\n",
              "    <tr>\n",
              "      <th>widow / widower</th>\n",
              "      <td>2884.586465</td>\n",
              "      <td>1891.164923</td>\n",
              "    </tr>\n",
              "    <tr>\n",
              "      <th>entrepreneur</th>\n",
              "      <th>civil partnership</th>\n",
              "      <td>520.848083</td>\n",
              "      <td>NaN</td>\n",
              "    </tr>\n",
              "    <tr>\n",
              "      <th>paternity / maternity leave</th>\n",
              "      <th>married</th>\n",
              "      <td>3296.759962</td>\n",
              "      <td>NaN</td>\n",
              "    </tr>\n",
              "    <tr>\n",
              "      <th rowspan=\"5\" valign=\"top\">retiree</th>\n",
              "      <th>civil partnership</th>\n",
              "      <td>1630.019381</td>\n",
              "      <td>1630.019381</td>\n",
              "    </tr>\n",
              "    <tr>\n",
              "      <th>divorced</th>\n",
              "      <td>1630.019381</td>\n",
              "      <td>1630.019381</td>\n",
              "    </tr>\n",
              "    <tr>\n",
              "      <th>married</th>\n",
              "      <td>1630.019381</td>\n",
              "      <td>1630.019381</td>\n",
              "    </tr>\n",
              "    <tr>\n",
              "      <th>unmarried</th>\n",
              "      <td>1630.019381</td>\n",
              "      <td>1630.019381</td>\n",
              "    </tr>\n",
              "    <tr>\n",
              "      <th>widow / widower</th>\n",
              "      <td>1630.019381</td>\n",
              "      <td>1630.019381</td>\n",
              "    </tr>\n",
              "    <tr>\n",
              "      <th>student</th>\n",
              "      <th>unmarried</th>\n",
              "      <td>NaN</td>\n",
              "      <td>578.751554</td>\n",
              "    </tr>\n",
              "    <tr>\n",
              "      <th rowspan=\"2\" valign=\"top\">unemployed</th>\n",
              "      <th>civil partnership</th>\n",
              "      <td>1630.019381</td>\n",
              "      <td>NaN</td>\n",
              "    </tr>\n",
              "    <tr>\n",
              "      <th>married</th>\n",
              "      <td>NaN</td>\n",
              "      <td>1630.019381</td>\n",
              "    </tr>\n",
              "  </tbody>\n",
              "</table>\n",
              "</div>"
            ],
            "text/plain": [
              "gender                                                   F            M\n",
              "income_type                 family_status                              \n",
              "business                    civil partnership  2020.299637  1979.626325\n",
              "                            divorced           2139.071509  2464.725924\n",
              "                            married            2259.179766  2120.650800\n",
              "                            unmarried          1904.328947  1499.532900\n",
              "                            widow / widower    3296.970459  1623.387558\n",
              "civil servant               civil partnership  3334.153552  2872.768769\n",
              "                            divorced           3578.869543  3027.030399\n",
              "                            married            3612.612263  3273.707837\n",
              "                            unmarried          2853.686787  2455.142357\n",
              "                            widow / widower    4284.836524  3046.540954\n",
              "employee                    civil partnership  2456.194355  1849.608254\n",
              "                            divorced           2556.298561  2002.291519\n",
              "                            married            2609.963282  2209.984493\n",
              "                            unmarried          2108.206367  1462.079977\n",
              "                            widow / widower    2884.586465  1891.164923\n",
              "entrepreneur                civil partnership   520.848083          NaN\n",
              "paternity / maternity leave married            3296.759962          NaN\n",
              "retiree                     civil partnership  1630.019381  1630.019381\n",
              "                            divorced           1630.019381  1630.019381\n",
              "                            married            1630.019381  1630.019381\n",
              "                            unmarried          1630.019381  1630.019381\n",
              "                            widow / widower    1630.019381  1630.019381\n",
              "student                     unmarried                  NaN   578.751554\n",
              "unemployed                  civil partnership  1630.019381          NaN\n",
              "                            married                    NaN  1630.019381"
            ]
          },
          "execution_count": 143,
          "metadata": {},
          "output_type": "execute_result"
        }
      ],
      "source": [
        "# Distribuição de 'days_employed' médios com base nos seus parâmetros identificados\n",
        "dados_new.pivot_table(index=['income_type','family_status'],\n",
        "                                         columns='gender',\n",
        "                                         values='days_employed',\n",
        "                                         aggfunc='mean')"
      ]
    },
    {
      "cell_type": "markdown",
      "metadata": {
        "id": "sT82p6U0ePGe"
      },
      "source": [
        "- Irei utilizar a mediana, pois ela é uma medida robusta que não é influenciada por valores extremos, garantindo uma estimativa mais estável e representativa dos valores ausentes."
      ]
    },
    {
      "cell_type": "code",
      "execution_count": null,
      "metadata": {
        "id": "vxOFRxYgePGe"
      },
      "outputs": [],
      "source": [
        "# Vamos escrever uma função que calcule médias ou medianas (dependendo da sua decisão) com base no seu parâmetro identificado\n",
        "def calc_median(gender, income_type, family_status):\n",
        "    try:\n",
        "        return dados_days_pivot[gender][income_type][family_status]\n",
        "    except:\n",
        "        return 'Error'\n"
      ]
    },
    {
      "cell_type": "code",
      "execution_count": null,
      "metadata": {
        "id": "t0HZiOBOePGe",
        "outputId": "139c0074-6d5f-43c6-f026-cfba9b944476"
      },
      "outputs": [
        {
          "data": {
            "text/plain": [
              "1406.527737503944"
            ]
          },
          "execution_count": 145,
          "metadata": {},
          "output_type": "execute_result"
        }
      ],
      "source": [
        "# Verifique se a função funciona\n",
        "calc_median(gender='F',income_type='business', family_status='civil partnership')"
      ]
    },
    {
      "cell_type": "code",
      "execution_count": null,
      "metadata": {
        "id": "Kb7MJPuyePGf"
      },
      "outputs": [],
      "source": [
        "# Aplicar função ao income_type\n",
        "dados_new['days_employed'] = dados_new.apply(lambda row: calc_median(gender=row['gender'],\n",
        "                                                                     income_type=row['income_type'],\n",
        "                                                                     family_status=row['family_status']),\n",
        "                                             axis=1)"
      ]
    },
    {
      "cell_type": "code",
      "execution_count": null,
      "metadata": {
        "id": "3KWaFAROePGf",
        "outputId": "b9329942-6d62-47d3-dfdb-3148f0e55b6c"
      },
      "outputs": [
        {
          "data": {
            "text/plain": [
              "1530.3859575269482"
            ]
          },
          "execution_count": 147,
          "metadata": {},
          "output_type": "execute_result"
        }
      ],
      "source": [
        "#Filtro para homens na coluna gender e coluna days_employed != da string 'Error'\n",
        "dados_new[(dados_new['gender'] == 'M') & (dados_new['days_employed'] != 'Error')]['days_employed'].median()"
      ]
    },
    {
      "cell_type": "code",
      "execution_count": null,
      "metadata": {
        "id": "r5AYjms9ePGf"
      },
      "outputs": [],
      "source": [
        "#substituindo os valores 'Error' na coluna 'days_employed' pela mediana dos valores da coluna 'days_employed'\n",
        "dados_new['days_employed'] = dados_new['days_employed'].replace('Error',dados_new[(dados_new['gender'] == 'M') & (dados_new['days_employed'] != 'Error')]['days_employed'].median())\n"
      ]
    },
    {
      "cell_type": "code",
      "execution_count": null,
      "metadata": {
        "scrolled": true,
        "id": "Z5rM010LePGg",
        "outputId": "70b72a9e-a4c3-4782-da98-95aba50e7e19"
      },
      "outputs": [
        {
          "data": {
            "text/html": [
              "<div>\n",
              "<style scoped>\n",
              "    .dataframe tbody tr th:only-of-type {\n",
              "        vertical-align: middle;\n",
              "    }\n",
              "\n",
              "    .dataframe tbody tr th {\n",
              "        vertical-align: top;\n",
              "    }\n",
              "\n",
              "    .dataframe thead th {\n",
              "        text-align: right;\n",
              "    }\n",
              "</style>\n",
              "<table border=\"1\" class=\"dataframe\">\n",
              "  <thead>\n",
              "    <tr style=\"text-align: right;\">\n",
              "      <th></th>\n",
              "      <th>children</th>\n",
              "      <th>days_employed</th>\n",
              "      <th>dob_years</th>\n",
              "      <th>education</th>\n",
              "      <th>education_id</th>\n",
              "      <th>family_status</th>\n",
              "      <th>family_status_id</th>\n",
              "      <th>gender</th>\n",
              "      <th>income_type</th>\n",
              "      <th>debt</th>\n",
              "      <th>total_income</th>\n",
              "      <th>purpose</th>\n",
              "      <th>age_category</th>\n",
              "      <th>mediana_total_income</th>\n",
              "    </tr>\n",
              "  </thead>\n",
              "  <tbody>\n",
              "  </tbody>\n",
              "</table>\n",
              "</div>"
            ],
            "text/plain": [
              "Empty DataFrame\n",
              "Columns: [children, days_employed, dob_years, education, education_id, family_status, family_status_id, gender, income_type, debt, total_income, purpose, age_category, mediana_total_income]\n",
              "Index: []"
            ]
          },
          "execution_count": 149,
          "metadata": {},
          "output_type": "execute_result"
        }
      ],
      "source": [
        "#Verificando error\n",
        "dados_new[dados_new['days_employed'] == 'Error']"
      ]
    },
    {
      "cell_type": "code",
      "execution_count": null,
      "metadata": {
        "id": "_E41ay5xePGg",
        "outputId": "295d1342-a582-461d-cd12-44195c14f2a0"
      },
      "outputs": [
        {
          "data": {
            "text/plain": [
              "0"
            ]
          },
          "execution_count": 150,
          "metadata": {},
          "output_type": "execute_result"
        }
      ],
      "source": [
        "# Verifique se a função funcionou\n",
        "dados_new['days_employed'].isnull().sum()"
      ]
    },
    {
      "cell_type": "code",
      "execution_count": null,
      "metadata": {
        "id": "NPJK5M8uePGg",
        "outputId": "962161ff-0119-4671-9054-c6b6b8738124"
      },
      "outputs": [
        {
          "data": {
            "text/plain": [
              "0"
            ]
          },
          "execution_count": 151,
          "metadata": {},
          "output_type": "execute_result"
        }
      ],
      "source": [
        "# Substituir valores ausentes\n",
        "dados_new['days_employed'].isna().sum()"
      ]
    },
    {
      "cell_type": "markdown",
      "metadata": {
        "id": "64DOlLTcePGg"
      },
      "source": [
        "<div class=\"alert alert-block alert-success\">\n",
        "<b>Comentário da Revisora (revisão 1)</b> <a class=\"tocSkip\"></a>\n",
        "    \n",
        "Boa.\n",
        "</div>"
      ]
    },
    {
      "cell_type": "markdown",
      "metadata": {
        "id": "3-p0TespePGh"
      },
      "source": [
        "- Verificando se o número total de valores na coluna 'days_employed' corresponde ao número de valores em outras colunas."
      ]
    },
    {
      "cell_type": "code",
      "execution_count": null,
      "metadata": {
        "id": "3zkD4td8ePGh",
        "outputId": "bfde6997-ae78-4910-9da3-e33ef2ccf50b"
      },
      "outputs": [
        {
          "data": {
            "text/plain": [
              "children                21453\n",
              "days_employed           21453\n",
              "dob_years               21453\n",
              "education               21453\n",
              "education_id            21453\n",
              "family_status           21453\n",
              "family_status_id        21453\n",
              "gender                  21453\n",
              "income_type             21453\n",
              "debt                    21453\n",
              "total_income            21453\n",
              "purpose                 21453\n",
              "age_category            21453\n",
              "mediana_total_income    21452\n",
              "dtype: int64"
            ]
          },
          "execution_count": 152,
          "metadata": {},
          "output_type": "execute_result"
        }
      ],
      "source": [
        "# Verifique as entradas em todas as colunas - certifique-se de corrigir todos os valores ausentes\n",
        "dados_new.count()"
      ]
    },
    {
      "cell_type": "code",
      "execution_count": null,
      "metadata": {
        "id": "MZ3RUhmxePGh",
        "outputId": "d987ef97-8000-4d84-de64-e71fc8e611e7"
      },
      "outputs": [
        {
          "data": {
            "text/plain": [
              "children                0\n",
              "days_employed           0\n",
              "dob_years               0\n",
              "education               0\n",
              "education_id            0\n",
              "family_status           0\n",
              "family_status_id        0\n",
              "gender                  0\n",
              "income_type             0\n",
              "debt                    0\n",
              "total_income            0\n",
              "purpose                 0\n",
              "age_category            0\n",
              "mediana_total_income    1\n",
              "dtype: int64"
            ]
          },
          "execution_count": 153,
          "metadata": {},
          "output_type": "execute_result"
        }
      ],
      "source": [
        "dados_new.isna().sum()"
      ]
    },
    {
      "cell_type": "markdown",
      "metadata": {
        "id": "Wwo_WGdGePGh"
      },
      "source": [
        "- O único valor discrepante na coluna \"mediana_total_income\"apresentando um valor a menos é devido a um caso específico que não existe no conjunto de dados(já verificado quando a coluna foi criada). Essa diferença não está relacionada à ausência de valores, mas sim a um caso isolado que não foi considerado na criação dessa coluna. É importante mencionar que essa discrepância não afeta a análise geral dos dados e que a coluna \"mediana_total_income\" ainda fornece informações relevantes sobre a mediana da renda total dos clientes."
      ]
    },
    {
      "cell_type": "code",
      "execution_count": null,
      "metadata": {
        "id": "j8qlUJzWePGi",
        "outputId": "5cf4b3ca-5a73-4ccc-c835-6a131c866434"
      },
      "outputs": [
        {
          "name": "stdout",
          "output_type": "stream",
          "text": [
            "children                  int64\n",
            "days_employed           float64\n",
            "dob_years                 int64\n",
            "education                object\n",
            "education_id              int64\n",
            "family_status            object\n",
            "family_status_id          int64\n",
            "gender                   object\n",
            "income_type              object\n",
            "debt                      int64\n",
            "total_income            float64\n",
            "purpose                  object\n",
            "age_category             object\n",
            "mediana_total_income    float64\n",
            "dtype: object\n"
          ]
        }
      ],
      "source": [
        "print(dados_new.dtypes)"
      ]
    },
    {
      "cell_type": "markdown",
      "metadata": {
        "id": "CVgGdvxsePGi"
      },
      "source": [
        "#### Substituindo os dados do tipo número real para tipo inteiro"
      ]
    },
    {
      "cell_type": "code",
      "execution_count": null,
      "metadata": {
        "id": "exxviahCePGi"
      },
      "outputs": [],
      "source": [
        "dados_new['days_employed'] = dados_new['days_employed'].astype(int)\n",
        "dados_new['dob_years'] = dados_new['dob_years'].astype(int)\n",
        "dados_new['total_income'] = dados_new['total_income'].astype(int)\n",
        "dados_new['mediana_total_income'] = dados_new['mediana_total_income'].fillna(0).astype(int)"
      ]
    },
    {
      "cell_type": "code",
      "execution_count": null,
      "metadata": {
        "id": "TaiL-acAePGj",
        "outputId": "e7509452-24db-4c86-bb59-328f780ac1f0"
      },
      "outputs": [
        {
          "name": "stdout",
          "output_type": "stream",
          "text": [
            "children                 int64\n",
            "days_employed            int64\n",
            "dob_years                int64\n",
            "education               object\n",
            "education_id             int64\n",
            "family_status           object\n",
            "family_status_id         int64\n",
            "gender                  object\n",
            "income_type             object\n",
            "debt                     int64\n",
            "total_income             int64\n",
            "purpose                 object\n",
            "age_category            object\n",
            "mediana_total_income     int64\n",
            "dtype: object\n"
          ]
        }
      ],
      "source": [
        "print(dados_new.dtypes)"
      ]
    },
    {
      "cell_type": "markdown",
      "metadata": {
        "id": "jmzKVBNhePGj"
      },
      "source": [
        "## Categorização de dados\n",
        "\n",
        "- Para responder às perguntas e testar as hipóteses, categorizar os dados pode ser útil para facilitar a análise e a compreensão dos padrões e relações presentes nos dados. A categorização permite agrupar os dados em diferentes categorias ou grupos, o que pode ajudar a identificar tendências e realizar comparações entre os grupos."
      ]
    },
    {
      "cell_type": "code",
      "execution_count": null,
      "metadata": {
        "id": "tJvyM_KQePGj",
        "outputId": "62460ced-7b9b-4206-cb42-ed589e293c82"
      },
      "outputs": [
        {
          "data": {
            "text/html": [
              "<div>\n",
              "<style scoped>\n",
              "    .dataframe tbody tr th:only-of-type {\n",
              "        vertical-align: middle;\n",
              "    }\n",
              "\n",
              "    .dataframe tbody tr th {\n",
              "        vertical-align: top;\n",
              "    }\n",
              "\n",
              "    .dataframe thead th {\n",
              "        text-align: right;\n",
              "    }\n",
              "</style>\n",
              "<table border=\"1\" class=\"dataframe\">\n",
              "  <thead>\n",
              "    <tr style=\"text-align: right;\">\n",
              "      <th></th>\n",
              "      <th>children</th>\n",
              "      <th>days_employed</th>\n",
              "      <th>dob_years</th>\n",
              "      <th>education</th>\n",
              "      <th>education_id</th>\n",
              "      <th>family_status</th>\n",
              "      <th>family_status_id</th>\n",
              "      <th>gender</th>\n",
              "      <th>income_type</th>\n",
              "      <th>debt</th>\n",
              "      <th>total_income</th>\n",
              "      <th>purpose</th>\n",
              "      <th>age_category</th>\n",
              "      <th>mediana_total_income</th>\n",
              "    </tr>\n",
              "  </thead>\n",
              "  <tbody>\n",
              "    <tr>\n",
              "      <th>0</th>\n",
              "      <td>1</td>\n",
              "      <td>1809</td>\n",
              "      <td>42</td>\n",
              "      <td>Bachelor's Degree</td>\n",
              "      <td>0</td>\n",
              "      <td>married</td>\n",
              "      <td>0</td>\n",
              "      <td>F</td>\n",
              "      <td>employee</td>\n",
              "      <td>0</td>\n",
              "      <td>40620</td>\n",
              "      <td>purchase of the house</td>\n",
              "      <td>31-45</td>\n",
              "      <td>20898</td>\n",
              "    </tr>\n",
              "    <tr>\n",
              "      <th>1</th>\n",
              "      <td>1</td>\n",
              "      <td>1809</td>\n",
              "      <td>36</td>\n",
              "      <td>Secondary Education</td>\n",
              "      <td>1</td>\n",
              "      <td>married</td>\n",
              "      <td>0</td>\n",
              "      <td>F</td>\n",
              "      <td>employee</td>\n",
              "      <td>0</td>\n",
              "      <td>17932</td>\n",
              "      <td>car purchase</td>\n",
              "      <td>31-45</td>\n",
              "      <td>20898</td>\n",
              "    </tr>\n",
              "    <tr>\n",
              "      <th>2</th>\n",
              "      <td>0</td>\n",
              "      <td>1530</td>\n",
              "      <td>33</td>\n",
              "      <td>Secondary Education</td>\n",
              "      <td>1</td>\n",
              "      <td>married</td>\n",
              "      <td>0</td>\n",
              "      <td>M</td>\n",
              "      <td>employee</td>\n",
              "      <td>0</td>\n",
              "      <td>23341</td>\n",
              "      <td>purchase of the house</td>\n",
              "      <td>31-45</td>\n",
              "      <td>25945</td>\n",
              "    </tr>\n",
              "    <tr>\n",
              "      <th>3</th>\n",
              "      <td>3</td>\n",
              "      <td>1530</td>\n",
              "      <td>32</td>\n",
              "      <td>Secondary Education</td>\n",
              "      <td>1</td>\n",
              "      <td>married</td>\n",
              "      <td>0</td>\n",
              "      <td>M</td>\n",
              "      <td>employee</td>\n",
              "      <td>0</td>\n",
              "      <td>42820</td>\n",
              "      <td>supplementary education</td>\n",
              "      <td>31-45</td>\n",
              "      <td>25945</td>\n",
              "    </tr>\n",
              "    <tr>\n",
              "      <th>4</th>\n",
              "      <td>0</td>\n",
              "      <td>1630</td>\n",
              "      <td>53</td>\n",
              "      <td>Secondary Education</td>\n",
              "      <td>1</td>\n",
              "      <td>civil partnership</td>\n",
              "      <td>1</td>\n",
              "      <td>F</td>\n",
              "      <td>retiree</td>\n",
              "      <td>0</td>\n",
              "      <td>25378</td>\n",
              "      <td>to have a wedding</td>\n",
              "      <td>46-60</td>\n",
              "      <td>18529</td>\n",
              "    </tr>\n",
              "  </tbody>\n",
              "</table>\n",
              "</div>"
            ],
            "text/plain": [
              "   children  days_employed  dob_years            education  education_id  \\\n",
              "0         1           1809         42    Bachelor's Degree             0   \n",
              "1         1           1809         36  Secondary Education             1   \n",
              "2         0           1530         33  Secondary Education             1   \n",
              "3         3           1530         32  Secondary Education             1   \n",
              "4         0           1630         53  Secondary Education             1   \n",
              "\n",
              "       family_status  family_status_id gender income_type  debt  total_income  \\\n",
              "0            married                 0      F    employee     0         40620   \n",
              "1            married                 0      F    employee     0         17932   \n",
              "2            married                 0      M    employee     0         23341   \n",
              "3            married                 0      M    employee     0         42820   \n",
              "4  civil partnership                 1      F     retiree     0         25378   \n",
              "\n",
              "                   purpose age_category  mediana_total_income  \n",
              "0    purchase of the house        31-45                 20898  \n",
              "1             car purchase        31-45                 20898  \n",
              "2    purchase of the house        31-45                 25945  \n",
              "3  supplementary education        31-45                 25945  \n",
              "4        to have a wedding        46-60                 18529  "
            ]
          },
          "execution_count": 157,
          "metadata": {},
          "output_type": "execute_result"
        }
      ],
      "source": [
        "dados_new.head()"
      ]
    },
    {
      "cell_type": "code",
      "execution_count": null,
      "metadata": {
        "scrolled": true,
        "id": "CbtzMNvWePGj",
        "outputId": "393a7a9e-d0f4-439f-8daf-bcf298852b90"
      },
      "outputs": [
        {
          "data": {
            "text/plain": [
              "family_status\n",
              "civil partnership     4150\n",
              "divorced              1195\n",
              "married              12339\n",
              "unmarried             2810\n",
              "widow / widower        959\n",
              "Name: total_income, dtype: int64"
            ]
          },
          "execution_count": 158,
          "metadata": {},
          "output_type": "execute_result"
        }
      ],
      "source": [
        "# Imprima os valores dos dados selecionados para categorização\n",
        "#Categorizando por status familiar\n",
        "dados_new.groupby('family_status')['total_income'].count()"
      ]
    },
    {
      "cell_type": "code",
      "execution_count": null,
      "metadata": {
        "id": "NXAr0d5BePGj",
        "outputId": "ae2d57cc-ab8b-4e85-8528-baf49410bc49"
      },
      "outputs": [
        {
          "data": {
            "text/plain": [
              "'married'"
            ]
          },
          "execution_count": 159,
          "metadata": {},
          "output_type": "execute_result"
        }
      ],
      "source": [
        "max_family_status = dados_new.groupby('family_status')['total_income'].count().idxmax()\n",
        "max_family_status"
      ]
    },
    {
      "cell_type": "code",
      "execution_count": null,
      "metadata": {
        "id": "-cnx-941ePGk",
        "outputId": "a37dc8a5-19d4-482e-9705-4157499abcc3"
      },
      "outputs": [
        {
          "data": {
            "text/plain": [
              "children\n",
              "0    14090\n",
              "1     4855\n",
              "2     2128\n",
              "3      330\n",
              "4       41\n",
              "5        9\n",
              "Name: total_income, dtype: int64"
            ]
          },
          "execution_count": 160,
          "metadata": {},
          "output_type": "execute_result"
        }
      ],
      "source": [
        "#Categorizando pelo número de filhos\n",
        "dados_new.groupby('children')['total_income'].count()"
      ]
    },
    {
      "cell_type": "code",
      "execution_count": null,
      "metadata": {
        "id": "QhM7vuG6ePGk",
        "outputId": "95ce3330-dcb3-4d64-b745-131e411a0b25"
      },
      "outputs": [
        {
          "data": {
            "text/plain": [
              "0"
            ]
          },
          "execution_count": 161,
          "metadata": {},
          "output_type": "execute_result"
        }
      ],
      "source": [
        "max_children = dados_new.groupby('children')['total_income'].count().idxmax()\n",
        "max_children"
      ]
    },
    {
      "cell_type": "code",
      "execution_count": null,
      "metadata": {
        "id": "iBsZ4OwIePGk",
        "outputId": "b984c5fc-f6c4-4392-e141-cbf3c360824e"
      },
      "outputs": [
        {
          "data": {
            "text/plain": [
              "purpose\n",
              "building a property                         619\n",
              "building a real estate                      624\n",
              "buy commercial real estate                  661\n",
              "buy real estate                             620\n",
              "buy residential real estate                 606\n",
              "buying a second-hand car                    478\n",
              "buying my own car                           505\n",
              "buying property for renting out             651\n",
              "car                                         494\n",
              "car purchase                                461\n",
              "cars                                        478\n",
              "construction of own property                635\n",
              "education                                   447\n",
              "getting an education                        442\n",
              "getting higher education                    426\n",
              "going to university                         496\n",
              "having a wedding                            768\n",
              "housing                                     646\n",
              "housing renovation                          607\n",
              "housing transactions                        652\n",
              "profile education                           436\n",
              "property                                    633\n",
              "purchase of a car                           455\n",
              "purchase of my own house                    620\n",
              "purchase of the house                       646\n",
              "purchase of the house for my family         638\n",
              "real estate transactions                    675\n",
              "second-hand car purchase                    486\n",
              "supplementary education                     460\n",
              "to become educated                          408\n",
              "to buy a car                                471\n",
              "to get a supplementary education            446\n",
              "to have a wedding                           765\n",
              "to own a car                                478\n",
              "transactions with commercial real estate    650\n",
              "transactions with my real estate            627\n",
              "university education                        452\n",
              "wedding ceremony                            791\n",
              "Name: total_income, dtype: int64"
            ]
          },
          "execution_count": 162,
          "metadata": {},
          "output_type": "execute_result"
        }
      ],
      "source": [
        "#Categorizando pelo propósito de empréstimo\n",
        "dados_new.groupby('purpose')['total_income'].count()"
      ]
    },
    {
      "cell_type": "code",
      "execution_count": null,
      "metadata": {
        "id": "HwzpGd4oePGl",
        "outputId": "0c88dbf8-bcc2-4156-9911-8cf8ba1132ec"
      },
      "outputs": [
        {
          "data": {
            "text/plain": [
              "'wedding ceremony'"
            ]
          },
          "execution_count": 163,
          "metadata": {},
          "output_type": "execute_result"
        }
      ],
      "source": [
        "max_purpose = dados_new.groupby('purpose')['total_income'].count().idxmax()\n",
        "max_purpose"
      ]
    },
    {
      "cell_type": "markdown",
      "metadata": {
        "id": "jo8IbF8mePGl"
      },
      "source": [
        "- Verificando os valores exclusivos"
      ]
    },
    {
      "cell_type": "code",
      "execution_count": null,
      "metadata": {
        "id": "8LRqEiHDePGl",
        "outputId": "16566570-ec0e-4a13-a3eb-7b0927b9ba98"
      },
      "outputs": [
        {
          "data": {
            "text/plain": [
              "array([1, 0, 3, 2, 4, 5])"
            ]
          },
          "execution_count": 164,
          "metadata": {},
          "output_type": "execute_result"
        }
      ],
      "source": [
        "# Verifique os valores exclusivos\n",
        "dados_new['children'].unique()"
      ]
    },
    {
      "cell_type": "code",
      "execution_count": null,
      "metadata": {
        "id": "Pq3S7hdEePGl",
        "outputId": "151a73d4-73f9-4ab8-aa15-bc8754605be8"
      },
      "outputs": [
        {
          "data": {
            "text/plain": [
              "array(['married', 'civil partnership', 'widow / widower', 'divorced',\n",
              "       'unmarried'], dtype=object)"
            ]
          },
          "execution_count": 165,
          "metadata": {},
          "output_type": "execute_result"
        }
      ],
      "source": [
        "dados_new['family_status'].unique()"
      ]
    },
    {
      "cell_type": "code",
      "execution_count": null,
      "metadata": {
        "id": "rA0Z21UzePGm",
        "outputId": "d2f665cb-ea08-4323-82ec-3e0693bbba40"
      },
      "outputs": [
        {
          "data": {
            "text/plain": [
              "['building a property',\n",
              " 'building a real estate',\n",
              " 'buy commercial real estate',\n",
              " 'buy real estate',\n",
              " 'buy residential real estate',\n",
              " 'buying a second-hand car',\n",
              " 'buying my own car',\n",
              " 'buying property for renting out',\n",
              " 'car',\n",
              " 'car purchase',\n",
              " 'cars',\n",
              " 'construction of own property',\n",
              " 'education',\n",
              " 'getting an education',\n",
              " 'getting higher education',\n",
              " 'going to university',\n",
              " 'having a wedding',\n",
              " 'housing',\n",
              " 'housing renovation',\n",
              " 'housing transactions',\n",
              " 'profile education',\n",
              " 'property',\n",
              " 'purchase of a car',\n",
              " 'purchase of my own house',\n",
              " 'purchase of the house',\n",
              " 'purchase of the house for my family',\n",
              " 'real estate transactions',\n",
              " 'second-hand car purchase',\n",
              " 'supplementary education',\n",
              " 'to become educated',\n",
              " 'to buy a car',\n",
              " 'to get a supplementary education',\n",
              " 'to have a wedding',\n",
              " 'to own a car',\n",
              " 'transactions with commercial real estate',\n",
              " 'transactions with my real estate',\n",
              " 'university education',\n",
              " 'wedding ceremony']"
            ]
          },
          "execution_count": 166,
          "metadata": {},
          "output_type": "execute_result"
        }
      ],
      "source": [
        "sorted(dados_new['purpose'].unique())"
      ]
    },
    {
      "cell_type": "markdown",
      "metadata": {
        "id": "_jJG9DrLePGm"
      },
      "source": [
        "- Os principais grupos que aparecem são: married(family_status), sem filhos(children), cerimônia de casamento (purpose).\n",
        "\n",
        "\n",
        "- Vamos categorizar os dados com base nesses temas. Escolhi a coluna \"purpose\" para criar a função, pois percebi que existem propósitos semelhantes dispersos nessa coluna. Ao categorizar esses propósitos similares, podemos simplificar a análise e obter uma visão mais clara das principais categorias de propósitos para os quais os clientes solicitam empréstimos. Isso nos permitirá identificar padrões e tendências relevantes para nossa análise."
      ]
    },
    {
      "cell_type": "code",
      "execution_count": null,
      "metadata": {
        "id": "rBN9hyctePGm"
      },
      "outputs": [],
      "source": [
        "# Vamos escrever uma função para categorizar os dados com base em tópicos comuns\n",
        "#Categorizando pelo propósito\n",
        "def categorize_purpose(purpose):\n",
        "    if 'car' in purpose:\n",
        "        return 'Carro'\n",
        "    elif 'real estate' in purpose or 'property' in purpose or 'housing' in purpose:\n",
        "        return 'Imóvel'\n",
        "    elif 'education' in purpose or 'university' in purpose:\n",
        "        return 'Educação'\n",
        "    elif 'wedding' in purpose:\n",
        "        return 'Casamento'\n",
        "    else:\n",
        "        return 'Outros'"
      ]
    },
    {
      "cell_type": "code",
      "execution_count": null,
      "metadata": {
        "id": "Qc64fiZUePGm"
      },
      "outputs": [],
      "source": [
        "# Crie uma coluna com as categorias e conte os valores para elas\n",
        "dados['categoria_purpose'] = dados_new['purpose'].apply(categorize_purpose)"
      ]
    },
    {
      "cell_type": "code",
      "execution_count": null,
      "metadata": {
        "id": "HJPaYpKtePGn",
        "outputId": "76ac9d6d-9b03-486a-e0af-1108022bc134"
      },
      "outputs": [
        {
          "data": {
            "text/plain": [
              "Imóvel       8906\n",
              "Carro        4306\n",
              "Educação     3605\n",
              "Casamento    2324\n",
              "Outros       2312\n",
              "Name: categoria_purpose, dtype: int64"
            ]
          },
          "execution_count": 169,
          "metadata": {},
          "output_type": "execute_result"
        }
      ],
      "source": [
        "dados['categoria_purpose'].value_counts()"
      ]
    },
    {
      "cell_type": "markdown",
      "metadata": {
        "id": "ZVJ6ycM8ePGn"
      },
      "source": [
        "<div class=\"alert alert-block alert-success\">\n",
        "<b>Comentário da Revisora (revisão 1)</b> <a class=\"tocSkip\"></a>\n",
        "    \n",
        "Boa.\n",
        "</div>"
      ]
    },
    {
      "cell_type": "code",
      "execution_count": null,
      "metadata": {
        "id": "pyojN9Q0ePGo",
        "outputId": "6e3492d2-589d-49c0-8822-53d21340d4bc"
      },
      "outputs": [
        {
          "data": {
            "text/plain": [
              "count                21453\n",
              "unique                  38\n",
              "top       wedding ceremony\n",
              "freq                   791\n",
              "Name: purpose, dtype: object"
            ]
          },
          "execution_count": 170,
          "metadata": {},
          "output_type": "execute_result"
        }
      ],
      "source": [
        "# Examinar todos os dados numéricos em sua coluna selecionada para categorização\n",
        "dados_new['purpose'].describe()"
      ]
    },
    {
      "cell_type": "code",
      "execution_count": null,
      "metadata": {
        "id": "XCEaZJOuePGo",
        "outputId": "2e7aa070-dae6-4bdb-df3a-149632ff4e0e"
      },
      "outputs": [
        {
          "data": {
            "text/plain": [
              "count                21453\n",
              "unique                  38\n",
              "top       wedding ceremony\n",
              "freq                   791\n",
              "Name: purpose, dtype: object"
            ]
          },
          "execution_count": 171,
          "metadata": {},
          "output_type": "execute_result"
        }
      ],
      "source": [
        "# Obter estatísticas resumidas para a coluna\n",
        "dados_new['purpose'].describe()"
      ]
    },
    {
      "cell_type": "markdown",
      "metadata": {
        "id": "2VDZXQKWePGo"
      },
      "source": [
        "- Estou usando intervalos de classes de renda para categorizar a coluna \"total_income\". Defini os limites com base nos quantis da distribuição dos dados:\n",
        "    - O limiar para a categoria \"High\" foi definido como a renda mínima dos 5% mais ricos.\n",
        "    - A categoria \"Medium\" foi definida com base nos 40% mais ricos dos dados, utilizando o quantil 0.6 da coluna total_income.\n",
        "- Essa abordagem permite classificar os clientes em diferentes níveis de renda com base em sua posição relativa na distribuição de renda da amostra."
      ]
    },
    {
      "cell_type": "code",
      "execution_count": null,
      "metadata": {
        "id": "OqeDQM9uePGp"
      },
      "outputs": [],
      "source": [
        "#Criando variáveis para as faixas de classes de renda\n",
        "limiar_income_high = np.quantile(dados_new['total_income'], 0.95)\n",
        "limiar_income_medium_low = np.quantile(dados_new['total_income'], 0.6)\n",
        "limiar_income_medium_high = np.quantile(dados_new['total_income'],0.2)"
      ]
    },
    {
      "cell_type": "code",
      "execution_count": null,
      "metadata": {
        "id": "fD5f4T30ePGp"
      },
      "outputs": [],
      "source": [
        "# Criar função para categorização em diferentes grupos numéricos com base em intervalos\n",
        "#Pensa no problema\n",
        "def categorize_client(total_income):\n",
        "    if total_income <= limiar_income_medium_low:\n",
        "        return 'Low Income'\n",
        "    elif total_income <= limiar_income_medium_high:\n",
        "        return 'Below Median Income'\n",
        "    elif total_income <= limiar_income_high:\n",
        "        return 'Above Median Income'\n",
        "    else:\n",
        "        return 'High Income'\n"
      ]
    },
    {
      "cell_type": "code",
      "execution_count": null,
      "metadata": {
        "id": "-BVCs_X9ePGp",
        "outputId": "18cb40fd-b4ee-4a30-aa31-0ce8bfd2ec12"
      },
      "outputs": [
        {
          "data": {
            "text/plain": [
              "'Low Income'"
            ]
          },
          "execution_count": 174,
          "metadata": {},
          "output_type": "execute_result"
        }
      ],
      "source": [
        "#Testando a função\n",
        "categorize_client(17932.802)"
      ]
    },
    {
      "cell_type": "code",
      "execution_count": null,
      "metadata": {
        "id": "VLf5E5y7ePGp"
      },
      "outputs": [],
      "source": [
        "# Criar coluna com categorias\n",
        "dados_new['client_category'] = dados_new.apply(lambda row: categorize_client(row['total_income']), axis=1)"
      ]
    },
    {
      "cell_type": "code",
      "execution_count": null,
      "metadata": {
        "scrolled": true,
        "id": "SHU7hoB8ePGq",
        "outputId": "741d5ad5-fc52-4f73-c98f-957753b9a800"
      },
      "outputs": [
        {
          "data": {
            "text/html": [
              "<div>\n",
              "<style scoped>\n",
              "    .dataframe tbody tr th:only-of-type {\n",
              "        vertical-align: middle;\n",
              "    }\n",
              "\n",
              "    .dataframe tbody tr th {\n",
              "        vertical-align: top;\n",
              "    }\n",
              "\n",
              "    .dataframe thead tr th {\n",
              "        text-align: left;\n",
              "    }\n",
              "\n",
              "    .dataframe thead tr:last-of-type th {\n",
              "        text-align: right;\n",
              "    }\n",
              "</style>\n",
              "<table border=\"1\" class=\"dataframe\">\n",
              "  <thead>\n",
              "    <tr>\n",
              "      <th></th>\n",
              "      <th colspan=\"2\" halign=\"left\">debt</th>\n",
              "    </tr>\n",
              "    <tr>\n",
              "      <th></th>\n",
              "      <th>mean</th>\n",
              "      <th>count</th>\n",
              "    </tr>\n",
              "    <tr>\n",
              "      <th>client_category</th>\n",
              "      <th></th>\n",
              "      <th></th>\n",
              "    </tr>\n",
              "  </thead>\n",
              "  <tbody>\n",
              "    <tr>\n",
              "      <th>Above Median Income</th>\n",
              "      <td>0.079316</td>\n",
              "      <td>7136</td>\n",
              "    </tr>\n",
              "    <tr>\n",
              "      <th>High Income</th>\n",
              "      <td>0.069897</td>\n",
              "      <td>1073</td>\n",
              "    </tr>\n",
              "    <tr>\n",
              "      <th>Low Income</th>\n",
              "      <td>0.083056</td>\n",
              "      <td>13244</td>\n",
              "    </tr>\n",
              "  </tbody>\n",
              "</table>\n",
              "</div>"
            ],
            "text/plain": [
              "                         debt       \n",
              "                         mean  count\n",
              "client_category                     \n",
              "Above Median Income  0.079316   7136\n",
              "High Income          0.069897   1073\n",
              "Low Income           0.083056  13244"
            ]
          },
          "execution_count": 176,
          "metadata": {},
          "output_type": "execute_result"
        }
      ],
      "source": [
        "dados_new.groupby('client_category').agg({'debt': ['mean','count']})"
      ]
    },
    {
      "cell_type": "code",
      "execution_count": null,
      "metadata": {
        "scrolled": true,
        "id": "XQ-7ClfJePGq"
      },
      "outputs": [],
      "source": [
        "# Conte os valores de cada categoria para ver a distribuição\n",
        "#Valores calculados na tabela acima com método count()"
      ]
    },
    {
      "cell_type": "markdown",
      "metadata": {
        "id": "DZpA6WvLePGq"
      },
      "source": [
        "## Verificar as Hipóteses\n"
      ]
    },
    {
      "cell_type": "markdown",
      "metadata": {
        "id": "-OURoUEuePGq"
      },
      "source": [
        "**Existe uma correlação entre o nível de renda e do pagamento em dia?**\n",
        "- Com base nas análises abaixo e nos dados apresentados, podemos observar uma correlação entre o nível de renda e o pagamento em dia. As categorias \"High Income\" e \"Above Median Income\" apresentam uma média de pagamento em dia ('debt') menor em comparação com a categoria \"Low Income\". Isso indica que clientes com renda mais alta tendem a ter uma taxa de inadimplência menor, enquanto clientes com renda mais baixa têm uma taxa de inadimplência maior. Essa correlação sugere que a renda tem uma influência na capacidade dos clientes de cumprir seus compromissos financeiros. No entanto, é importante considerar que outros fatores podem estar envolvidos nessa relação e que essa análise é baseada nos dados fornecidos."
      ]
    },
    {
      "cell_type": "code",
      "execution_count": null,
      "metadata": {
        "id": "nc_mjkcaePGq"
      },
      "outputs": [],
      "source": [
        "#Função para analisar a hipótese(coluna em questão) e taxa de endividamento(coluna 'debt')\n",
        "def cria_tabela(hipotese):\n",
        "    return dados_new.groupby(hipotese).agg({'debt': ['mean','count']})"
      ]
    },
    {
      "cell_type": "code",
      "execution_count": null,
      "metadata": {
        "id": "-lN7wxFpePGr",
        "outputId": "02f73a36-5f98-43ab-8344-17f1e6ca0cc8"
      },
      "outputs": [
        {
          "data": {
            "text/html": [
              "<div>\n",
              "<style scoped>\n",
              "    .dataframe tbody tr th:only-of-type {\n",
              "        vertical-align: middle;\n",
              "    }\n",
              "\n",
              "    .dataframe tbody tr th {\n",
              "        vertical-align: top;\n",
              "    }\n",
              "\n",
              "    .dataframe thead tr th {\n",
              "        text-align: left;\n",
              "    }\n",
              "\n",
              "    .dataframe thead tr:last-of-type th {\n",
              "        text-align: right;\n",
              "    }\n",
              "</style>\n",
              "<table border=\"1\" class=\"dataframe\">\n",
              "  <thead>\n",
              "    <tr>\n",
              "      <th></th>\n",
              "      <th colspan=\"2\" halign=\"left\">debt</th>\n",
              "    </tr>\n",
              "    <tr>\n",
              "      <th></th>\n",
              "      <th>mean</th>\n",
              "      <th>count</th>\n",
              "    </tr>\n",
              "    <tr>\n",
              "      <th>client_category</th>\n",
              "      <th></th>\n",
              "      <th></th>\n",
              "    </tr>\n",
              "  </thead>\n",
              "  <tbody>\n",
              "    <tr>\n",
              "      <th>Above Median Income</th>\n",
              "      <td>7.931614</td>\n",
              "      <td>713600</td>\n",
              "    </tr>\n",
              "    <tr>\n",
              "      <th>High Income</th>\n",
              "      <td>6.989748</td>\n",
              "      <td>107300</td>\n",
              "    </tr>\n",
              "    <tr>\n",
              "      <th>Low Income</th>\n",
              "      <td>8.305648</td>\n",
              "      <td>1324400</td>\n",
              "    </tr>\n",
              "  </tbody>\n",
              "</table>\n",
              "</div>"
            ],
            "text/plain": [
              "                         debt         \n",
              "                         mean    count\n",
              "client_category                       \n",
              "Above Median Income  7.931614   713600\n",
              "High Income          6.989748   107300\n",
              "Low Income           8.305648  1324400"
            ]
          },
          "execution_count": 179,
          "metadata": {},
          "output_type": "execute_result"
        }
      ],
      "source": [
        "#Verificando os dados entre nível de renda(usando a categorias de income do cliente) e do pagamento em dia\n",
        "tabela_income_debt = cria_tabela('client_category')\n",
        "tabela_income_debt*100"
      ]
    },
    {
      "cell_type": "code",
      "execution_count": null,
      "metadata": {
        "id": "tQ8XqhbXePGr",
        "outputId": "43e1f0ce-3929-44bf-9f70-72b79605ce77"
      },
      "outputs": [
        {
          "data": {
            "text/html": [
              "<div>\n",
              "<style scoped>\n",
              "    .dataframe tbody tr th:only-of-type {\n",
              "        vertical-align: middle;\n",
              "    }\n",
              "\n",
              "    .dataframe tbody tr th {\n",
              "        vertical-align: top;\n",
              "    }\n",
              "\n",
              "    .dataframe thead tr th {\n",
              "        text-align: left;\n",
              "    }\n",
              "\n",
              "    .dataframe thead tr:last-of-type th {\n",
              "        text-align: right;\n",
              "    }\n",
              "</style>\n",
              "<table border=\"1\" class=\"dataframe\">\n",
              "  <thead>\n",
              "    <tr>\n",
              "      <th></th>\n",
              "      <th colspan=\"2\" halign=\"left\">debt</th>\n",
              "    </tr>\n",
              "    <tr>\n",
              "      <th></th>\n",
              "      <th>mean</th>\n",
              "      <th>count</th>\n",
              "    </tr>\n",
              "    <tr>\n",
              "      <th>children</th>\n",
              "      <th></th>\n",
              "      <th></th>\n",
              "    </tr>\n",
              "  </thead>\n",
              "  <tbody>\n",
              "    <tr>\n",
              "      <th>0</th>\n",
              "      <td>0.075444</td>\n",
              "      <td>14090</td>\n",
              "    </tr>\n",
              "    <tr>\n",
              "      <th>1</th>\n",
              "      <td>0.091658</td>\n",
              "      <td>4855</td>\n",
              "    </tr>\n",
              "    <tr>\n",
              "      <th>2</th>\n",
              "      <td>0.094925</td>\n",
              "      <td>2128</td>\n",
              "    </tr>\n",
              "    <tr>\n",
              "      <th>3</th>\n",
              "      <td>0.081818</td>\n",
              "      <td>330</td>\n",
              "    </tr>\n",
              "    <tr>\n",
              "      <th>4</th>\n",
              "      <td>0.097561</td>\n",
              "      <td>41</td>\n",
              "    </tr>\n",
              "    <tr>\n",
              "      <th>5</th>\n",
              "      <td>0.000000</td>\n",
              "      <td>9</td>\n",
              "    </tr>\n",
              "  </tbody>\n",
              "</table>\n",
              "</div>"
            ],
            "text/plain": [
              "              debt       \n",
              "              mean  count\n",
              "children                 \n",
              "0         0.075444  14090\n",
              "1         0.091658   4855\n",
              "2         0.094925   2128\n",
              "3         0.081818    330\n",
              "4         0.097561     41\n",
              "5         0.000000      9"
            ]
          },
          "execution_count": 180,
          "metadata": {},
          "output_type": "execute_result"
        }
      ],
      "source": [
        "# Verifique os dados das children e do pagamento em dia(debt)\n",
        "tabela_children_debt = cria_tabela('children')\n",
        "tabela_children_debt"
      ]
    },
    {
      "cell_type": "code",
      "execution_count": null,
      "metadata": {
        "id": "w7P1_mecePGr",
        "outputId": "9b87ad02-5e8f-46fa-f036-ac6c2d0f0cc8"
      },
      "outputs": [
        {
          "data": {
            "text/plain": [
              "children\n",
              "0    7.544358\n",
              "1    9.165808\n",
              "2    9.492481\n",
              "3    8.181818\n",
              "4    9.756098\n",
              "5    0.000000\n",
              "Name: mean, dtype: float64"
            ]
          },
          "execution_count": 181,
          "metadata": {},
          "output_type": "execute_result"
        }
      ],
      "source": [
        "# Calcular a taxa de inadimplência com base no número de filhos\n",
        "#A taxa de inadimplência corresponde a coluna mean da tabela acima\n",
        "tabela_children_debt['debt']['mean']*100"
      ]
    },
    {
      "cell_type": "markdown",
      "metadata": {
        "id": "_eddYUEyePGr"
      },
      "source": [
        "**Conclusão**\n",
        "\n",
        "- Com base nas análises realizadas nos dados, concluímos que existe uma relação entre o número de filhos e a taxa de inadimplência. Foi observado que, em geral, a taxa de inadimplência aumenta à medida que o número de filhos aumenta. No entanto, houve uma exceção interessante, onde a taxa de inadimplência foi menor para clientes com 3 filhos em comparação com aqueles com 1 ou 2 filhos. Essa diferença pode estar relacionada a fatores socioeconômicos ou comportamentais específicos desses clientes.\n",
        "\n",
        "\n",
        "- Além disso, é importante destacar que não foram identificados casos de inadimplência entre os clientes com 5 filhos. Isso pode indicar que esses clientes possuem uma gestão financeira mais cuidadosa ou estão em uma situação financeira mais estável que lhes permite cumprir seus compromissos."
      ]
    },
    {
      "cell_type": "markdown",
      "metadata": {
        "id": "cWQ1Ixs8ePGr"
      },
      "source": [
        "**Existe uma correlação entre o status familiar e o pagamento em dia?**\n",
        "- Com base nos dados fornecidos e as análises feitas, podemos analisar a possível correlação entre o status familiar e a taxa de inadimplência. Temos clientes solteiros e em parceria civil apresentando uma maior propensão à inadimplência em comparação aos clientes casados e viúvos.\n"
      ]
    },
    {
      "cell_type": "code",
      "execution_count": null,
      "metadata": {
        "id": "a8BBeDqEePGs",
        "outputId": "404f08f1-ae28-4b7d-f3ac-3a1a089f9682"
      },
      "outputs": [
        {
          "data": {
            "text/html": [
              "<div>\n",
              "<style scoped>\n",
              "    .dataframe tbody tr th:only-of-type {\n",
              "        vertical-align: middle;\n",
              "    }\n",
              "\n",
              "    .dataframe tbody tr th {\n",
              "        vertical-align: top;\n",
              "    }\n",
              "\n",
              "    .dataframe thead tr th {\n",
              "        text-align: left;\n",
              "    }\n",
              "\n",
              "    .dataframe thead tr:last-of-type th {\n",
              "        text-align: right;\n",
              "    }\n",
              "</style>\n",
              "<table border=\"1\" class=\"dataframe\">\n",
              "  <thead>\n",
              "    <tr>\n",
              "      <th></th>\n",
              "      <th colspan=\"2\" halign=\"left\">debt</th>\n",
              "    </tr>\n",
              "    <tr>\n",
              "      <th></th>\n",
              "      <th>mean</th>\n",
              "      <th>count</th>\n",
              "    </tr>\n",
              "    <tr>\n",
              "      <th>family_status</th>\n",
              "      <th></th>\n",
              "      <th></th>\n",
              "    </tr>\n",
              "  </thead>\n",
              "  <tbody>\n",
              "    <tr>\n",
              "      <th>civil partnership</th>\n",
              "      <td>0.093494</td>\n",
              "      <td>4150</td>\n",
              "    </tr>\n",
              "    <tr>\n",
              "      <th>divorced</th>\n",
              "      <td>0.071130</td>\n",
              "      <td>1195</td>\n",
              "    </tr>\n",
              "    <tr>\n",
              "      <th>married</th>\n",
              "      <td>0.075452</td>\n",
              "      <td>12339</td>\n",
              "    </tr>\n",
              "    <tr>\n",
              "      <th>unmarried</th>\n",
              "      <td>0.097509</td>\n",
              "      <td>2810</td>\n",
              "    </tr>\n",
              "    <tr>\n",
              "      <th>widow / widower</th>\n",
              "      <td>0.065693</td>\n",
              "      <td>959</td>\n",
              "    </tr>\n",
              "  </tbody>\n",
              "</table>\n",
              "</div>"
            ],
            "text/plain": [
              "                       debt       \n",
              "                       mean  count\n",
              "family_status                     \n",
              "civil partnership  0.093494   4150\n",
              "divorced           0.071130   1195\n",
              "married            0.075452  12339\n",
              "unmarried          0.097509   2810\n",
              "widow / widower    0.065693    959"
            ]
          },
          "execution_count": 182,
          "metadata": {},
          "output_type": "execute_result"
        }
      ],
      "source": [
        "# Verifique os dados de status da família e do pagamento em dia\n",
        "tabela_family_status_debt = cria_tabela('family_status')\n",
        "tabela_family_status_debt"
      ]
    },
    {
      "cell_type": "code",
      "execution_count": null,
      "metadata": {
        "id": "EtssnQkgePGs",
        "outputId": "741be15d-affe-4bb6-8eb2-a4584a098749"
      },
      "outputs": [
        {
          "data": {
            "text/plain": [
              "family_status\n",
              "civil partnership    9.349398\n",
              "divorced             7.112971\n",
              "married              7.545182\n",
              "unmarried            9.750890\n",
              "widow / widower      6.569343\n",
              "Name: mean, dtype: float64"
            ]
          },
          "execution_count": 183,
          "metadata": {},
          "output_type": "execute_result"
        }
      ],
      "source": [
        "# Calcular a taxa padrão com base no status da família\n",
        "#A taxa corresponde a coluna mean da tabela acima\n",
        "tabela_family_status_debt['debt']['mean']*100"
      ]
    },
    {
      "cell_type": "markdown",
      "metadata": {
        "id": "1Vnwf5xVePGs"
      },
      "source": [
        "**Conclusão**\n",
        "\n",
        "- Esses resultados sugerem que o estado civil pode desempenhar um papel na capacidade dos clientes de cumprir seus compromissos financeiros. No entanto, é importante ressaltar que essa correlação não é necessariamente causal e que outros fatores individuais e financeiros podem influenciar a taxa de inadimplência.\n",
        "\n",
        "- Portanto, é recomendado que instituições financeiras considerem o estado civil dos clientes como um dos fatores ao avaliar o risco de crédito, juntamente com outras informações relevantes. No entanto, é fundamental realizar análises mais aprofundadas e considerar múltiplos fatores antes de tomar decisões definitivas."
      ]
    },
    {
      "cell_type": "markdown",
      "metadata": {
        "id": "VlRB4IdIePGs"
      },
      "source": [
        "**Como a finalidade do crédito afeta a taxa de inadimplência?**\n",
        "- Com base na análise dos dados, pode-se observar que a finalidade do crédito tem influência na taxa de inadimplência dos clientes.\n",
        "    - Os resultados mostraram que as finalidades relacionadas à educação, como \"getting higher education\", \"profile education\" e \"supplementary education\", apresentaram taxas médias de inadimplência mais elevadas, variando de 8.30% a 11.46%. Isso pode ser atribuído a fatores como a duração prolongada dos estudos e potenciais dificuldades financeiras enfrentadas pelos indivíduos durante esse período.\n",
        "\n",
        "- Dessa forma, é recomendado que as instituições financeiras adotem uma abordagem cautelosa ao avaliar solicitações de empréstimo, levando em consideração não apenas a finalidade do crédito, mas também a situação financeira geral do cliente e seu histórico de crédito. Essa análise mais abrangente permitirá uma tomada de decisão mais precisa e uma redução dos riscos associados à inadimplência."
      ]
    },
    {
      "cell_type": "code",
      "execution_count": null,
      "metadata": {
        "id": "0pwTHboaePGt",
        "outputId": "64a0168a-339b-4376-f190-aa4c7a2a9268"
      },
      "outputs": [
        {
          "data": {
            "text/html": [
              "<div>\n",
              "<style scoped>\n",
              "    .dataframe tbody tr th:only-of-type {\n",
              "        vertical-align: middle;\n",
              "    }\n",
              "\n",
              "    .dataframe tbody tr th {\n",
              "        vertical-align: top;\n",
              "    }\n",
              "\n",
              "    .dataframe thead tr th {\n",
              "        text-align: left;\n",
              "    }\n",
              "\n",
              "    .dataframe thead tr:last-of-type th {\n",
              "        text-align: right;\n",
              "    }\n",
              "</style>\n",
              "<table border=\"1\" class=\"dataframe\">\n",
              "  <thead>\n",
              "    <tr>\n",
              "      <th></th>\n",
              "      <th colspan=\"2\" halign=\"left\">debt</th>\n",
              "    </tr>\n",
              "    <tr>\n",
              "      <th></th>\n",
              "      <th>mean</th>\n",
              "      <th>count</th>\n",
              "    </tr>\n",
              "    <tr>\n",
              "      <th>purpose</th>\n",
              "      <th></th>\n",
              "      <th></th>\n",
              "    </tr>\n",
              "  </thead>\n",
              "  <tbody>\n",
              "    <tr>\n",
              "      <th>building a property</th>\n",
              "      <td>0.087237</td>\n",
              "      <td>619</td>\n",
              "    </tr>\n",
              "    <tr>\n",
              "      <th>building a real estate</th>\n",
              "      <td>0.076923</td>\n",
              "      <td>624</td>\n",
              "    </tr>\n",
              "    <tr>\n",
              "      <th>buy commercial real estate</th>\n",
              "      <td>0.071104</td>\n",
              "      <td>661</td>\n",
              "    </tr>\n",
              "    <tr>\n",
              "      <th>buy real estate</th>\n",
              "      <td>0.069355</td>\n",
              "      <td>620</td>\n",
              "    </tr>\n",
              "    <tr>\n",
              "      <th>buy residential real estate</th>\n",
              "      <td>0.067657</td>\n",
              "      <td>606</td>\n",
              "    </tr>\n",
              "    <tr>\n",
              "      <th>buying a second-hand car</th>\n",
              "      <td>0.075314</td>\n",
              "      <td>478</td>\n",
              "    </tr>\n",
              "    <tr>\n",
              "      <th>buying my own car</th>\n",
              "      <td>0.091089</td>\n",
              "      <td>505</td>\n",
              "    </tr>\n",
              "    <tr>\n",
              "      <th>buying property for renting out</th>\n",
              "      <td>0.079877</td>\n",
              "      <td>651</td>\n",
              "    </tr>\n",
              "    <tr>\n",
              "      <th>car</th>\n",
              "      <td>0.085020</td>\n",
              "      <td>494</td>\n",
              "    </tr>\n",
              "    <tr>\n",
              "      <th>car purchase</th>\n",
              "      <td>0.091106</td>\n",
              "      <td>461</td>\n",
              "    </tr>\n",
              "    <tr>\n",
              "      <th>cars</th>\n",
              "      <td>0.092050</td>\n",
              "      <td>478</td>\n",
              "    </tr>\n",
              "    <tr>\n",
              "      <th>construction of own property</th>\n",
              "      <td>0.066142</td>\n",
              "      <td>635</td>\n",
              "    </tr>\n",
              "    <tr>\n",
              "      <th>education</th>\n",
              "      <td>0.071588</td>\n",
              "      <td>447</td>\n",
              "    </tr>\n",
              "    <tr>\n",
              "      <th>getting an education</th>\n",
              "      <td>0.083710</td>\n",
              "      <td>442</td>\n",
              "    </tr>\n",
              "    <tr>\n",
              "      <th>getting higher education</th>\n",
              "      <td>0.107981</td>\n",
              "      <td>426</td>\n",
              "    </tr>\n",
              "    <tr>\n",
              "      <th>going to university</th>\n",
              "      <td>0.086694</td>\n",
              "      <td>496</td>\n",
              "    </tr>\n",
              "    <tr>\n",
              "      <th>having a wedding</th>\n",
              "      <td>0.083333</td>\n",
              "      <td>768</td>\n",
              "    </tr>\n",
              "    <tr>\n",
              "      <th>housing</th>\n",
              "      <td>0.071207</td>\n",
              "      <td>646</td>\n",
              "    </tr>\n",
              "    <tr>\n",
              "      <th>housing renovation</th>\n",
              "      <td>0.057661</td>\n",
              "      <td>607</td>\n",
              "    </tr>\n",
              "    <tr>\n",
              "      <th>housing transactions</th>\n",
              "      <td>0.073620</td>\n",
              "      <td>652</td>\n",
              "    </tr>\n",
              "    <tr>\n",
              "      <th>profile education</th>\n",
              "      <td>0.100917</td>\n",
              "      <td>436</td>\n",
              "    </tr>\n",
              "    <tr>\n",
              "      <th>property</th>\n",
              "      <td>0.066351</td>\n",
              "      <td>633</td>\n",
              "    </tr>\n",
              "    <tr>\n",
              "      <th>purchase of a car</th>\n",
              "      <td>0.109890</td>\n",
              "      <td>455</td>\n",
              "    </tr>\n",
              "    <tr>\n",
              "      <th>purchase of my own house</th>\n",
              "      <td>0.054839</td>\n",
              "      <td>620</td>\n",
              "    </tr>\n",
              "    <tr>\n",
              "      <th>purchase of the house</th>\n",
              "      <td>0.074303</td>\n",
              "      <td>646</td>\n",
              "    </tr>\n",
              "    <tr>\n",
              "      <th>purchase of the house for my family</th>\n",
              "      <td>0.070533</td>\n",
              "      <td>638</td>\n",
              "    </tr>\n",
              "    <tr>\n",
              "      <th>real estate transactions</th>\n",
              "      <td>0.081481</td>\n",
              "      <td>675</td>\n",
              "    </tr>\n",
              "    <tr>\n",
              "      <th>second-hand car purchase</th>\n",
              "      <td>0.104938</td>\n",
              "      <td>486</td>\n",
              "    </tr>\n",
              "    <tr>\n",
              "      <th>supplementary education</th>\n",
              "      <td>0.082609</td>\n",
              "      <td>460</td>\n",
              "    </tr>\n",
              "    <tr>\n",
              "      <th>to become educated</th>\n",
              "      <td>0.095588</td>\n",
              "      <td>408</td>\n",
              "    </tr>\n",
              "    <tr>\n",
              "      <th>to buy a car</th>\n",
              "      <td>0.093418</td>\n",
              "      <td>471</td>\n",
              "    </tr>\n",
              "    <tr>\n",
              "      <th>to get a supplementary education</th>\n",
              "      <td>0.114350</td>\n",
              "      <td>446</td>\n",
              "    </tr>\n",
              "    <tr>\n",
              "      <th>to have a wedding</th>\n",
              "      <td>0.075817</td>\n",
              "      <td>765</td>\n",
              "    </tr>\n",
              "    <tr>\n",
              "      <th>to own a car</th>\n",
              "      <td>0.100418</td>\n",
              "      <td>478</td>\n",
              "    </tr>\n",
              "    <tr>\n",
              "      <th>transactions with commercial real estate</th>\n",
              "      <td>0.080000</td>\n",
              "      <td>650</td>\n",
              "    </tr>\n",
              "    <tr>\n",
              "      <th>transactions with my real estate</th>\n",
              "      <td>0.079745</td>\n",
              "      <td>627</td>\n",
              "    </tr>\n",
              "    <tr>\n",
              "      <th>university education</th>\n",
              "      <td>0.088496</td>\n",
              "      <td>452</td>\n",
              "    </tr>\n",
              "    <tr>\n",
              "      <th>wedding ceremony</th>\n",
              "      <td>0.080910</td>\n",
              "      <td>791</td>\n",
              "    </tr>\n",
              "  </tbody>\n",
              "</table>\n",
              "</div>"
            ],
            "text/plain": [
              "                                              debt      \n",
              "                                              mean count\n",
              "purpose                                                 \n",
              "building a property                       0.087237   619\n",
              "building a real estate                    0.076923   624\n",
              "buy commercial real estate                0.071104   661\n",
              "buy real estate                           0.069355   620\n",
              "buy residential real estate               0.067657   606\n",
              "buying a second-hand car                  0.075314   478\n",
              "buying my own car                         0.091089   505\n",
              "buying property for renting out           0.079877   651\n",
              "car                                       0.085020   494\n",
              "car purchase                              0.091106   461\n",
              "cars                                      0.092050   478\n",
              "construction of own property              0.066142   635\n",
              "education                                 0.071588   447\n",
              "getting an education                      0.083710   442\n",
              "getting higher education                  0.107981   426\n",
              "going to university                       0.086694   496\n",
              "having a wedding                          0.083333   768\n",
              "housing                                   0.071207   646\n",
              "housing renovation                        0.057661   607\n",
              "housing transactions                      0.073620   652\n",
              "profile education                         0.100917   436\n",
              "property                                  0.066351   633\n",
              "purchase of a car                         0.109890   455\n",
              "purchase of my own house                  0.054839   620\n",
              "purchase of the house                     0.074303   646\n",
              "purchase of the house for my family       0.070533   638\n",
              "real estate transactions                  0.081481   675\n",
              "second-hand car purchase                  0.104938   486\n",
              "supplementary education                   0.082609   460\n",
              "to become educated                        0.095588   408\n",
              "to buy a car                              0.093418   471\n",
              "to get a supplementary education          0.114350   446\n",
              "to have a wedding                         0.075817   765\n",
              "to own a car                              0.100418   478\n",
              "transactions with commercial real estate  0.080000   650\n",
              "transactions with my real estate          0.079745   627\n",
              "university education                      0.088496   452\n",
              "wedding ceremony                          0.080910   791"
            ]
          },
          "execution_count": 184,
          "metadata": {},
          "output_type": "execute_result"
        }
      ],
      "source": [
        "# Confira os percentuais de inadimplência para cada finalidade de crédito e analise-os\n",
        "tabela_purpose_debt = cria_tabela('purpose')\n",
        "tabela_purpose_debt"
      ]
    },
    {
      "cell_type": "code",
      "execution_count": null,
      "metadata": {
        "id": "eHDeuBH1ePGt",
        "outputId": "b2b88670-ef75-40ef-d0e2-00f3f42b551e"
      },
      "outputs": [
        {
          "data": {
            "text/plain": [
              "purpose\n",
              "building a property                          8.723748\n",
              "building a real estate                       7.692308\n",
              "buy commercial real estate                   7.110439\n",
              "buy real estate                              6.935484\n",
              "buy residential real estate                  6.765677\n",
              "buying a second-hand car                     7.531381\n",
              "buying my own car                            9.108911\n",
              "buying property for renting out              7.987711\n",
              "car                                          8.502024\n",
              "car purchase                                 9.110629\n",
              "cars                                         9.205021\n",
              "construction of own property                 6.614173\n",
              "education                                    7.158837\n",
              "getting an education                         8.371041\n",
              "getting higher education                    10.798122\n",
              "going to university                          8.669355\n",
              "having a wedding                             8.333333\n",
              "housing                                      7.120743\n",
              "housing renovation                           5.766063\n",
              "housing transactions                         7.361963\n",
              "profile education                           10.091743\n",
              "property                                     6.635071\n",
              "purchase of a car                           10.989011\n",
              "purchase of my own house                     5.483871\n",
              "purchase of the house                        7.430341\n",
              "purchase of the house for my family          7.053292\n",
              "real estate transactions                     8.148148\n",
              "second-hand car purchase                    10.493827\n",
              "supplementary education                      8.260870\n",
              "to become educated                           9.558824\n",
              "to buy a car                                 9.341826\n",
              "to get a supplementary education            11.434978\n",
              "to have a wedding                            7.581699\n",
              "to own a car                                10.041841\n",
              "transactions with commercial real estate     8.000000\n",
              "transactions with my real estate             7.974482\n",
              "university education                         8.849558\n",
              "wedding ceremony                             8.091024\n",
              "Name: mean, dtype: float64"
            ]
          },
          "execution_count": 185,
          "metadata": {},
          "output_type": "execute_result"
        }
      ],
      "source": [
        "tabela_purpose_debt['debt']['mean']*100"
      ]
    },
    {
      "cell_type": "code",
      "execution_count": null,
      "metadata": {
        "id": "G58ehrWNePGt"
      },
      "outputs": [],
      "source": []
    },
    {
      "cell_type": "markdown",
      "metadata": {
        "id": "XF8xI4ZpePGt"
      },
      "source": [
        "**Conclusão**\n",
        "\n",
        "- Com base nas manipulações e observações realizadas, podemos concluir que a finalidade do crédito pode ter uma influência na taxa de inadimplência, mas não é o único fator determinante. Houve variações na taxa de inadimplência entre diferentes categorias de finalidade, indicando que alguns propósitos podem estar associados a um maior risco de inadimplência.\n",
        "- É recomendado que as instituições financeiras adotem políticas de avaliação de crédito sólidas e criteriosas, considerando diversos fatores e realizando análises mais detalhadas para identificar e gerenciar os riscos de inadimplência. Isso garantirá uma maior segurança nas operações de crédito e contribuirá para uma gestão eficiente dos recursos financeiros."
      ]
    },
    {
      "cell_type": "markdown",
      "metadata": {
        "id": "k4ZefaI-ePGt"
      },
      "source": [
        "# Conclusão Geral\n",
        "\n",
        "\n",
        "- Durante a análise deste conjunto de dados, identificamos alguns valores ausentes em diversas colunas. Os campos com valores ausentes foram: 'days_employed', 'total_income'. A ausência desses valores pode ser atribuída a diferentes razões, como problemas técnicos durante a coleta de dados, falhas no registro das informações ou clientes que optaram por não fornecer certas informações pessoais.\n",
        "- Para lidar com os valores ausentes, adotamos diferentes abordagens. Para as colunas 'days_employed' e 'total_income', preenchemos os valores ausentes com as respectivas medianas, com base nas categorias de gênero. Essa escolha foi feita levando em consideração a natureza das variáveis e a presença de possíveis valores discrepantes.\n",
        "- Quanto à identificação e exclusão de dados duplicados, utilizamos o método 'drop_duplicates()' do pandas. Duplicatas podem ocorrer devido a erros no processo de entrada de dados ou a repetições na coleta dos dados. A remoção desses dados duplicados foi essencial para garantir a integridade e a precisão dos resultados da análise.\n",
        "- Ao longo da análise, também realizamos alterações nos tipos de dados das colunas convertendo as colunas para o tipo de dado inteiro.\n",
        "- Para a categorização dos dados, selecionamos dicionários específicos para algumas colunas, como 'education', 'family_status' e 'purpose'. Essa escolha foi baseada na necessidade de agrupar e analisar os dados de maneira mais significativa e compreensível, fornecendo insights sobre a relação entre essas variáveis e a taxa de inadimplência.\n",
        "- Essas etapas de pré-processamento foram essenciais para garantir a confiabilidade dos resultados e fornecer informações relevantes para a tomada de decisões no contexto financeiro. No entanto, é importante ressaltar que a análise de dados é um processo contínuo e, em futuras análises, outras questões e ajustes podem surgir, exigindo abordagens específicas para obter resultados ainda mais precisos e confiáveis."
      ]
    },
    {
      "cell_type": "markdown",
      "metadata": {
        "id": "wyC-O2aPePGu"
      },
      "source": [
        "#### Com base na análise realizada, podemos tirar as seguintes conclusões em relação às perguntas feitas:\n",
        "\n",
        "- Ter filhos parece ter uma correlação negativa com o pagamento pontual de um empréstimo. Os clientes que têm filhos têm uma taxa de inadimplência mais alta em comparação com aqueles que não têm filhos. No entanto, é importante ressaltar que esta correlação não é necessariamente causal e outros fatores podem influenciar a taxa de inadimplência.\n",
        "\n",
        "- O estado civil também parece ter uma correlação negativa com o pagamento pontual de um empréstimo. Os clientes que são divorciados, viúvos ou solteiros têm uma taxa de inadimplência mais alta em comparação com os casados. No entanto, assim como no caso anterior, é importante ressaltar que esta correlação não é necessariamente causal e outros fatores podem influenciar a taxa de inadimplência.\n",
        "\n",
        "- Em relação ao nível de renda, os dados sugerem que existe uma correlação negativa entre o nível de renda e a taxa de inadimplência. Quanto menor a renda do cliente, maior a taxa de inadimplência. No entanto, é importante ressaltar que esta correlação não é necessariamente causal e outros fatores podem influenciar a taxa de inadimplência.\n",
        "\n",
        "- A finalidade do empréstimo também parece ter uma influência significativa na taxa de inadimplência. Os clientes que pegam empréstimos para a compra de carros têm uma taxa de inadimplência mais alta em comparação com aqueles que pegam empréstimos para a compra de imóveis ou para educação. No entanto, é importante ressaltar que esta correlação não é necessariamente causal e outros fatores podem influenciar a taxa de inadimplência.\n",
        "\n",
        "###### Em resumo, a análise dos dados sugere que há várias variáveis que podem influenciar a taxa de inadimplência, como o estado civil, ter filhos, a finalidade do empréstimo e a renda. No entanto, é importante enfatizar que essas correlações não são necessariamente causais e que a análise de risco de empréstimos deve considerar vários fatores antes de tomar uma decisão final."
      ]
    }
  ],
  "metadata": {
    "ExecuteTimeLog": [
      {
        "duration": 2741,
        "start_time": "2021-10-21T01:08:49.480Z"
      },
      {
        "duration": 52,
        "start_time": "2021-10-21T01:08:53.315Z"
      },
      {
        "duration": 49,
        "start_time": "2021-10-21T01:08:57.432Z"
      },
      {
        "duration": 70,
        "start_time": "2021-10-21T01:09:07.706Z"
      }
    ],
    "kernelspec": {
      "display_name": "Python 3 (ipykernel)",
      "language": "python",
      "name": "python3"
    },
    "language_info": {
      "codemirror_mode": {
        "name": "ipython",
        "version": 3
      },
      "file_extension": ".py",
      "mimetype": "text/x-python",
      "name": "python",
      "nbconvert_exporter": "python",
      "pygments_lexer": "ipython3",
      "version": "3.10.9"
    },
    "toc": {
      "base_numbering": 1,
      "nav_menu": {},
      "number_sections": true,
      "sideBar": true,
      "skip_h1_title": true,
      "title_cell": "Table of Contents",
      "title_sidebar": "Contents",
      "toc_cell": false,
      "toc_position": {},
      "toc_section_display": true,
      "toc_window_display": false
    },
    "colab": {
      "provenance": [],
      "include_colab_link": true
    }
  },
  "nbformat": 4,
  "nbformat_minor": 0
}